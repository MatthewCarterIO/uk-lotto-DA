{
 "cells": [
  {
   "cell_type": "markdown",
   "metadata": {},
   "source": [
    "# UK Lotto Results Analysis"
   ]
  },
  {
   "cell_type": "markdown",
   "metadata": {},
   "source": [
    "Author: Matthew Carter"
   ]
  },
  {
   "cell_type": "markdown",
   "metadata": {},
   "source": [
    "## Introduction"
   ]
  },
  {
   "cell_type": "markdown",
   "metadata": {},
   "source": [
    "The UK Lotto has been run by The National Lottery since 1994 and there are currently draws twice a week. Players choose six balls, aiming to match them with the six main balls in the draw to win the jackpot. Including a bonus ball, seven balls in total are drawn. Smaller prizes are won from matching two or more main balls.\n",
    "\n",
    "In this analysis I look at the draws since the new Lotto format was introduced on the 8th October 2015, which increased the number of balls in the draw from 49 to 59."
   ]
  },
  {
   "cell_type": "markdown",
   "metadata": {},
   "source": [
    "## Importing the dataset"
   ]
  },
  {
   "cell_type": "markdown",
   "metadata": {},
   "source": [
    "Lotto results for this project have been collected using my __[uk_lotto_scraper.py](https://github.com/MatthewCarterIO/uk-lotto-DA/blob/master/uk_lotto_scraper.py)__ file from the __[lottery.co.uk](https://www.lottery.co.uk/lotto/results)__ website (for personal use in this analysis only)."
   ]
  },
  {
   "cell_type": "code",
   "execution_count": 1,
   "metadata": {},
   "outputs": [],
   "source": [
    "# Common Python packages that will be used throughout project.\n",
    "import pandas as pd\n",
    "import numpy as np\n",
    "import matplotlib.pyplot as plt\n",
    "import random\n",
    "from ast import literal_eval\n",
    "from datetime import datetime\n",
    "from collections import Counter\n",
    "from itertools import combinations"
   ]
  },
  {
   "cell_type": "code",
   "execution_count": 2,
   "metadata": {},
   "outputs": [
    {
     "data": {
      "text/html": [
       "<div>\n",
       "<style scoped>\n",
       "    .dataframe tbody tr th:only-of-type {\n",
       "        vertical-align: middle;\n",
       "    }\n",
       "\n",
       "    .dataframe tbody tr th {\n",
       "        vertical-align: top;\n",
       "    }\n",
       "\n",
       "    .dataframe thead th {\n",
       "        text-align: right;\n",
       "    }\n",
       "</style>\n",
       "<table border=\"1\" class=\"dataframe\">\n",
       "  <thead>\n",
       "    <tr style=\"text-align: right;\">\n",
       "      <th></th>\n",
       "      <th>draw_date</th>\n",
       "      <th>main_balls</th>\n",
       "      <th>bonus_ball</th>\n",
       "    </tr>\n",
       "  </thead>\n",
       "  <tbody>\n",
       "    <tr>\n",
       "      <th>0</th>\n",
       "      <td>2015-12-30</td>\n",
       "      <td>[22, 31, 47, 52, 55, 59]</td>\n",
       "      <td>23</td>\n",
       "    </tr>\n",
       "    <tr>\n",
       "      <th>1</th>\n",
       "      <td>2015-12-26</td>\n",
       "      <td>[17, 21, 31, 38, 44, 58]</td>\n",
       "      <td>20</td>\n",
       "    </tr>\n",
       "    <tr>\n",
       "      <th>2</th>\n",
       "      <td>2015-12-23</td>\n",
       "      <td>[1, 2, 4, 19, 28, 41]</td>\n",
       "      <td>32</td>\n",
       "    </tr>\n",
       "    <tr>\n",
       "      <th>3</th>\n",
       "      <td>2015-12-19</td>\n",
       "      <td>[13, 14, 27, 46, 48, 50]</td>\n",
       "      <td>42</td>\n",
       "    </tr>\n",
       "    <tr>\n",
       "      <th>4</th>\n",
       "      <td>2015-12-16</td>\n",
       "      <td>[10, 12, 35, 46, 48, 57]</td>\n",
       "      <td>14</td>\n",
       "    </tr>\n",
       "  </tbody>\n",
       "</table>\n",
       "</div>"
      ],
      "text/plain": [
       "   draw_date                main_balls  bonus_ball\n",
       "0 2015-12-30  [22, 31, 47, 52, 55, 59]          23\n",
       "1 2015-12-26  [17, 21, 31, 38, 44, 58]          20\n",
       "2 2015-12-23     [1, 2, 4, 19, 28, 41]          32\n",
       "3 2015-12-19  [13, 14, 27, 46, 48, 50]          42\n",
       "4 2015-12-16  [10, 12, 35, 46, 48, 57]          14"
      ]
     },
     "execution_count": 2,
     "metadata": {},
     "output_type": "execute_result"
    }
   ],
   "source": [
    "# Import the draw results and convert the draw_date column into datetime \n",
    "# objects (type not preserved in the CSV file).\n",
    "results_df = pd.read_csv(\"lotto_results.csv\", parse_dates=[\"draw_date\"])\n",
    "results_df.head()"
   ]
  },
  {
   "cell_type": "code",
   "execution_count": 3,
   "metadata": {},
   "outputs": [
    {
     "name": "stdout",
     "output_type": "stream",
     "text": [
      "<class 'pandas.core.frame.DataFrame'>\n",
      "RangeIndex: 546 entries, 0 to 545\n",
      "Data columns (total 3 columns):\n",
      " #   Column      Non-Null Count  Dtype         \n",
      "---  ------      --------------  -----         \n",
      " 0   draw_date   546 non-null    datetime64[ns]\n",
      " 1   main_balls  546 non-null    object        \n",
      " 2   bonus_ball  546 non-null    int64         \n",
      "dtypes: datetime64[ns](1), int64(1), object(1)\n",
      "memory usage: 12.9+ KB\n"
     ]
    }
   ],
   "source": [
    "# Confirm the data types of each column and ensure there are no missing values.\n",
    "results_df.info()"
   ]
  },
  {
   "cell_type": "markdown",
   "metadata": {},
   "source": [
    "The `draw_date` column has successfully been converted into datetime data types. The `bonus_ball` column has been imported as the integers desired, however saving the DataFrame to a CSV file in __[uk_lotto_scraper.py](https://github.com/MatthewCarterIO/uk-lotto-DA/blob/master/uk_lotto_scraper.py)__ resulted in the `main_balls` column, which contained lists of integers for each draw, being stored as strings."
   ]
  },
  {
   "cell_type": "code",
   "execution_count": 4,
   "metadata": {},
   "outputs": [
    {
     "data": {
      "text/plain": [
       "str"
      ]
     },
     "execution_count": 4,
     "metadata": {},
     "output_type": "execute_result"
    }
   ],
   "source": [
    "# Get data type of first row, main_balls column.\n",
    "type(results_df.loc[0, \"main_balls\"])"
   ]
  },
  {
   "cell_type": "code",
   "execution_count": 5,
   "metadata": {},
   "outputs": [
    {
     "data": {
      "text/plain": [
       "list"
      ]
     },
     "execution_count": 5,
     "metadata": {},
     "output_type": "execute_result"
    }
   ],
   "source": [
    "# Function to convert string back into a list of integers.\n",
    "def string_to_int_list(string_list):\n",
    "    # Use literal_eval from ast module to evaluate the string into a list data \n",
    "    # type.\n",
    "    return literal_eval(string_list)\n",
    "\n",
    "\n",
    "# Apply function to each row of the main_balls column.\n",
    "results_df[\"main_balls\"] = results_df[\"main_balls\"].apply(string_to_int_list)\n",
    "# Get data type of first row, main_balls column.\n",
    "type(results_df.loc[0, \"main_balls\"])"
   ]
  },
  {
   "cell_type": "markdown",
   "metadata": {},
   "source": [
    "In this analysis the draw dates of interest are those after the 8th October 2015 when the new Lotto format was introduced, running to the present (25th March 2020 at time of last data collection)."
   ]
  },
  {
   "cell_type": "code",
   "execution_count": 6,
   "metadata": {},
   "outputs": [
    {
     "data": {
      "text/html": [
       "<div>\n",
       "<style scoped>\n",
       "    .dataframe tbody tr th:only-of-type {\n",
       "        vertical-align: middle;\n",
       "    }\n",
       "\n",
       "    .dataframe tbody tr th {\n",
       "        vertical-align: top;\n",
       "    }\n",
       "\n",
       "    .dataframe thead th {\n",
       "        text-align: right;\n",
       "    }\n",
       "</style>\n",
       "<table border=\"1\" class=\"dataframe\">\n",
       "  <thead>\n",
       "    <tr style=\"text-align: right;\">\n",
       "      <th></th>\n",
       "      <th>main_balls</th>\n",
       "      <th>bonus_ball</th>\n",
       "    </tr>\n",
       "    <tr>\n",
       "      <th>draw_date</th>\n",
       "      <th></th>\n",
       "      <th></th>\n",
       "    </tr>\n",
       "  </thead>\n",
       "  <tbody>\n",
       "    <tr>\n",
       "      <th>2015-01-03</th>\n",
       "      <td>[10, 15, 17, 18, 19, 31]</td>\n",
       "      <td>24</td>\n",
       "    </tr>\n",
       "    <tr>\n",
       "      <th>2015-01-07</th>\n",
       "      <td>[4, 5, 10, 12, 20, 23]</td>\n",
       "      <td>24</td>\n",
       "    </tr>\n",
       "    <tr>\n",
       "      <th>2015-01-10</th>\n",
       "      <td>[13, 14, 16, 24, 41, 43]</td>\n",
       "      <td>39</td>\n",
       "    </tr>\n",
       "    <tr>\n",
       "      <th>2015-01-14</th>\n",
       "      <td>[17, 20, 28, 29, 33, 36]</td>\n",
       "      <td>23</td>\n",
       "    </tr>\n",
       "    <tr>\n",
       "      <th>2015-01-17</th>\n",
       "      <td>[29, 37, 42, 46, 47, 49]</td>\n",
       "      <td>4</td>\n",
       "    </tr>\n",
       "  </tbody>\n",
       "</table>\n",
       "</div>"
      ],
      "text/plain": [
       "                          main_balls  bonus_ball\n",
       "draw_date                                       \n",
       "2015-01-03  [10, 15, 17, 18, 19, 31]          24\n",
       "2015-01-07    [4, 5, 10, 12, 20, 23]          24\n",
       "2015-01-10  [13, 14, 16, 24, 41, 43]          39\n",
       "2015-01-14  [17, 20, 28, 29, 33, 36]          23\n",
       "2015-01-17  [29, 37, 42, 46, 47, 49]           4"
      ]
     },
     "execution_count": 6,
     "metadata": {},
     "output_type": "execute_result"
    }
   ],
   "source": [
    "# Sort the DataFrame into ascending date order and set the draw_date column as \n",
    "# the index.\n",
    "results_df.sort_values(by=[\"draw_date\"], inplace=True)\n",
    "results_df.set_index(\"draw_date\", inplace=True)\n",
    "results_df.head()"
   ]
  },
  {
   "cell_type": "code",
   "execution_count": 7,
   "metadata": {},
   "outputs": [
    {
     "data": {
      "text/html": [
       "<div>\n",
       "<style scoped>\n",
       "    .dataframe tbody tr th:only-of-type {\n",
       "        vertical-align: middle;\n",
       "    }\n",
       "\n",
       "    .dataframe tbody tr th {\n",
       "        vertical-align: top;\n",
       "    }\n",
       "\n",
       "    .dataframe thead th {\n",
       "        text-align: right;\n",
       "    }\n",
       "</style>\n",
       "<table border=\"1\" class=\"dataframe\">\n",
       "  <thead>\n",
       "    <tr style=\"text-align: right;\">\n",
       "      <th></th>\n",
       "      <th>main_balls</th>\n",
       "      <th>bonus_ball</th>\n",
       "    </tr>\n",
       "    <tr>\n",
       "      <th>draw_date</th>\n",
       "      <th></th>\n",
       "      <th></th>\n",
       "    </tr>\n",
       "  </thead>\n",
       "  <tbody>\n",
       "    <tr>\n",
       "      <th>2015-10-10</th>\n",
       "      <td>[2, 3, 16, 32, 53, 54]</td>\n",
       "      <td>8</td>\n",
       "    </tr>\n",
       "    <tr>\n",
       "      <th>2015-10-14</th>\n",
       "      <td>[7, 13, 20, 27, 39, 52]</td>\n",
       "      <td>35</td>\n",
       "    </tr>\n",
       "    <tr>\n",
       "      <th>2015-10-17</th>\n",
       "      <td>[8, 30, 37, 40, 46, 50]</td>\n",
       "      <td>36</td>\n",
       "    </tr>\n",
       "    <tr>\n",
       "      <th>2015-10-21</th>\n",
       "      <td>[13, 14, 21, 25, 51, 53]</td>\n",
       "      <td>39</td>\n",
       "    </tr>\n",
       "    <tr>\n",
       "      <th>2015-10-24</th>\n",
       "      <td>[29, 31, 43, 55, 58, 59]</td>\n",
       "      <td>11</td>\n",
       "    </tr>\n",
       "    <tr>\n",
       "      <th>...</th>\n",
       "      <td>...</td>\n",
       "      <td>...</td>\n",
       "    </tr>\n",
       "    <tr>\n",
       "      <th>2020-03-11</th>\n",
       "      <td>[10, 39, 45, 46, 52, 54]</td>\n",
       "      <td>12</td>\n",
       "    </tr>\n",
       "    <tr>\n",
       "      <th>2020-03-14</th>\n",
       "      <td>[7, 22, 30, 38, 42, 47]</td>\n",
       "      <td>14</td>\n",
       "    </tr>\n",
       "    <tr>\n",
       "      <th>2020-03-18</th>\n",
       "      <td>[3, 7, 11, 19, 27, 52]</td>\n",
       "      <td>5</td>\n",
       "    </tr>\n",
       "    <tr>\n",
       "      <th>2020-03-21</th>\n",
       "      <td>[12, 26, 29, 34, 56, 58]</td>\n",
       "      <td>41</td>\n",
       "    </tr>\n",
       "    <tr>\n",
       "      <th>2020-03-25</th>\n",
       "      <td>[11, 24, 25, 39, 53, 57]</td>\n",
       "      <td>9</td>\n",
       "    </tr>\n",
       "  </tbody>\n",
       "</table>\n",
       "<p>466 rows × 2 columns</p>\n",
       "</div>"
      ],
      "text/plain": [
       "                          main_balls  bonus_ball\n",
       "draw_date                                       \n",
       "2015-10-10    [2, 3, 16, 32, 53, 54]           8\n",
       "2015-10-14   [7, 13, 20, 27, 39, 52]          35\n",
       "2015-10-17   [8, 30, 37, 40, 46, 50]          36\n",
       "2015-10-21  [13, 14, 21, 25, 51, 53]          39\n",
       "2015-10-24  [29, 31, 43, 55, 58, 59]          11\n",
       "...                              ...         ...\n",
       "2020-03-11  [10, 39, 45, 46, 52, 54]          12\n",
       "2020-03-14   [7, 22, 30, 38, 42, 47]          14\n",
       "2020-03-18    [3, 7, 11, 19, 27, 52]           5\n",
       "2020-03-21  [12, 26, 29, 34, 56, 58]          41\n",
       "2020-03-25  [11, 24, 25, 39, 53, 57]           9\n",
       "\n",
       "[466 rows x 2 columns]"
      ]
     },
     "execution_count": 7,
     "metadata": {},
     "output_type": "execute_result"
    }
   ],
   "source": [
    "# Select rows in DataFrame between 8th October 2015 and 25th March 2020 by \n",
    "# taking a slice of the original DataFrame.\n",
    "results_df = results_df[\"2015-10-08\" : \"2020-03-25\"]\n",
    "results_df"
   ]
  },
  {
   "cell_type": "markdown",
   "metadata": {},
   "source": [
    "For analysis it will be useful to separate each of the six main balls into columns of their own."
   ]
  },
  {
   "cell_type": "code",
   "execution_count": 8,
   "metadata": {},
   "outputs": [
    {
     "data": {
      "text/html": [
       "<div>\n",
       "<style scoped>\n",
       "    .dataframe tbody tr th:only-of-type {\n",
       "        vertical-align: middle;\n",
       "    }\n",
       "\n",
       "    .dataframe tbody tr th {\n",
       "        vertical-align: top;\n",
       "    }\n",
       "\n",
       "    .dataframe thead th {\n",
       "        text-align: right;\n",
       "    }\n",
       "</style>\n",
       "<table border=\"1\" class=\"dataframe\">\n",
       "  <thead>\n",
       "    <tr style=\"text-align: right;\">\n",
       "      <th></th>\n",
       "      <th>main_balls</th>\n",
       "      <th>bonus_ball</th>\n",
       "      <th>ball_1</th>\n",
       "      <th>ball_2</th>\n",
       "      <th>ball_3</th>\n",
       "      <th>ball_4</th>\n",
       "      <th>ball_5</th>\n",
       "      <th>ball_6</th>\n",
       "    </tr>\n",
       "    <tr>\n",
       "      <th>draw_date</th>\n",
       "      <th></th>\n",
       "      <th></th>\n",
       "      <th></th>\n",
       "      <th></th>\n",
       "      <th></th>\n",
       "      <th></th>\n",
       "      <th></th>\n",
       "      <th></th>\n",
       "    </tr>\n",
       "  </thead>\n",
       "  <tbody>\n",
       "    <tr>\n",
       "      <th>2015-10-10</th>\n",
       "      <td>[2, 3, 16, 32, 53, 54]</td>\n",
       "      <td>8</td>\n",
       "      <td>2</td>\n",
       "      <td>3</td>\n",
       "      <td>16</td>\n",
       "      <td>32</td>\n",
       "      <td>53</td>\n",
       "      <td>54</td>\n",
       "    </tr>\n",
       "    <tr>\n",
       "      <th>2015-10-14</th>\n",
       "      <td>[7, 13, 20, 27, 39, 52]</td>\n",
       "      <td>35</td>\n",
       "      <td>7</td>\n",
       "      <td>13</td>\n",
       "      <td>20</td>\n",
       "      <td>27</td>\n",
       "      <td>39</td>\n",
       "      <td>52</td>\n",
       "    </tr>\n",
       "    <tr>\n",
       "      <th>2015-10-17</th>\n",
       "      <td>[8, 30, 37, 40, 46, 50]</td>\n",
       "      <td>36</td>\n",
       "      <td>8</td>\n",
       "      <td>30</td>\n",
       "      <td>37</td>\n",
       "      <td>40</td>\n",
       "      <td>46</td>\n",
       "      <td>50</td>\n",
       "    </tr>\n",
       "    <tr>\n",
       "      <th>2015-10-21</th>\n",
       "      <td>[13, 14, 21, 25, 51, 53]</td>\n",
       "      <td>39</td>\n",
       "      <td>13</td>\n",
       "      <td>14</td>\n",
       "      <td>21</td>\n",
       "      <td>25</td>\n",
       "      <td>51</td>\n",
       "      <td>53</td>\n",
       "    </tr>\n",
       "    <tr>\n",
       "      <th>2015-10-24</th>\n",
       "      <td>[29, 31, 43, 55, 58, 59]</td>\n",
       "      <td>11</td>\n",
       "      <td>29</td>\n",
       "      <td>31</td>\n",
       "      <td>43</td>\n",
       "      <td>55</td>\n",
       "      <td>58</td>\n",
       "      <td>59</td>\n",
       "    </tr>\n",
       "  </tbody>\n",
       "</table>\n",
       "</div>"
      ],
      "text/plain": [
       "                          main_balls  bonus_ball  ball_1  ball_2  ball_3  \\\n",
       "draw_date                                                                  \n",
       "2015-10-10    [2, 3, 16, 32, 53, 54]           8       2       3      16   \n",
       "2015-10-14   [7, 13, 20, 27, 39, 52]          35       7      13      20   \n",
       "2015-10-17   [8, 30, 37, 40, 46, 50]          36       8      30      37   \n",
       "2015-10-21  [13, 14, 21, 25, 51, 53]          39      13      14      21   \n",
       "2015-10-24  [29, 31, 43, 55, 58, 59]          11      29      31      43   \n",
       "\n",
       "            ball_4  ball_5  ball_6  \n",
       "draw_date                           \n",
       "2015-10-10      32      53      54  \n",
       "2015-10-14      27      39      52  \n",
       "2015-10-17      40      46      50  \n",
       "2015-10-21      25      51      53  \n",
       "2015-10-24      55      58      59  "
      ]
     },
     "execution_count": 8,
     "metadata": {},
     "output_type": "execute_result"
    }
   ],
   "source": [
    "# Create a new DataFrame containing just the main balls.\n",
    "main_balls_df = pd.DataFrame(results_df[\"main_balls\"].tolist(), \n",
    "                             index=results_df.index)\n",
    "# Rename the columns.\n",
    "main_balls_df.columns = [(\"ball_\" + str(x)) for x in range(1, 7)]\n",
    "# Combine this new DataFrame with the original results DataFrame.\n",
    "results_df = pd.concat([results_df, main_balls_df], axis=\"columns\")\n",
    "results_df.head()"
   ]
  },
  {
   "cell_type": "markdown",
   "metadata": {},
   "source": [
    "Logically the bonus ball should come after the main balls in the DataFrame."
   ]
  },
  {
   "cell_type": "code",
   "execution_count": 9,
   "metadata": {},
   "outputs": [
    {
     "data": {
      "text/html": [
       "<div>\n",
       "<style scoped>\n",
       "    .dataframe tbody tr th:only-of-type {\n",
       "        vertical-align: middle;\n",
       "    }\n",
       "\n",
       "    .dataframe tbody tr th {\n",
       "        vertical-align: top;\n",
       "    }\n",
       "\n",
       "    .dataframe thead th {\n",
       "        text-align: right;\n",
       "    }\n",
       "</style>\n",
       "<table border=\"1\" class=\"dataframe\">\n",
       "  <thead>\n",
       "    <tr style=\"text-align: right;\">\n",
       "      <th></th>\n",
       "      <th>main_balls</th>\n",
       "      <th>ball_1</th>\n",
       "      <th>ball_2</th>\n",
       "      <th>ball_3</th>\n",
       "      <th>ball_4</th>\n",
       "      <th>ball_5</th>\n",
       "      <th>ball_6</th>\n",
       "      <th>bonus_ball</th>\n",
       "    </tr>\n",
       "    <tr>\n",
       "      <th>draw_date</th>\n",
       "      <th></th>\n",
       "      <th></th>\n",
       "      <th></th>\n",
       "      <th></th>\n",
       "      <th></th>\n",
       "      <th></th>\n",
       "      <th></th>\n",
       "      <th></th>\n",
       "    </tr>\n",
       "  </thead>\n",
       "  <tbody>\n",
       "    <tr>\n",
       "      <th>2015-10-10</th>\n",
       "      <td>[2, 3, 16, 32, 53, 54]</td>\n",
       "      <td>2</td>\n",
       "      <td>3</td>\n",
       "      <td>16</td>\n",
       "      <td>32</td>\n",
       "      <td>53</td>\n",
       "      <td>54</td>\n",
       "      <td>8</td>\n",
       "    </tr>\n",
       "    <tr>\n",
       "      <th>2015-10-14</th>\n",
       "      <td>[7, 13, 20, 27, 39, 52]</td>\n",
       "      <td>7</td>\n",
       "      <td>13</td>\n",
       "      <td>20</td>\n",
       "      <td>27</td>\n",
       "      <td>39</td>\n",
       "      <td>52</td>\n",
       "      <td>35</td>\n",
       "    </tr>\n",
       "    <tr>\n",
       "      <th>2015-10-17</th>\n",
       "      <td>[8, 30, 37, 40, 46, 50]</td>\n",
       "      <td>8</td>\n",
       "      <td>30</td>\n",
       "      <td>37</td>\n",
       "      <td>40</td>\n",
       "      <td>46</td>\n",
       "      <td>50</td>\n",
       "      <td>36</td>\n",
       "    </tr>\n",
       "    <tr>\n",
       "      <th>2015-10-21</th>\n",
       "      <td>[13, 14, 21, 25, 51, 53]</td>\n",
       "      <td>13</td>\n",
       "      <td>14</td>\n",
       "      <td>21</td>\n",
       "      <td>25</td>\n",
       "      <td>51</td>\n",
       "      <td>53</td>\n",
       "      <td>39</td>\n",
       "    </tr>\n",
       "    <tr>\n",
       "      <th>2015-10-24</th>\n",
       "      <td>[29, 31, 43, 55, 58, 59]</td>\n",
       "      <td>29</td>\n",
       "      <td>31</td>\n",
       "      <td>43</td>\n",
       "      <td>55</td>\n",
       "      <td>58</td>\n",
       "      <td>59</td>\n",
       "      <td>11</td>\n",
       "    </tr>\n",
       "  </tbody>\n",
       "</table>\n",
       "</div>"
      ],
      "text/plain": [
       "                          main_balls  ball_1  ball_2  ball_3  ball_4  ball_5  \\\n",
       "draw_date                                                                      \n",
       "2015-10-10    [2, 3, 16, 32, 53, 54]       2       3      16      32      53   \n",
       "2015-10-14   [7, 13, 20, 27, 39, 52]       7      13      20      27      39   \n",
       "2015-10-17   [8, 30, 37, 40, 46, 50]       8      30      37      40      46   \n",
       "2015-10-21  [13, 14, 21, 25, 51, 53]      13      14      21      25      51   \n",
       "2015-10-24  [29, 31, 43, 55, 58, 59]      29      31      43      55      58   \n",
       "\n",
       "            ball_6  bonus_ball  \n",
       "draw_date                       \n",
       "2015-10-10      54           8  \n",
       "2015-10-14      52          35  \n",
       "2015-10-17      50          36  \n",
       "2015-10-21      53          39  \n",
       "2015-10-24      59          11  "
      ]
     },
     "execution_count": 9,
     "metadata": {},
     "output_type": "execute_result"
    }
   ],
   "source": [
    "# Save the bonus_ball column as a Series.\n",
    "bonus_ball_series = results_df[\"bonus_ball\"]\n",
    "# Remove the bonus_ball column from the DataFrame\n",
    "results_df = results_df.drop([\"bonus_ball\"], axis=\"columns\")\n",
    "# Add the bonus_ball column once again at the end of the DataFrame.\n",
    "results_df = pd.concat([results_df, bonus_ball_series], axis=\"columns\")\n",
    "results_df.head()"
   ]
  },
  {
   "cell_type": "markdown",
   "metadata": {},
   "source": [
    "The data is now filtered for the draws of interest and organised ready for analysis."
   ]
  },
  {
   "cell_type": "code",
   "execution_count": 10,
   "metadata": {},
   "outputs": [
    {
     "name": "stdout",
     "output_type": "stream",
     "text": [
      "<class 'pandas.core.frame.DataFrame'>\n",
      "DatetimeIndex: 466 entries, 2015-10-10 to 2020-03-25\n",
      "Data columns (total 8 columns):\n",
      " #   Column      Non-Null Count  Dtype \n",
      "---  ------      --------------  ----- \n",
      " 0   main_balls  466 non-null    object\n",
      " 1   ball_1      466 non-null    int64 \n",
      " 2   ball_2      466 non-null    int64 \n",
      " 3   ball_3      466 non-null    int64 \n",
      " 4   ball_4      466 non-null    int64 \n",
      " 5   ball_5      466 non-null    int64 \n",
      " 6   ball_6      466 non-null    int64 \n",
      " 7   bonus_ball  466 non-null    int64 \n",
      "dtypes: int64(7), object(1)\n",
      "memory usage: 32.8+ KB\n"
     ]
    }
   ],
   "source": [
    "results_df.info()"
   ]
  },
  {
   "cell_type": "markdown",
   "metadata": {},
   "source": [
    "## Analysis"
   ]
  },
  {
   "cell_type": "markdown",
   "metadata": {},
   "source": [
    "Lotto numbers are a categorical (nominal) data type. Their numbers are only identifiers which could easily be replaced with descriptors such as words, shapes or colours."
   ]
  },
  {
   "cell_type": "markdown",
   "metadata": {},
   "source": [
    "### The odds"
   ]
  },
  {
   "cell_type": "markdown",
   "metadata": {},
   "source": [
    "The odds of winning the Lotto by matching all six main balls is often published and the combination function can be used to calculate it. The function is applicable where there is no repetition of numbers and when their order is irrelevant."
   ]
  },
  {
   "cell_type": "markdown",
   "metadata": {},
   "source": [
    "$ C(n,r) = \\begin{pmatrix} n \\\\ r \\end{pmatrix} = \\frac{n!}{r!(n-r)!} $ \n",
    "\n",
    "Where:\n",
    "\n",
    "$ n $ - number of balls in Lotto draw\n",
    "\n",
    "$ r $ - number of balls chosen on ticket\n",
    "\n",
    "and a factorial is defined as:\n",
    "\n",
    "$n!=n$ x $(n-1)$ x $(n-2)$ x $(n-3)$ x $\\dots$ x $3$ x $2$ x $1$\n",
    "\n",
    "__[source](https://www.mathsisfun.com/combinatorics/combinations-permutations.html)__"
   ]
  },
  {
   "cell_type": "code",
   "execution_count": 11,
   "metadata": {},
   "outputs": [],
   "source": [
    "# Function to calculate the factorial of a number using recursion.\n",
    "def factorial_formula(n):\n",
    "    if n == 0 or n == 1:\n",
    "        return 1\n",
    "    else:\n",
    "        return n * factorial_formula(n - 1)"
   ]
  },
  {
   "cell_type": "code",
   "execution_count": 12,
   "metadata": {},
   "outputs": [],
   "source": [
    "# The combination function.\n",
    "def combinations_formula(n, r):\n",
    "    numerator = factorial_formula(n)\n",
    "    denominator = factorial_formula(r) * factorial_formula(n - r)\n",
    "    return numerator / denominator"
   ]
  },
  {
   "cell_type": "code",
   "execution_count": 13,
   "metadata": {},
   "outputs": [
    {
     "data": {
      "text/plain": [
       "45057474.0"
      ]
     },
     "execution_count": 13,
     "metadata": {},
     "output_type": "execute_result"
    }
   ],
   "source": [
    "# Get the total number of six-ball combinations in a set of 59 balls.\n",
    "combinations_formula(59, 6)"
   ]
  },
  {
   "cell_type": "markdown",
   "metadata": {},
   "source": [
    "The odds are defined as the ratio of the number of ways an event occurs to the number of ways it does not occur. Out of the 45+ million combinations to match six balls, only one wins. Therefore the odds of winning are 1:45057473. Fortunately prizes can be won for matching two or more balls and these odds can also be calculated."
   ]
  },
  {
   "cell_type": "markdown",
   "metadata": {},
   "source": [
    "Probability matching $x$ balls = $\\frac{\\begin{pmatrix} r \\\\ x \\end{pmatrix} \\begin{pmatrix} n-r \\\\ r-x \\end{pmatrix}}{\\begin{pmatrix} n \\\\ r \\end{pmatrix}}$\n",
    "\n",
    "Where:\n",
    "\n",
    "$ n $ - number of balls in Lotto draw\n",
    "\n",
    "$ r $ - number of balls chosen on ticket\n",
    "\n",
    "$ x $ - number of balls matched\n",
    "\n",
    "$ \\begin{pmatrix} r \\\\ x \\end{pmatrix} $ - Number of ways to select the winning numbers\n",
    "\n",
    "$ \\begin{pmatrix} n-r \\\\ r-x \\end{pmatrix} $ - Number of ways to select the losing numbers\n",
    "\n",
    "$ \\begin{pmatrix} n \\\\ r \\end{pmatrix} $ - Total number of possible cominations.\n",
    "\n",
    "__[source](https://en.wikipedia.org/wiki/Lottery_mathematics)__"
   ]
  },
  {
   "cell_type": "code",
   "execution_count": 14,
   "metadata": {},
   "outputs": [],
   "source": [
    "# Function to calculate the probability of matching x number balls, when \n",
    "# selecting r balls from n total balls in the draw.\n",
    "def x_matches_formula(n, r, x):\n",
    "    numerator = combinations_formula(r, x) * combinations_formula((n-r), (r-x))\n",
    "    denominator = combinations_formula(n, r)\n",
    "    return numerator / denominator"
   ]
  },
  {
   "cell_type": "markdown",
   "metadata": {},
   "source": [
    "Probabilities can be converted to the odds by using the following relationship:\n",
    "\n",
    "$ Odds = \\frac{Probability}{1 - Probability} $\n",
    "\n",
    "__[source](http://sphweb.bumc.bu.edu/otlt/MPH-Modules/BS/BS704_Confidence_Intervals/BS704_Confidence_Intervals10.html)__"
   ]
  },
  {
   "cell_type": "markdown",
   "metadata": {},
   "source": [
    "To make the results of the odds formula more reader friendly and achieve the \"1 in value\" format, divide both the numerator and denominator by the probability value.\n",
    "\n",
    "$ Odds = \\frac{(\\frac{Probability}{Probability})}{(\\frac{1 - Probability}{Probability})} \n",
    "= \\frac{1}{(\\frac{1 - Probability}{Probability})} $"
   ]
  },
  {
   "cell_type": "code",
   "execution_count": 15,
   "metadata": {},
   "outputs": [
    {
     "name": "stdout",
     "output_type": "stream",
     "text": [
      "2 matches: 1 in 9.0\n",
      "3 matches: 1 in 95.0\n",
      "4 matches: 1 in 2179.0\n",
      "5 matches: 1 in 141689.0\n"
     ]
    }
   ],
   "source": [
    "# Get the odds of winning by matching 2, 3, 4, and 5 balls.\n",
    "for x in range(2, 6):\n",
    "    probability = x_matches_formula(59, 6, x)\n",
    "    odds_denominator = (1 - probability) / probability\n",
    "    print(f\"{x} matches: 1 in {np.around(odds_denominator, decimals = 0)}\")"
   ]
  },
  {
   "cell_type": "markdown",
   "metadata": {},
   "source": [
    "So it appears that winning even the lowest cash prize by matching three balls is still pretty difficult to do!"
   ]
  },
  {
   "cell_type": "markdown",
   "metadata": {},
   "source": [
    "### Most appearances"
   ]
  },
  {
   "cell_type": "markdown",
   "metadata": {},
   "source": [
    "In the 466 draws that took place in this dataset, I'd expect each ball to have been drawn a similar number of times."
   ]
  },
  {
   "cell_type": "code",
   "execution_count": 16,
   "metadata": {},
   "outputs": [
    {
     "data": {
      "image/png": "[encoded data removed]",
      "text/plain": [
       "<Figure size 1152x576 with 1 Axes>"
      ]
     },
     "metadata": {
      "needs_background": "light"
     },
     "output_type": "display_data"
    }
   ],
   "source": [
    "# Display a bar plot showing the number of times each ball has been drawn.\n",
    "main_ball_count = results_df[[\"ball_1\", \"ball_2\",\n",
    "                              \"ball_3\", \"ball_4\",\n",
    "                              \"ball_5\", \"ball_6\"]].stack().value_counts()\n",
    "main_ball_count.plot(kind=\"bar\", figsize=(16, 8),\n",
    "                     title=\"Lotto Main Ball Appearance Count\", grid=True,\n",
    "                     yticks=range(0, 66, 2))\n",
    "plt.xlabel(\"Ball Number\")\n",
    "plt.ylabel(\"Count\")\n",
    "plt.show()"
   ]
  },
  {
   "cell_type": "markdown",
   "metadata": {},
   "source": [
    "The number of times each ball has appeared is shown in descending order from left to right. The most popular numbers were drawn 62 times and the least popular just 32 times."
   ]
  },
  {
   "cell_type": "code",
   "execution_count": 17,
   "metadata": {},
   "outputs": [
    {
     "data": {
      "text/plain": [
       "count    59.0\n",
       "mean     47.4\n",
       "std       6.8\n",
       "min      32.0\n",
       "25%      43.0\n",
       "50%      48.0\n",
       "75%      51.0\n",
       "max      62.0\n",
       "dtype: float64"
      ]
     },
     "execution_count": 17,
     "metadata": {},
     "output_type": "execute_result"
    }
   ],
   "source": [
    "# Get general stats on the main_ball_count data.\n",
    "np.around(main_ball_count.describe(), decimals=1)"
   ]
  },
  {
   "cell_type": "markdown",
   "metadata": {},
   "source": [
    "The mean appearance count of the main balls was 47.4 and with a median of 48, outliers are not an issue. The interquartile range was a fairly narrow 8 appearances, with 50% of the balls being drawn between 43 and 51 times. However the range between least and most appearances is substantial at 30. This can be visualised with a box plot."
   ]
  },
  {
   "cell_type": "code",
   "execution_count": 18,
   "metadata": {
    "scrolled": true
   },
   "outputs": [
    {
     "data": {
      "image/png": "[encoded data removed]",
      "text/plain": [
       "<Figure size 360x360 with 1 Axes>"
      ]
     },
     "metadata": {
      "needs_background": "light"
     },
     "output_type": "display_data"
    }
   ],
   "source": [
    "# Display a box plot for the main_ball_count data.\n",
    "main_ball_count.plot(kind=\"box\", figsize=(5, 5), yticks=range(28, 66, 2),\n",
    "                     label=\"main_balls\")\n",
    "plt.title(\"Main Ball Appearance Count Boxplot\")\n",
    "plt.ylabel(\"Count\")\n",
    "plt.show()"
   ]
  },
  {
   "cell_type": "markdown",
   "metadata": {},
   "source": [
    "### Common pairs"
   ]
  },
  {
   "cell_type": "markdown",
   "metadata": {},
   "source": [
    "How often do the same pair of balls appear in Lotto draws?"
   ]
  },
  {
   "cell_type": "code",
   "execution_count": 19,
   "metadata": {},
   "outputs": [
    {
     "name": "stdout",
     "output_type": "stream",
     "text": [
      "2 and 54: 11 appearances\n",
      "34 and 52: 11 appearances\n",
      "14 and 19: 11 appearances\n",
      "26 and 35: 11 appearances\n",
      "7 and 47: 11 appearances\n",
      "10 and 54: 10 appearances\n",
      "42 and 58: 10 appearances\n",
      "19 and 29: 10 appearances\n",
      "27 and 36: 10 appearances\n",
      "7 and 58: 10 appearances\n"
     ]
    }
   ],
   "source": [
    "# Create a counter to store the pairs and how often they occur.\n",
    "pairs_counter = Counter()\n",
    "# For each draw (row) in the main_balls column of the results_df, extract all\n",
    "# possible pair combinations and add them to the counter.\n",
    "for draw in results_df[\"main_balls\"]:\n",
    "    for combination in combinations(draw, 2):\n",
    "        pairs_counter[combination] += 1\n",
    "\n",
    "# Show the ten most common ball pairs from all draws in this dataset.\n",
    "for pair in pairs_counter.most_common(10):\n",
    "    print(f\"{pair[0][0]} and {pair[0][1]}: {pair[1]} appearances\")"
   ]
  },
  {
   "cell_type": "markdown",
   "metadata": {},
   "source": [
    "A number of balls have appeared together 11 times (2% of the 466 draws)."
   ]
  },
  {
   "cell_type": "markdown",
   "metadata": {},
   "source": [
    "### Time elapsed"
   ]
  },
  {
   "cell_type": "markdown",
   "metadata": {},
   "source": [
    "Though one draw has no effect on another, some players might like to know how much time has passed since a ball has been drawn when picking their numbers."
   ]
  },
  {
   "cell_type": "code",
   "execution_count": 20,
   "metadata": {},
   "outputs": [],
   "source": [
    "# Function to get all the dates that a ball appeared in a draw.\n",
    "def get_ball_draw_dates(ball_no):\n",
    "    # Create boolean mask Series from the DataFrame showing True for a row if\n",
    "    # the ball number has appeared in any of the main ball columns.\n",
    "    ball_appeared_mask = results_df[[\"ball_1\", \"ball_2\",\n",
    "                                     \"ball_3\", \"ball_4\",\n",
    "                                     \"ball_5\", \"ball_6\"]].isin([ball_no]).any(axis=\"columns\")\n",
    "    # For each True row in the mask, retreive its index value (i.e. the draw\n",
    "    # date) and store it in a list.\n",
    "    ball_drawn_dates = []\n",
    "    for index, bool_value in ball_appeared_mask.items():\n",
    "        if bool_value:\n",
    "            ball_drawn_dates.append(index)\n",
    "    return ball_drawn_dates"
   ]
  },
  {
   "cell_type": "code",
   "execution_count": 21,
   "metadata": {},
   "outputs": [],
   "source": [
    "# Function to get the time in days between ball last being drawn and the\n",
    "# present (taken to be the last draw in dataset, 25th March 2020, thus is hard\n",
    "# coded into the function).\n",
    "def get_days_last_appeared(ball_no):\n",
    "    # Get all dates that the ball was drawn and store them in a list.\n",
    "    drawn_dates = get_ball_draw_dates(ball_no)\n",
    "    # As it is already ordered the most recent date that the ball appeared is\n",
    "    # last in the list, so subract it from the \"present\" date.\n",
    "    return (datetime(2020, 3, 25) - drawn_dates[-1]).days"
   ]
  },
  {
   "cell_type": "code",
   "execution_count": 22,
   "metadata": {},
   "outputs": [
    {
     "name": "stdout",
     "output_type": "stream",
     "text": [
      "Ball 37 appeared 175 days ago.\n",
      "Ball 17 appeared 126 days ago.\n",
      "Ball 9 appeared 112 days ago.\n",
      "Ball 6 appeared 109 days ago.\n",
      "Ball 16 appeared 105 days ago.\n",
      "Ball 1 appeared 88 days ago.\n",
      "Ball 13 appeared 81 days ago.\n",
      "Ball 15 appeared 70 days ago.\n",
      "Ball 31 appeared 49 days ago.\n",
      "Ball 8 appeared 46 days ago.\n"
     ]
    }
   ],
   "source": [
    "# For each of the 59 balls get the number of days since it was last drawn and \n",
    "# store the value in a dictionary.\n",
    "last_appeared = {}\n",
    "for ball in range(1, 60):\n",
    "    last_appeared[ball] = get_days_last_appeared(ball)\n",
    "\n",
    "# Create a list that is sorted in descending order using the values of the\n",
    "# dictionary.\n",
    "last_appeared_sorted = sorted(last_appeared.items(), key=lambda item: item[1],\n",
    "                              reverse=True)\n",
    "\n",
    "# Show the top ten elements from the list.\n",
    "for appearance in last_appeared_sorted[:10]:\n",
    "    print(f\"Ball {appearance[0]} appeared {appearance[1]} days ago.\")"
   ]
  },
  {
   "cell_type": "markdown",
   "metadata": {},
   "source": [
    "Five balls haven't appeared in a Lotto draw for over 100 days, with 37 being a long way in front having not appeared for 175 days. How does this compare to the time periods we might expect in general?"
   ]
  },
  {
   "cell_type": "code",
   "execution_count": 23,
   "metadata": {},
   "outputs": [],
   "source": [
    "# Function to get the number of days between the same ball being drawn.\n",
    "def get_days_between(ball_draw_dates_list):\n",
    "    all_days_between = []\n",
    "    for i in range(0, len(ball_draw_dates_list) - 1):\n",
    "        days_between = (ball_draw_dates_list[i+1]\n",
    "                        - ball_draw_dates_list[i]).days\n",
    "        all_days_between.append(days_between)\n",
    "    return all_days_between"
   ]
  },
  {
   "cell_type": "markdown",
   "metadata": {},
   "source": [
    "In order to see whether the mean or median is best to represent the time between the same ball appearing, it is necessary to identify whether or not the data returned by the `get_days_between` function is normally distributed. In normal distributions, the plotted data forms a \"bell curve\" shape. It is symmetrical about the peak, denser near the centre and less so the further out you go. The mean and median values are equal, centrally located in the data. When the data is not normally distributed outliers can have an effect on the mean by pulling its value towards theirs, in which case the median offers a better representation. \n",
    "\n",
    "A quick visual method for doing this is to plot a histogram for a sample of random balls to see if the data fits the typical bell curve shape."
   ]
  },
  {
   "cell_type": "code",
   "execution_count": 24,
   "metadata": {},
   "outputs": [
    {
     "data": {
      "image/png": "[encoded data removed]",
      "text/plain": [
       "<Figure size 1152x288 with 4 Axes>"
      ]
     },
     "metadata": {
      "needs_background": "light"
     },
     "output_type": "display_data"
    }
   ],
   "source": [
    "# Create figure and four subplots.\n",
    "fig, ax = plt.subplots(1, 4, figsize=(16, 4))\n",
    "# Create lists for the four random balls, associated labels and plot colours.\n",
    "random_balls = [10, 23, 38, 47]\n",
    "random_balls_labels = [(\"Ball \" + str(random_balls[x]))\n",
    "                       for x in range(len(random_balls))]\n",
    "colours = ['r', 'g', 'b', 'y']\n",
    "# For each of the four subplots, create the histogram using the lists above.\n",
    "for i in range(4):\n",
    "    ax[i].hist(get_days_between(get_ball_draw_dates(random_balls[i])),\n",
    "               color=colours[i], label=random_balls_labels[i])\n",
    "    ax[i].set(xlabel=\"No. of Days\", ylabel=\"Count\")\n",
    "    ax[i].legend()\n",
    "# Common plot title.\n",
    "fig.suptitle(\"Days Between Appearances for Selected Balls\")\n",
    "plt.show()"
   ]
  },
  {
   "cell_type": "markdown",
   "metadata": {},
   "source": [
    "The data in these histograms does not appear to be normally distributed, but are positively skewed (skewed to the right). The mean values are likely to be higher due to the outliers, therefore the best measure of central tendancy that describes this data will be the median."
   ]
  },
  {
   "cell_type": "code",
   "execution_count": 25,
   "metadata": {
    "scrolled": true
   },
   "outputs": [
    {
     "name": "stdout",
     "output_type": "stream",
     "text": [
      "(59, (32.7, 21.0))\n",
      "(58, (26.4, 17.0))\n",
      "(57, (40.8, 28.0))\n",
      "(56, (32.0, 24.0))\n",
      "(55, (28.4, 17.0))\n"
     ]
    }
   ],
   "source": [
    "# For each of the 59 balls get the mean and median number of days between \n",
    "# its appearances and store the values in a dictionary.\n",
    "stats_days_between = {}\n",
    "for ball in range(1, 60):\n",
    "    days_between = get_days_between(get_ball_draw_dates(ball))\n",
    "    stats_days_between[ball] = (np.around(np.mean(days_between), decimals=1),\n",
    "                                np.around(np.median(days_between), decimals=1))\n",
    "\n",
    "# Show five examples from the dictionary.\n",
    "for i in range(0, 5):\n",
    "    print(stats_days_between.popitem())"
   ]
  },
  {
   "cell_type": "markdown",
   "metadata": {},
   "source": [
    "The `stats_days_between` dictionary does indeed show that the mean values are higher than the median for every ball, confirming what the histograms above showed. "
   ]
  },
  {
   "cell_type": "code",
   "execution_count": 26,
   "metadata": {
    "scrolled": false
   },
   "outputs": [
    {
     "data": {
      "text/plain": [
       "24.8"
      ]
     },
     "execution_count": 26,
     "metadata": {},
     "output_type": "execute_result"
    }
   ],
   "source": [
    "# Get the median values from the stats_days_between dictionary.\n",
    "median_days_between = []\n",
    "for k, v in stats_days_between.items():\n",
    "    median_days_between.append(v[1])\n",
    "\n",
    "# Find the average of these median values.\n",
    "np.around(np.mean(median_days_between), decimals=1)"
   ]
  },
  {
   "cell_type": "markdown",
   "metadata": {},
   "source": [
    "Therefore 25 days is the approximate time to expect between the same ball being drawn.\n",
    "\n",
    "Now to find the minimum and maximum time that has elapsed between the same ball appearing."
   ]
  },
  {
   "cell_type": "code",
   "execution_count": 27,
   "metadata": {},
   "outputs": [],
   "source": [
    "# Function to get the minimum and maximum number of days between the same ball\n",
    "# being drawn.\n",
    "def get_min_max_days_between(ball_draw_dates_list):\n",
    "    # Get list of the number of days between each ball appearance.\n",
    "    days_between = get_days_between(ball_draw_dates_list)\n",
    "    # Return the min and max values in the list.\n",
    "    return (min(days_between), max(days_between))"
   ]
  },
  {
   "cell_type": "code",
   "execution_count": 28,
   "metadata": {},
   "outputs": [
    {
     "name": "stdout",
     "output_type": "stream",
     "text": [
      "(59, (3, 217))\n",
      "(58, (3, 115))\n",
      "(57, (4, 224))\n",
      "(56, (3, 147))\n",
      "(55, (3, 112))\n"
     ]
    }
   ],
   "source": [
    "# For each of the 59 balls get the minimum and maximum number of days between \n",
    "# appearances and store them in a dictionary. \n",
    "min_max_days_elapsed = {}\n",
    "for ball in range(1, 60):\n",
    "    min_max_days_elapsed[ball] = get_min_max_days_between(get_ball_draw_dates(ball))\n",
    "\n",
    "# Show five examples from the dictionary.\n",
    "for i in range(0, 5):\n",
    "    print(min_max_days_elapsed.popitem())"
   ]
  },
  {
   "cell_type": "markdown",
   "metadata": {},
   "source": [
    "The overall minimum and maximum number of days between ball appearances can be found from this dictionary."
   ]
  },
  {
   "cell_type": "code",
   "execution_count": 29,
   "metadata": {},
   "outputs": [
    {
     "name": "stdout",
     "output_type": "stream",
     "text": [
      "Overall minimum days elapsed: 3\n"
     ]
    }
   ],
   "source": [
    "# Create a list containing just the minimum number of days between each ball \n",
    "# appearing from the dictionary.\n",
    "min_days_elapsed = [x[0] for x in min_max_days_elapsed.values()]\n",
    "# Find the minimum value.\n",
    "print(f\"Overall minimum days elapsed: {min(min_days_elapsed)}\")"
   ]
  },
  {
   "cell_type": "code",
   "execution_count": 30,
   "metadata": {},
   "outputs": [
    {
     "name": "stdout",
     "output_type": "stream",
     "text": [
      "Overall maximum days elapsed: 392\n"
     ]
    }
   ],
   "source": [
    "# Create a list containing just the maximum number of days between each ball \n",
    "# appearing from the dictionary.\n",
    "max_days_elapsed = [x[1] for x in min_max_days_elapsed.values()]\n",
    "# Find the maximum value.\n",
    "print(f\"Overall maximum days elapsed: {max(max_days_elapsed)}\")"
   ]
  },
  {
   "cell_type": "markdown",
   "metadata": {},
   "source": [
    "In general the least time that a ball has taken to appear again tends to be either three or four days, which is the time between draws (two each week). The longest time between appearances is expectedly more varied and Numpy can be used to confirm this."
   ]
  },
  {
   "cell_type": "code",
   "execution_count": 31,
   "metadata": {
    "scrolled": true
   },
   "outputs": [
    {
     "name": "stdout",
     "output_type": "stream",
     "text": [
      "Unique minimum elapsed days: 3\n",
      "Unique maximum elapsed days: 32\n"
     ]
    }
   ],
   "source": [
    "print(f\"Unique minimum elapsed days: {len(np.unique(min_days_elapsed))}\")\n",
    "print(f\"Unique maximum elapsed days: {len(np.unique(max_days_elapsed))}\")"
   ]
  },
  {
   "cell_type": "markdown",
   "metadata": {},
   "source": [
    "Therefore visualising the maximum time between each ball appearing will be more useful than doing it for the minimum elapsed times."
   ]
  },
  {
   "cell_type": "code",
   "execution_count": 32,
   "metadata": {
    "scrolled": false
   },
   "outputs": [
    {
     "data": {
      "image/png": "[encoded data removed]",
      "text/plain": [
       "<Figure size 864x576 with 1 Axes>"
      ]
     },
     "metadata": {
      "needs_background": "light"
     },
     "output_type": "display_data"
    }
   ],
   "source": [
    "# Plot bar chart of maximum time elapsed between appearances for each ball and\n",
    "# a horizontal line showing the average time elapsed between a ball \n",
    "# appearances as calculated earlier.\n",
    "fig = plt.figure(figsize=(12, 8))\n",
    "ax = fig.add_axes([0, 0, 1, 1])\n",
    "ax.bar(min_max_days_elapsed.keys(), max_days_elapsed, color='b')\n",
    "ax.axhline(y=np.around(np.mean(median_days_between), decimals=1), color=\"r\",\n",
    "           label=\"Average Days Median\", linestyle=\"--\")\n",
    "ax.set_title(\"Maximum Time Between Ball Appearances\")\n",
    "ax.set_xlabel(\"Ball Number\")\n",
    "ax.set_ylabel(\"No. of Days\")\n",
    "ax.set_xticks(range(1, 60))\n",
    "ax.set_yticks(range(0, 420, 20))\n",
    "ax.legend()\n",
    "plt.show()"
   ]
  },
  {
   "cell_type": "markdown",
   "metadata": {},
   "source": [
    "The red dotted line shows the approximate time expected between the same ball being drawn as calculated earlier (25 days). It serves to highlight how extreme the maximum elapsed times for each ball are."
   ]
  },
  {
   "cell_type": "markdown",
   "metadata": {},
   "source": [
    "### Top six"
   ]
  },
  {
   "cell_type": "markdown",
   "metadata": {},
   "source": [
    "If the top six drawn numbers from all 466 draws in this dataset were known from the start and had been played each time, how many times would a prize have been won?"
   ]
  },
  {
   "cell_type": "code",
   "execution_count": 33,
   "metadata": {},
   "outputs": [],
   "source": [
    "# Function to compare two ordered lists of unique numbers and return the number\n",
    "# of matches.\n",
    "def ticket_checker(draw_list, ticket_list):\n",
    "    # Check if lists are of equal length.\n",
    "    if len(draw_list) != len(ticket_list):\n",
    "        # Lists unequal length, exit function.\n",
    "        print(\"Lists unequal length.\")\n",
    "        return\n",
    "    # Check each list contains only unique values.\n",
    "    if (len(draw_list) != len(set(draw_list))) or (len(ticket_list) \n",
    "                                                   != len(set(ticket_list))):\n",
    "        # At least one of the lists contains duplicate numbers, exit function.\n",
    "        print(\"Lists contain duplicate numbers.\")\n",
    "        return\n",
    "    # Ensure both lists are in ascending order.\n",
    "    draw_list.sort()\n",
    "    ticket_list.sort()\n",
    "    # Check for matches.\n",
    "    no_of_matches = 0\n",
    "    index_draw = 0\n",
    "    index_ticket = 0\n",
    "    while (index_ticket <= (len(ticket_list)-1)) and (index_draw \n",
    "                                                      <= (len(draw_list)-1)):\n",
    "        if ticket_list[index_ticket] == draw_list[index_draw]:\n",
    "            # Numbers match, move onto next ball on ticket and in draw.\n",
    "            no_of_matches += 1\n",
    "            index_ticket += 1\n",
    "            index_draw += 1\n",
    "        elif ticket_list[index_ticket] > draw_list[index_draw]:\n",
    "            # Ticket ball is higher than the drawn ball it is being compared \n",
    "            # to. Move onto next ball from draw.\n",
    "            index_draw += 1\n",
    "        else:\n",
    "            # Ticket ball is lower than the drawn ball it is being compared \n",
    "            # to. Move onto next ball on ticket.\n",
    "            index_ticket += 1\n",
    "    return no_of_matches"
   ]
  },
  {
   "cell_type": "code",
   "execution_count": 34,
   "metadata": {
    "scrolled": false
   },
   "outputs": [
    {
     "data": {
      "text/plain": [
       "0    200\n",
       "1    187\n",
       "2     69\n",
       "3      9\n",
       "4      1\n",
       "Name: main_balls, dtype: int64"
      ]
     },
     "execution_count": 34,
     "metadata": {},
     "output_type": "execute_result"
    }
   ],
   "source": [
    "# Top six numbers from 466 draws in this dataset as shown in the \"Most\n",
    "# appearances\" section.\n",
    "top_six_num = [8, 42, 52, 54, 55, 58]\n",
    "# Check the top six numbers against each draw in the results_df.\n",
    "wins_series = results_df[\"main_balls\"].apply(lambda x:\n",
    "                                             ticket_checker(x, top_six_num))\n",
    "wins_series.value_counts()"
   ]
  },
  {
   "cell_type": "code",
   "execution_count": 35,
   "metadata": {},
   "outputs": [
    {
     "data": {
      "text/plain": [
       "draw_date\n",
       "2016-01-27    3\n",
       "2017-03-25    3\n",
       "2017-10-28    4\n",
       "2017-12-30    3\n",
       "2018-07-04    3\n",
       "2018-09-15    3\n",
       "2019-06-15    3\n",
       "2020-01-15    3\n",
       "2020-02-08    3\n",
       "2020-02-29    3\n",
       "Name: main_balls, dtype: int64"
      ]
     },
     "execution_count": 35,
     "metadata": {},
     "output_type": "execute_result"
    }
   ],
   "source": [
    "# Highlight the draws where the ticket matched three or four balls.\n",
    "matches = (wins_series == 3) | (wins_series == 4)\n",
    "wins_series[matches]"
   ]
  },
  {
   "cell_type": "markdown",
   "metadata": {},
   "source": [
    "Prizes are given for matching two or more balls, so for the six most popular numbers, 79 tickets would have been winners. With each ticket costing £2, the outlay would have been £932. Two matched balls are rewarded with a free Lucky Dip ticket (which for this analysis I am assuming is a loss), so the only concrete return on the investment would have been £270 for the tickets matching three balls (each win £30) and £140 for the draw matching four balls. This gives a total loss of £522!"
   ]
  },
  {
   "cell_type": "markdown",
   "metadata": {},
   "source": [
    "### Lucky Dip"
   ]
  },
  {
   "cell_type": "markdown",
   "metadata": {},
   "source": [
    "In reality the top six numbers would not have been known until the 466 draws had occurred. The assumption that a Lucky Dip ticket would always give zero return is also clearly not the case, after all they are just six random computer generated numbers.\n",
    "\n",
    "Players may have their favourite numbers or be part of syndicates which mean they play the same set of numbers each time. Alternatively they may simply pick their own random six numbers or take a chance on a Lucky Dip ticket. In all of these cases six random numbers are played, whether or not there appears to be method or reason to their choosing. They all have the same chance of winning a prize. So with that in mind how would a Lucky Dip ticket played across all 466 draws perform compared to the top six numbers above?"
   ]
  },
  {
   "cell_type": "code",
   "execution_count": 36,
   "metadata": {},
   "outputs": [],
   "source": [
    "# Function to create Lucky Dip Lotto tickets.\n",
    "def create_lucky_dip_tickets(no_of_tickets):\n",
    "    # Create a list of balls 1-59.\n",
    "    ball_numbers = range(1, 60)\n",
    "    ticket_wallet = []\n",
    "    for i in range(no_of_tickets):\n",
    "        # Set the seed for reproducability purposes of this project.\n",
    "        random.seed(i)\n",
    "        # Create a random six number ticket from all 59 balls, sorted in \n",
    "        # ascending order.\n",
    "        ticket = sorted(random.sample(ball_numbers, 6))\n",
    "        ticket_wallet.append(ticket)\n",
    "    # Return list of tickets.\n",
    "    return ticket_wallet"
   ]
  },
  {
   "cell_type": "markdown",
   "metadata": {},
   "source": [
    "To get more accurate results, 100 Lucky Dip tickets will be created and checked against all the draws."
   ]
  },
  {
   "cell_type": "code",
   "execution_count": 37,
   "metadata": {
    "scrolled": true
   },
   "outputs": [
    {
     "data": {
      "text/plain": [
       "[[3, 17, 25, 27, 49, 55],\n",
       " [5, 9, 37, 49, 52, 55],\n",
       " [4, 6, 24, 55, 56, 59],\n",
       " [9, 16, 24, 35, 38, 39],\n",
       " [7, 16, 20, 26, 31, 47]]"
      ]
     },
     "execution_count": 37,
     "metadata": {},
     "output_type": "execute_result"
    }
   ],
   "source": [
    "# Create 100 Lucky Dip tickets.\n",
    "my_lucky_dip_tickets = create_lucky_dip_tickets(100)\n",
    "\n",
    "# Show the first five tickets.\n",
    "my_lucky_dip_tickets[:5]"
   ]
  },
  {
   "cell_type": "code",
   "execution_count": 38,
   "metadata": {},
   "outputs": [],
   "source": [
    "# Function to check each Lucky Dip ticket in a list against all the draws in \n",
    "# the results_df DataFrame.\n",
    "def check_lucky_dip_tickets(list_of_tickets):\n",
    "    # Create a dictionary to hold the results and a counter to name the keys.\n",
    "    lucky_dip_results = {}\n",
    "    ticket_no = 1\n",
    "    for ticket in list_of_tickets:\n",
    "        # Use the ticket_checker() function to check the current ticket against \n",
    "        # all draws in the DataFrame.\n",
    "        lucky_dip_series = results_df[\"main_balls\"].apply(lambda x: ticket_checker(x, ticket))\n",
    "        # Add the results to the dictionary.\n",
    "        lucky_dip_results[(\"ticket_\" + str(ticket_no))] = [ticket, lucky_dip_series.value_counts()]\n",
    "        ticket_no += 1\n",
    "    return lucky_dip_results"
   ]
  },
  {
   "cell_type": "code",
   "execution_count": 39,
   "metadata": {
    "scrolled": true
   },
   "outputs": [
    {
     "name": "stdout",
     "output_type": "stream",
     "text": [
      "('ticket_100', [[12, 13, 15, 25, 26, 39], 0    251\n",
      "1    163\n",
      "2     46\n",
      "3      6\n",
      "Name: main_balls, dtype: int64])\n",
      "('ticket_99', [[3, 23, 27, 37, 54, 59], 0    232\n",
      "1    179\n",
      "2     45\n",
      "3     10\n",
      "Name: main_balls, dtype: int64])\n",
      "('ticket_98', [[13, 24, 28, 52, 53, 54], 0    241\n",
      "1    176\n",
      "2     47\n",
      "3      2\n",
      "Name: main_balls, dtype: int64])\n",
      "('ticket_97', [[7, 14, 21, 24, 26, 44], 0    264\n",
      "1    149\n",
      "2     49\n",
      "3      4\n",
      "Name: main_balls, dtype: int64])\n",
      "('ticket_96', [[33, 35, 48, 49, 51, 58], 0    241\n",
      "1    180\n",
      "2     44\n",
      "3      1\n",
      "Name: main_balls, dtype: int64])\n"
     ]
    }
   ],
   "source": [
    "# Check how the Lucky Dip tickets would have fared in the 466 draws.\n",
    "hundred_results_dict = check_lucky_dip_tickets(my_lucky_dip_tickets)\n",
    "\n",
    "# Show five examples from the dictionary.\n",
    "for i in range(0, 5):\n",
    "    print(hundred_results_dict.popitem())"
   ]
  },
  {
   "cell_type": "code",
   "execution_count": 40,
   "metadata": {},
   "outputs": [],
   "source": [
    "############################ TODO CONTINUE REVIEW FROM HERE:"
   ]
  },
  {
   "cell_type": "markdown",
   "metadata": {},
   "source": [
    "Although some Lucky Dip tickets matched four balls, to be conservative I will just focus on the number of times any winning tickets matched three balls and use an average value to adjust the total return calculated earlier. "
   ]
  },
  {
   "cell_type": "code",
   "execution_count": 41,
   "metadata": {},
   "outputs": [
    {
     "name": "stdout",
     "output_type": "stream",
     "text": [
      "Average three balls matched: 5.473684210526316\n"
     ]
    }
   ],
   "source": [
    "# For each ticket, access the value count in the dictionary corresponding to three matches.\n",
    "three_matches_count = []\n",
    "for ticket in hundred_results_dict:\n",
    "    # Check if the ticket has any three-ball matches using the lucky_dip_series.value_counts() value in the dictionary (hundred_results_dict[ticket][1]).\n",
    "    if 3 in hundred_results_dict[ticket][1].index:\n",
    "        three_matches_count.append(hundred_results_dict[ticket][1][3])\n",
    "    else:\n",
    "        three_matches_count.append(0)\n",
    "\n",
    "# Calculate the average by summing the list and dividing by the number of elements.\n",
    "print(f\"Average three balls matched: {sum(three_matches_count) / len(three_matches_count)}\")"
   ]
  },
  {
   "cell_type": "markdown",
   "metadata": {},
   "source": [
    "Based on one hundred Lucky Dip tickets, three balls might be matched 5.43 times in 466 draws giving a win ratio of approximately 1:86. Given this ratio and the fact that the top six numbers played earlier only provided 69 free Lucky Dip tickets, the previous assumption that they would give no monetary return is fair in this basic analysis."
   ]
  },
  {
   "cell_type": "markdown",
   "metadata": {},
   "source": [
    "## Summary"
   ]
  },
  {
   "cell_type": "code",
   "execution_count": null,
   "metadata": {},
   "outputs": [],
   "source": []
  }
 ],
 "metadata": {
  "kernelspec": {
   "display_name": "Python 3",
   "language": "python",
   "name": "python3"
  },
  "language_info": {
   "codemirror_mode": {
    "name": "ipython",
    "version": 3
   },
   "file_extension": ".py",
   "mimetype": "text/x-python",
   "name": "python",
   "nbconvert_exporter": "python",
   "pygments_lexer": "ipython3",
   "version": "3.7.7"
  }
 },
 "nbformat": 4,
 "nbformat_minor": 2
}
