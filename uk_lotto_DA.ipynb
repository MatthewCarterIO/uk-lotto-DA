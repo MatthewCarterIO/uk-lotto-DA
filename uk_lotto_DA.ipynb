{
 "cells": [
  {
   "cell_type": "markdown",
   "metadata": {},
   "source": [
    "# UK Lotto Results Analysis"
   ]
  },
  {
   "cell_type": "markdown",
   "metadata": {},
   "source": [
    "Author: Matthew Carter"
   ]
  },
  {
   "cell_type": "markdown",
   "metadata": {},
   "source": [
    "## Introduction"
   ]
  },
  {
   "cell_type": "markdown",
   "metadata": {},
   "source": [
    "The UK Lotto has been run by The National Lottery since 1994 and is now drawn twice a week. Players choose six balls and aim to match the six main balls in the draw to win the jackpot. Including a bonus ball, seven balls in total are drawn. Smaller prizes are won from matching two or more main balls.\n",
    "\n",
    "In this mini analysis I look at the draws since the new Lotto format was introduced on the 8th October 2015 which increased the number of balls in the draw from 49 to 59."
   ]
  },
  {
   "cell_type": "markdown",
   "metadata": {},
   "source": [
    "## Importing the dataset"
   ]
  },
  {
   "cell_type": "markdown",
   "metadata": {},
   "source": [
    "Lotto results for this project have been collected using my __[uk_lotto_scraper.py](https://github.com/MatthewCarterIO/uk-lotto-DA/blob/master/uk_lotto_scraper.py)__ file."
   ]
  },
  {
   "cell_type": "code",
   "execution_count": 1,
   "metadata": {},
   "outputs": [],
   "source": [
    "# Common Python packages that will be used throughout project.\n",
    "import pandas as pd\n",
    "import numpy as np\n",
    "import matplotlib.pyplot as plt\n",
    "import random"
   ]
  },
  {
   "cell_type": "code",
   "execution_count": 2,
   "metadata": {},
   "outputs": [
    {
     "data": {
      "text/html": [
       "<div>\n",
       "<style scoped>\n",
       "    .dataframe tbody tr th:only-of-type {\n",
       "        vertical-align: middle;\n",
       "    }\n",
       "\n",
       "    .dataframe tbody tr th {\n",
       "        vertical-align: top;\n",
       "    }\n",
       "\n",
       "    .dataframe thead th {\n",
       "        text-align: right;\n",
       "    }\n",
       "</style>\n",
       "<table border=\"1\" class=\"dataframe\">\n",
       "  <thead>\n",
       "    <tr style=\"text-align: right;\">\n",
       "      <th></th>\n",
       "      <th>draw_date</th>\n",
       "      <th>main_balls</th>\n",
       "      <th>bonus_ball</th>\n",
       "    </tr>\n",
       "  </thead>\n",
       "  <tbody>\n",
       "    <tr>\n",
       "      <th>0</th>\n",
       "      <td>2015-12-30</td>\n",
       "      <td>[22, 31, 47, 52, 55, 59]</td>\n",
       "      <td>23</td>\n",
       "    </tr>\n",
       "    <tr>\n",
       "      <th>1</th>\n",
       "      <td>2015-12-26</td>\n",
       "      <td>[17, 21, 31, 38, 44, 58]</td>\n",
       "      <td>20</td>\n",
       "    </tr>\n",
       "    <tr>\n",
       "      <th>2</th>\n",
       "      <td>2015-12-23</td>\n",
       "      <td>[1, 2, 4, 19, 28, 41]</td>\n",
       "      <td>32</td>\n",
       "    </tr>\n",
       "    <tr>\n",
       "      <th>3</th>\n",
       "      <td>2015-12-19</td>\n",
       "      <td>[13, 14, 27, 46, 48, 50]</td>\n",
       "      <td>42</td>\n",
       "    </tr>\n",
       "    <tr>\n",
       "      <th>4</th>\n",
       "      <td>2015-12-16</td>\n",
       "      <td>[10, 12, 35, 46, 48, 57]</td>\n",
       "      <td>14</td>\n",
       "    </tr>\n",
       "  </tbody>\n",
       "</table>\n",
       "</div>"
      ],
      "text/plain": [
       "    draw_date                main_balls  bonus_ball\n",
       "0  2015-12-30  [22, 31, 47, 52, 55, 59]          23\n",
       "1  2015-12-26  [17, 21, 31, 38, 44, 58]          20\n",
       "2  2015-12-23     [1, 2, 4, 19, 28, 41]          32\n",
       "3  2015-12-19  [13, 14, 27, 46, 48, 50]          42\n",
       "4  2015-12-16  [10, 12, 35, 46, 48, 57]          14"
      ]
     },
     "execution_count": 2,
     "metadata": {},
     "output_type": "execute_result"
    }
   ],
   "source": [
    "# Import the draw results.\n",
    "results_df = pd.read_csv(\"lotto_results.csv\")\n",
    "results_df.head()"
   ]
  },
  {
   "cell_type": "code",
   "execution_count": 3,
   "metadata": {},
   "outputs": [
    {
     "data": {
      "text/html": [
       "<div>\n",
       "<style scoped>\n",
       "    .dataframe tbody tr th:only-of-type {\n",
       "        vertical-align: middle;\n",
       "    }\n",
       "\n",
       "    .dataframe tbody tr th {\n",
       "        vertical-align: top;\n",
       "    }\n",
       "\n",
       "    .dataframe thead th {\n",
       "        text-align: right;\n",
       "    }\n",
       "</style>\n",
       "<table border=\"1\" class=\"dataframe\">\n",
       "  <thead>\n",
       "    <tr style=\"text-align: right;\">\n",
       "      <th></th>\n",
       "      <th>main_balls</th>\n",
       "      <th>bonus_ball</th>\n",
       "    </tr>\n",
       "    <tr>\n",
       "      <th>draw_date</th>\n",
       "      <th></th>\n",
       "      <th></th>\n",
       "    </tr>\n",
       "  </thead>\n",
       "  <tbody>\n",
       "    <tr>\n",
       "      <th>2015-01-03</th>\n",
       "      <td>[10, 15, 17, 18, 19, 31]</td>\n",
       "      <td>24</td>\n",
       "    </tr>\n",
       "    <tr>\n",
       "      <th>2015-01-07</th>\n",
       "      <td>[4, 5, 10, 12, 20, 23]</td>\n",
       "      <td>24</td>\n",
       "    </tr>\n",
       "    <tr>\n",
       "      <th>2015-01-10</th>\n",
       "      <td>[13, 14, 16, 24, 41, 43]</td>\n",
       "      <td>39</td>\n",
       "    </tr>\n",
       "    <tr>\n",
       "      <th>2015-01-14</th>\n",
       "      <td>[17, 20, 28, 29, 33, 36]</td>\n",
       "      <td>23</td>\n",
       "    </tr>\n",
       "    <tr>\n",
       "      <th>2015-01-17</th>\n",
       "      <td>[29, 37, 42, 46, 47, 49]</td>\n",
       "      <td>4</td>\n",
       "    </tr>\n",
       "  </tbody>\n",
       "</table>\n",
       "</div>"
      ],
      "text/plain": [
       "                          main_balls  bonus_ball\n",
       "draw_date                                       \n",
       "2015-01-03  [10, 15, 17, 18, 19, 31]          24\n",
       "2015-01-07    [4, 5, 10, 12, 20, 23]          24\n",
       "2015-01-10  [13, 14, 16, 24, 41, 43]          39\n",
       "2015-01-14  [17, 20, 28, 29, 33, 36]          23\n",
       "2015-01-17  [29, 37, 42, 46, 47, 49]           4"
      ]
     },
     "execution_count": 3,
     "metadata": {},
     "output_type": "execute_result"
    }
   ],
   "source": [
    "# Sort the DataFrame into ascending date order and make the draw_date column the index.\n",
    "results_df.sort_values(by=[\"draw_date\"], inplace=True)\n",
    "results_df.set_index(\"draw_date\", inplace=True)\n",
    "results_df.head()"
   ]
  },
  {
   "cell_type": "markdown",
   "metadata": {},
   "source": [
    "In this analysis the draw dates of interest are those after the 8th October 2015, running to the present (end of January 2020 at time of writing) when the new Lotto format was used."
   ]
  },
  {
   "cell_type": "code",
   "execution_count": 4,
   "metadata": {},
   "outputs": [
    {
     "data": {
      "text/html": [
       "<div>\n",
       "<style scoped>\n",
       "    .dataframe tbody tr th:only-of-type {\n",
       "        vertical-align: middle;\n",
       "    }\n",
       "\n",
       "    .dataframe tbody tr th {\n",
       "        vertical-align: top;\n",
       "    }\n",
       "\n",
       "    .dataframe thead th {\n",
       "        text-align: right;\n",
       "    }\n",
       "</style>\n",
       "<table border=\"1\" class=\"dataframe\">\n",
       "  <thead>\n",
       "    <tr style=\"text-align: right;\">\n",
       "      <th></th>\n",
       "      <th>main_balls</th>\n",
       "      <th>bonus_ball</th>\n",
       "    </tr>\n",
       "    <tr>\n",
       "      <th>draw_date</th>\n",
       "      <th></th>\n",
       "      <th></th>\n",
       "    </tr>\n",
       "  </thead>\n",
       "  <tbody>\n",
       "    <tr>\n",
       "      <th>2015-10-10</th>\n",
       "      <td>[2, 3, 16, 32, 53, 54]</td>\n",
       "      <td>8</td>\n",
       "    </tr>\n",
       "    <tr>\n",
       "      <th>2015-10-14</th>\n",
       "      <td>[7, 13, 20, 27, 39, 52]</td>\n",
       "      <td>35</td>\n",
       "    </tr>\n",
       "    <tr>\n",
       "      <th>2015-10-17</th>\n",
       "      <td>[8, 30, 37, 40, 46, 50]</td>\n",
       "      <td>36</td>\n",
       "    </tr>\n",
       "    <tr>\n",
       "      <th>2015-10-21</th>\n",
       "      <td>[13, 14, 21, 25, 51, 53]</td>\n",
       "      <td>39</td>\n",
       "    </tr>\n",
       "    <tr>\n",
       "      <th>2015-10-24</th>\n",
       "      <td>[29, 31, 43, 55, 58, 59]</td>\n",
       "      <td>11</td>\n",
       "    </tr>\n",
       "    <tr>\n",
       "      <th>...</th>\n",
       "      <td>...</td>\n",
       "      <td>...</td>\n",
       "    </tr>\n",
       "    <tr>\n",
       "      <th>2020-01-15</th>\n",
       "      <td>[15, 25, 50, 52, 54, 55]</td>\n",
       "      <td>28</td>\n",
       "    </tr>\n",
       "    <tr>\n",
       "      <th>2020-01-18</th>\n",
       "      <td>[14, 29, 35, 41, 42, 55]</td>\n",
       "      <td>11</td>\n",
       "    </tr>\n",
       "    <tr>\n",
       "      <th>2020-01-22</th>\n",
       "      <td>[19, 23, 25, 29, 30, 36]</td>\n",
       "      <td>14</td>\n",
       "    </tr>\n",
       "    <tr>\n",
       "      <th>2020-01-25</th>\n",
       "      <td>[18, 30, 33, 39, 54, 55]</td>\n",
       "      <td>21</td>\n",
       "    </tr>\n",
       "    <tr>\n",
       "      <th>2020-01-29</th>\n",
       "      <td>[7, 23, 40, 42, 47, 59]</td>\n",
       "      <td>58</td>\n",
       "    </tr>\n",
       "  </tbody>\n",
       "</table>\n",
       "<p>450 rows × 2 columns</p>\n",
       "</div>"
      ],
      "text/plain": [
       "                          main_balls  bonus_ball\n",
       "draw_date                                       \n",
       "2015-10-10    [2, 3, 16, 32, 53, 54]           8\n",
       "2015-10-14   [7, 13, 20, 27, 39, 52]          35\n",
       "2015-10-17   [8, 30, 37, 40, 46, 50]          36\n",
       "2015-10-21  [13, 14, 21, 25, 51, 53]          39\n",
       "2015-10-24  [29, 31, 43, 55, 58, 59]          11\n",
       "...                              ...         ...\n",
       "2020-01-15  [15, 25, 50, 52, 54, 55]          28\n",
       "2020-01-18  [14, 29, 35, 41, 42, 55]          11\n",
       "2020-01-22  [19, 23, 25, 29, 30, 36]          14\n",
       "2020-01-25  [18, 30, 33, 39, 54, 55]          21\n",
       "2020-01-29   [7, 23, 40, 42, 47, 59]          58\n",
       "\n",
       "[450 rows x 2 columns]"
      ]
     },
     "execution_count": 4,
     "metadata": {},
     "output_type": "execute_result"
    }
   ],
   "source": [
    "# Select rows in DataFrame after 2015-10-08.\n",
    "results_df = results_df.loc[\"2015-10-08\" : \"2020-01-31\"]\n",
    "results_df"
   ]
  },
  {
   "cell_type": "markdown",
   "metadata": {},
   "source": [
    "Saving the DataFrame to a CSV file in __[uk_lotto_scraper.py](https://github.com/MatthewCarterIO/uk-lotto-DA/blob/master/uk_lotto_scraper.py)__ resulted in the main balls column which contained lists of integers for each draw, instead being stored as strings."
   ]
  },
  {
   "cell_type": "code",
   "execution_count": 5,
   "metadata": {},
   "outputs": [
    {
     "name": "stdout",
     "output_type": "stream",
     "text": [
      "<class 'str'>\n"
     ]
    }
   ],
   "source": [
    "print(type(results_df.loc[\"2015-10-10\", \"main_balls\"]))"
   ]
  },
  {
   "cell_type": "code",
   "execution_count": 6,
   "metadata": {},
   "outputs": [
    {
     "name": "stdout",
     "output_type": "stream",
     "text": [
      "<class 'list'>\n"
     ]
    }
   ],
   "source": [
    "from ast import literal_eval\n",
    "\n",
    "# Function converting string back into a list of integers.\n",
    "def string_to_int_list(string_list):\n",
    "    return literal_eval(string_list)\n",
    "\n",
    "# Apply function to each row of the main_balls column.\n",
    "results_df[\"main_balls\"] = results_df[\"main_balls\"].apply(string_to_int_list)\n",
    "print(type(results_df.loc[\"2015-10-10\", \"main_balls\"]))"
   ]
  },
  {
   "cell_type": "markdown",
   "metadata": {},
   "source": [
    "For analysis it will be useful to have each of the six main balls in its own column."
   ]
  },
  {
   "cell_type": "code",
   "execution_count": 7,
   "metadata": {},
   "outputs": [
    {
     "data": {
      "text/html": [
       "<div>\n",
       "<style scoped>\n",
       "    .dataframe tbody tr th:only-of-type {\n",
       "        vertical-align: middle;\n",
       "    }\n",
       "\n",
       "    .dataframe tbody tr th {\n",
       "        vertical-align: top;\n",
       "    }\n",
       "\n",
       "    .dataframe thead th {\n",
       "        text-align: right;\n",
       "    }\n",
       "</style>\n",
       "<table border=\"1\" class=\"dataframe\">\n",
       "  <thead>\n",
       "    <tr style=\"text-align: right;\">\n",
       "      <th></th>\n",
       "      <th>main_balls</th>\n",
       "      <th>bonus_ball</th>\n",
       "      <th>ball_1</th>\n",
       "      <th>ball_2</th>\n",
       "      <th>ball_3</th>\n",
       "      <th>ball_4</th>\n",
       "      <th>ball_5</th>\n",
       "      <th>ball_6</th>\n",
       "    </tr>\n",
       "    <tr>\n",
       "      <th>draw_date</th>\n",
       "      <th></th>\n",
       "      <th></th>\n",
       "      <th></th>\n",
       "      <th></th>\n",
       "      <th></th>\n",
       "      <th></th>\n",
       "      <th></th>\n",
       "      <th></th>\n",
       "    </tr>\n",
       "  </thead>\n",
       "  <tbody>\n",
       "    <tr>\n",
       "      <th>2015-10-10</th>\n",
       "      <td>[2, 3, 16, 32, 53, 54]</td>\n",
       "      <td>8</td>\n",
       "      <td>2</td>\n",
       "      <td>3</td>\n",
       "      <td>16</td>\n",
       "      <td>32</td>\n",
       "      <td>53</td>\n",
       "      <td>54</td>\n",
       "    </tr>\n",
       "    <tr>\n",
       "      <th>2015-10-14</th>\n",
       "      <td>[7, 13, 20, 27, 39, 52]</td>\n",
       "      <td>35</td>\n",
       "      <td>7</td>\n",
       "      <td>13</td>\n",
       "      <td>20</td>\n",
       "      <td>27</td>\n",
       "      <td>39</td>\n",
       "      <td>52</td>\n",
       "    </tr>\n",
       "    <tr>\n",
       "      <th>2015-10-17</th>\n",
       "      <td>[8, 30, 37, 40, 46, 50]</td>\n",
       "      <td>36</td>\n",
       "      <td>8</td>\n",
       "      <td>30</td>\n",
       "      <td>37</td>\n",
       "      <td>40</td>\n",
       "      <td>46</td>\n",
       "      <td>50</td>\n",
       "    </tr>\n",
       "    <tr>\n",
       "      <th>2015-10-21</th>\n",
       "      <td>[13, 14, 21, 25, 51, 53]</td>\n",
       "      <td>39</td>\n",
       "      <td>13</td>\n",
       "      <td>14</td>\n",
       "      <td>21</td>\n",
       "      <td>25</td>\n",
       "      <td>51</td>\n",
       "      <td>53</td>\n",
       "    </tr>\n",
       "    <tr>\n",
       "      <th>2015-10-24</th>\n",
       "      <td>[29, 31, 43, 55, 58, 59]</td>\n",
       "      <td>11</td>\n",
       "      <td>29</td>\n",
       "      <td>31</td>\n",
       "      <td>43</td>\n",
       "      <td>55</td>\n",
       "      <td>58</td>\n",
       "      <td>59</td>\n",
       "    </tr>\n",
       "  </tbody>\n",
       "</table>\n",
       "</div>"
      ],
      "text/plain": [
       "                          main_balls  bonus_ball  ball_1  ball_2  ball_3  \\\n",
       "draw_date                                                                  \n",
       "2015-10-10    [2, 3, 16, 32, 53, 54]           8       2       3      16   \n",
       "2015-10-14   [7, 13, 20, 27, 39, 52]          35       7      13      20   \n",
       "2015-10-17   [8, 30, 37, 40, 46, 50]          36       8      30      37   \n",
       "2015-10-21  [13, 14, 21, 25, 51, 53]          39      13      14      21   \n",
       "2015-10-24  [29, 31, 43, 55, 58, 59]          11      29      31      43   \n",
       "\n",
       "            ball_4  ball_5  ball_6  \n",
       "draw_date                           \n",
       "2015-10-10      32      53      54  \n",
       "2015-10-14      27      39      52  \n",
       "2015-10-17      40      46      50  \n",
       "2015-10-21      25      51      53  \n",
       "2015-10-24      55      58      59  "
      ]
     },
     "execution_count": 7,
     "metadata": {},
     "output_type": "execute_result"
    }
   ],
   "source": [
    "# Create a new DataFrame containing just the main balls.\n",
    "main_balls_df = pd.DataFrame(results_df[\"main_balls\"].tolist(), index=results_df.index)\n",
    "# Rename the columns.\n",
    "main_balls_df.columns = [(\"ball_\" + str(x)) for x in range(1, 7)]\n",
    "# Combine this new DataFrame with the results DataFrame.\n",
    "results_df = pd.concat([results_df, main_balls_df], axis=1)\n",
    "results_df.head()"
   ]
  },
  {
   "cell_type": "markdown",
   "metadata": {},
   "source": [
    "Logically the bonus ball column should come after the main balls in the DataFrame."
   ]
  },
  {
   "cell_type": "code",
   "execution_count": 8,
   "metadata": {},
   "outputs": [
    {
     "data": {
      "text/html": [
       "<div>\n",
       "<style scoped>\n",
       "    .dataframe tbody tr th:only-of-type {\n",
       "        vertical-align: middle;\n",
       "    }\n",
       "\n",
       "    .dataframe tbody tr th {\n",
       "        vertical-align: top;\n",
       "    }\n",
       "\n",
       "    .dataframe thead th {\n",
       "        text-align: right;\n",
       "    }\n",
       "</style>\n",
       "<table border=\"1\" class=\"dataframe\">\n",
       "  <thead>\n",
       "    <tr style=\"text-align: right;\">\n",
       "      <th></th>\n",
       "      <th>main_balls</th>\n",
       "      <th>ball_1</th>\n",
       "      <th>ball_2</th>\n",
       "      <th>ball_3</th>\n",
       "      <th>ball_4</th>\n",
       "      <th>ball_5</th>\n",
       "      <th>ball_6</th>\n",
       "      <th>bonus_ball</th>\n",
       "    </tr>\n",
       "    <tr>\n",
       "      <th>draw_date</th>\n",
       "      <th></th>\n",
       "      <th></th>\n",
       "      <th></th>\n",
       "      <th></th>\n",
       "      <th></th>\n",
       "      <th></th>\n",
       "      <th></th>\n",
       "      <th></th>\n",
       "    </tr>\n",
       "  </thead>\n",
       "  <tbody>\n",
       "    <tr>\n",
       "      <th>2015-10-10</th>\n",
       "      <td>[2, 3, 16, 32, 53, 54]</td>\n",
       "      <td>2</td>\n",
       "      <td>3</td>\n",
       "      <td>16</td>\n",
       "      <td>32</td>\n",
       "      <td>53</td>\n",
       "      <td>54</td>\n",
       "      <td>8</td>\n",
       "    </tr>\n",
       "    <tr>\n",
       "      <th>2015-10-14</th>\n",
       "      <td>[7, 13, 20, 27, 39, 52]</td>\n",
       "      <td>7</td>\n",
       "      <td>13</td>\n",
       "      <td>20</td>\n",
       "      <td>27</td>\n",
       "      <td>39</td>\n",
       "      <td>52</td>\n",
       "      <td>35</td>\n",
       "    </tr>\n",
       "    <tr>\n",
       "      <th>2015-10-17</th>\n",
       "      <td>[8, 30, 37, 40, 46, 50]</td>\n",
       "      <td>8</td>\n",
       "      <td>30</td>\n",
       "      <td>37</td>\n",
       "      <td>40</td>\n",
       "      <td>46</td>\n",
       "      <td>50</td>\n",
       "      <td>36</td>\n",
       "    </tr>\n",
       "    <tr>\n",
       "      <th>2015-10-21</th>\n",
       "      <td>[13, 14, 21, 25, 51, 53]</td>\n",
       "      <td>13</td>\n",
       "      <td>14</td>\n",
       "      <td>21</td>\n",
       "      <td>25</td>\n",
       "      <td>51</td>\n",
       "      <td>53</td>\n",
       "      <td>39</td>\n",
       "    </tr>\n",
       "    <tr>\n",
       "      <th>2015-10-24</th>\n",
       "      <td>[29, 31, 43, 55, 58, 59]</td>\n",
       "      <td>29</td>\n",
       "      <td>31</td>\n",
       "      <td>43</td>\n",
       "      <td>55</td>\n",
       "      <td>58</td>\n",
       "      <td>59</td>\n",
       "      <td>11</td>\n",
       "    </tr>\n",
       "  </tbody>\n",
       "</table>\n",
       "</div>"
      ],
      "text/plain": [
       "                          main_balls  ball_1  ball_2  ball_3  ball_4  ball_5  \\\n",
       "draw_date                                                                      \n",
       "2015-10-10    [2, 3, 16, 32, 53, 54]       2       3      16      32      53   \n",
       "2015-10-14   [7, 13, 20, 27, 39, 52]       7      13      20      27      39   \n",
       "2015-10-17   [8, 30, 37, 40, 46, 50]       8      30      37      40      46   \n",
       "2015-10-21  [13, 14, 21, 25, 51, 53]      13      14      21      25      51   \n",
       "2015-10-24  [29, 31, 43, 55, 58, 59]      29      31      43      55      58   \n",
       "\n",
       "            ball_6  bonus_ball  \n",
       "draw_date                       \n",
       "2015-10-10      54           8  \n",
       "2015-10-14      52          35  \n",
       "2015-10-17      50          36  \n",
       "2015-10-21      53          39  \n",
       "2015-10-24      59          11  "
      ]
     },
     "execution_count": 8,
     "metadata": {},
     "output_type": "execute_result"
    }
   ],
   "source": [
    "# Save the bonus ball column as a Series.\n",
    "bonus_ball_series = results_df[\"bonus_ball\"]\n",
    "# Remove the bonus ball column from the DataFrame\n",
    "results_df = results_df.drop([\"bonus_ball\"], axis=1)\n",
    "# Add the bonus ball column once again at the end of the DataFrame.\n",
    "results_df = pd.concat([results_df, bonus_ball_series], axis=1)\n",
    "results_df.head()"
   ]
  },
  {
   "cell_type": "code",
   "execution_count": 9,
   "metadata": {},
   "outputs": [
    {
     "name": "stdout",
     "output_type": "stream",
     "text": [
      "<class 'pandas.core.frame.DataFrame'>\n",
      "Index: 450 entries, 2015-10-10 to 2020-01-29\n",
      "Data columns (total 8 columns):\n",
      "main_balls    450 non-null object\n",
      "ball_1        450 non-null int64\n",
      "ball_2        450 non-null int64\n",
      "ball_3        450 non-null int64\n",
      "ball_4        450 non-null int64\n",
      "ball_5        450 non-null int64\n",
      "ball_6        450 non-null int64\n",
      "bonus_ball    450 non-null int64\n",
      "dtypes: int64(7), object(1)\n",
      "memory usage: 51.6+ KB\n"
     ]
    }
   ],
   "source": [
    "results_df.info()"
   ]
  },
  {
   "cell_type": "markdown",
   "metadata": {},
   "source": [
    "The data is now filtered for the draws of interest and organised, ready for analysis."
   ]
  },
  {
   "cell_type": "markdown",
   "metadata": {},
   "source": [
    "## Analysis"
   ]
  },
  {
   "cell_type": "markdown",
   "metadata": {},
   "source": [
    "Lotto numbers are a categorical (nominal) data type since their numbers are only identifiers (could easily be replaced with words or colours etc.)."
   ]
  },
  {
   "cell_type": "markdown",
   "metadata": {},
   "source": [
    "In the 450 draws that took place in this dataset, I'd expect the number of times each ball was drawn to be fairly similar."
   ]
  },
  {
   "cell_type": "code",
   "execution_count": 10,
   "metadata": {},
   "outputs": [
    {
     "data": {
      "image/png": "[encoded data removed]",
      "text/plain": [
       "<Figure size 1152x576 with 1 Axes>"
      ]
     },
     "metadata": {
      "needs_background": "light"
     },
     "output_type": "display_data"
    }
   ],
   "source": [
    "# Display a bar plot showing the number of times each ball has been drawn.\n",
    "main_ball_count = results_df[[\"ball_1\", \"ball_2\", \"ball_3\", \"ball_4\", \"ball_5\", \"ball_6\"]].stack().value_counts()\n",
    "main_ball_count.plot(kind=\"bar\", figsize=(16,8), title=\"Lotto Main Ball Appearance Count\", grid=True, yticks=range(0, 62, 2))\n",
    "plt.xlabel(\"Ball Number\")\n",
    "plt.ylabel(\"Count\")\n",
    "plt.show()"
   ]
  },
  {
   "cell_type": "markdown",
   "metadata": {},
   "source": [
    "The bar chart above shows the number of times each ball has appeared in descending order from left to right. The most popular number was drawn 59 times and the least popular just 31 times."
   ]
  },
  {
   "cell_type": "code",
   "execution_count": 11,
   "metadata": {},
   "outputs": [
    {
     "data": {
      "text/plain": [
       "count    59.000000\n",
       "mean     45.762712\n",
       "std       6.339093\n",
       "min      31.000000\n",
       "25%      41.500000\n",
       "50%      46.000000\n",
       "75%      49.000000\n",
       "max      59.000000\n",
       "dtype: float64"
      ]
     },
     "execution_count": 11,
     "metadata": {},
     "output_type": "execute_result"
    }
   ],
   "source": [
    "main_ball_count.describe()"
   ]
  },
  {
   "cell_type": "markdown",
   "metadata": {},
   "source": [
    "The average appearance count of the balls was 45.8. The interquartile range was a fairly narrow 7.5, with 50% of the balls appearing between 41.5 and 49 times. However the range between least and most appearances is substantial at 28. This can be visualised with a box plot."
   ]
  },
  {
   "cell_type": "code",
   "execution_count": 12,
   "metadata": {},
   "outputs": [
    {
     "data": {
      "image/png": "[encoded data removed]",
      "text/plain": [
       "<Figure size 360x360 with 1 Axes>"
      ]
     },
     "metadata": {
      "needs_background": "light"
     },
     "output_type": "display_data"
    }
   ],
   "source": [
    "# Display a box plot for the count data. \n",
    "# NB. Although a boxplot can be created from a Series, to use the name in the plot it needs converting a into DataFrame.\n",
    "main_ball_count_df = main_ball_count.to_frame(name=\"appearance_count\")\n",
    "main_ball_count_df.plot(kind=\"box\", figsize=(5,5), yticks=range(28, 62, 2))\n",
    "plt.show()"
   ]
  },
  {
   "cell_type": "markdown",
   "metadata": {},
   "source": [
    "If the top six drawn numbers from all 450 draws in this dataset had been played each time, how many times would a prize have been won?"
   ]
  },
  {
   "cell_type": "code",
   "execution_count": 13,
   "metadata": {},
   "outputs": [],
   "source": [
    "# Function to compare two lists of six numbers and return the number of matches.\n",
    "def ticket_checker(draw_list, ticket_list):\n",
    "    no_of_matches = 0\n",
    "    index_draw = 0 \n",
    "    index_ticket = 0\n",
    "    while (index_ticket <= (len(ticket_list)-1)) and (index_draw <= (len(draw_list)-1)):\n",
    "            if ticket_list[index_ticket] == draw_list[index_draw]:\n",
    "                # Numbers match, move onto next ball on ticket and in draw.\n",
    "                no_of_matches += 1\n",
    "                index_ticket += 1\n",
    "                index_draw += 1\n",
    "            elif ticket_list[index_ticket] > draw_list[index_draw]:\n",
    "                # Ticket ball is higher than the drawn ball it is being compared to. Move onto next ball from draw.\n",
    "                index_draw += 1\n",
    "            else:\n",
    "                # Ticket ball is lower than the drawn ball it is being compared to. Move onto next ball on ticket.\n",
    "                index_ticket += 1\n",
    "    return no_of_matches"
   ]
  },
  {
   "cell_type": "code",
   "execution_count": 14,
   "metadata": {
    "scrolled": true
   },
   "outputs": [
    {
     "data": {
      "text/plain": [
       "0    198\n",
       "1    173\n",
       "2     70\n",
       "3      9\n",
       "Name: main_balls, dtype: int64"
      ]
     },
     "execution_count": 14,
     "metadata": {},
     "output_type": "execute_result"
    }
   ],
   "source": [
    "# Top six numbers from 450 draws in this dataset. \n",
    "top_six_numbers = [8, 41, 52, 54, 55, 58]\n",
    "\n",
    "wins_series = results_df[\"main_balls\"].apply(lambda x: ticket_checker(x, top_six_numbers))\n",
    "wins_series.value_counts()"
   ]
  },
  {
   "cell_type": "markdown",
   "metadata": {},
   "source": [
    "Prizes are given for matching two or more balls, so for the six most popular numbers, 79 tickets would have been winners. With each ticket costing £2, the outlay would have been £900. Two balls give you a free lucky dip ticket, so the only concrete return on the investment would have been £270 for the tickets matching three balls (each win £30)."
   ]
  },
  {
   "cell_type": "code",
   "execution_count": 15,
   "metadata": {},
   "outputs": [
    {
     "data": {
      "text/plain": [
       "draw_date\n",
       "2016-01-23    3\n",
       "2016-01-27    3\n",
       "2016-08-20    3\n",
       "2017-03-25    3\n",
       "2017-10-28    3\n",
       "2018-06-27    3\n",
       "2018-07-04    3\n",
       "2018-07-14    3\n",
       "2020-01-15    3\n",
       "Name: main_balls, dtype: int64"
      ]
     },
     "execution_count": 15,
     "metadata": {},
     "output_type": "execute_result"
    }
   ],
   "source": [
    "# Get the draw dates where the ticket matched three balls.\n",
    "wins_series.loc[lambda x: x == 3]"
   ]
  },
  {
   "cell_type": "markdown",
   "metadata": {},
   "source": [
    "Above I made the assumption that a lucky dip would always give zero return which is clearly not the reality as they are still just six random numbers despite not being picked by a human. So how much might a lucky dip ticket make across the 450 draws?"
   ]
  },
  {
   "cell_type": "code",
   "execution_count": 16,
   "metadata": {},
   "outputs": [
    {
     "name": "stdout",
     "output_type": "stream",
     "text": [
      "[[3, 17, 25, 27, 49, 55], [5, 9, 37, 49, 52, 55], [4, 6, 24, 55, 56, 59], [9, 16, 24, 35, 38, 39], [7, 16, 20, 26, 31, 47]]\n"
     ]
    }
   ],
   "source": [
    "# Create random (lucky dip) lottery tickets.\n",
    "def create_random_tickets(no_of_tickets):\n",
    "    ticket_wallet = []\n",
    "    for i in range(no_of_tickets):\n",
    "        # Set the seed for reproducability purposes of this project.\n",
    "        random.seed(i)\n",
    "        # Create a random six number ticket from numbers 1-59, sorted in ascending order.\n",
    "        ticket = sorted(random.sample(range(1,60), 6))\n",
    "        ticket_wallet.append(ticket)\n",
    "    # Return list of tickets.\n",
    "    return ticket_wallet\n",
    "\n",
    "my_lucky_dip_list = create_random_tickets(5)\n",
    "print(my_lucky_dip_list)"
   ]
  },
  {
   "cell_type": "code",
   "execution_count": 17,
   "metadata": {},
   "outputs": [
    {
     "data": {
      "text/plain": [
       "{'ticket_1': 0    228\n",
       " 1    176\n",
       " 2     39\n",
       " 3      7\n",
       " Name: main_balls, dtype: int64, 'ticket_2': 0    216\n",
       " 1    188\n",
       " 2     41\n",
       " 3      5\n",
       " Name: main_balls, dtype: int64, 'ticket_3': 0    235\n",
       " 1    167\n",
       " 2     43\n",
       " 3      5\n",
       " Name: main_balls, dtype: int64, 'ticket_4': 0    239\n",
       " 1    165\n",
       " 2     39\n",
       " 3      7\n",
       " Name: main_balls, dtype: int64, 'ticket_5': 0    232\n",
       " 1    163\n",
       " 2     47\n",
       " 3      8\n",
       " Name: main_balls, dtype: int64}"
      ]
     },
     "execution_count": 17,
     "metadata": {},
     "output_type": "execute_result"
    }
   ],
   "source": [
    "# Create a function to check each lucky dip ticket in a list against all the draws in the dataset.\n",
    "def checking_lucky_dips(list_of_tickets):\n",
    "    # Create a dictionary to hold the results and a counter to name the keys.\n",
    "    lucky_dip_results = {}\n",
    "    ticket_no = 1\n",
    "    for ticket in list_of_tickets:\n",
    "        # Apply the ticket_checker function from earlier to the current lucky dip ticket.\n",
    "        lucky_dip_series = results_df[\"main_balls\"].apply(lambda x: ticket_checker(x, ticket))\n",
    "        # Add the number of times the ticket won and lost to the dictionary.\n",
    "        lucky_dip_results[(\"ticket_\" + str(ticket_no))] = lucky_dip_series.value_counts()\n",
    "        ticket_no += 1\n",
    "    return lucky_dip_results\n",
    "\n",
    "checking_lucky_dips(my_lucky_dip_list)"
   ]
  },
  {
   "cell_type": "code",
   "execution_count": null,
   "metadata": {},
   "outputs": [],
   "source": []
  }
 ],
 "metadata": {
  "kernelspec": {
   "display_name": "Python 3",
   "language": "python",
   "name": "python3"
  },
  "language_info": {
   "codemirror_mode": {
    "name": "ipython",
    "version": 3
   },
   "file_extension": ".py",
   "mimetype": "text/x-python",
   "name": "python",
   "nbconvert_exporter": "python",
   "pygments_lexer": "ipython3",
   "version": "3.7.6"
  }
 },
 "nbformat": 4,
 "nbformat_minor": 2
}
