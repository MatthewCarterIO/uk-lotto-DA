{
 "cells": [
  {
   "cell_type": "markdown",
   "metadata": {},
   "source": [
    "# UK Lotto Results Analysis"
   ]
  },
  {
   "cell_type": "markdown",
   "metadata": {},
   "source": [
    "Author: Matthew Carter"
   ]
  },
  {
   "cell_type": "markdown",
   "metadata": {},
   "source": [
    "## Introduction"
   ]
  },
  {
   "cell_type": "markdown",
   "metadata": {},
   "source": [
    "The UK Lotto has been run by The National Lottery since 1994 and is now drawn twice a week. Players choose six balls and aim to match the six main balls in the draw to win the jackpot. Including a bonus ball, seven balls in total are drawn. Smaller prizes are won from matching two or more main balls.\n",
    "\n",
    "In this mini analysis I look at the draws since the new Lotto format was introduced on the 8th October 2015 which increased the number of balls in the draw from 49 to 59."
   ]
  },
  {
   "cell_type": "markdown",
   "metadata": {},
   "source": [
    "## Importing the dataset"
   ]
  },
  {
   "cell_type": "markdown",
   "metadata": {},
   "source": [
    "Lotto results for this project have been collected using my __[uk_lotto_scraper.py](https://github.com/MatthewCarterIO/uk-lotto-DA/blob/master/uk_lotto_scraper.py)__ file."
   ]
  },
  {
   "cell_type": "code",
   "execution_count": 1,
   "metadata": {},
   "outputs": [],
   "source": [
    "# Common Python packages that will be used throughout project.\n",
    "import pandas as pd\n",
    "import numpy as np\n",
    "import matplotlib.pyplot as plt"
   ]
  },
  {
   "cell_type": "code",
   "execution_count": 2,
   "metadata": {},
   "outputs": [
    {
     "data": {
      "text/html": [
       "<div>\n",
       "<style scoped>\n",
       "    .dataframe tbody tr th:only-of-type {\n",
       "        vertical-align: middle;\n",
       "    }\n",
       "\n",
       "    .dataframe tbody tr th {\n",
       "        vertical-align: top;\n",
       "    }\n",
       "\n",
       "    .dataframe thead th {\n",
       "        text-align: right;\n",
       "    }\n",
       "</style>\n",
       "<table border=\"1\" class=\"dataframe\">\n",
       "  <thead>\n",
       "    <tr style=\"text-align: right;\">\n",
       "      <th></th>\n",
       "      <th>draw_date</th>\n",
       "      <th>main_balls</th>\n",
       "      <th>bonus_ball</th>\n",
       "    </tr>\n",
       "  </thead>\n",
       "  <tbody>\n",
       "    <tr>\n",
       "      <th>0</th>\n",
       "      <td>2015-12-30</td>\n",
       "      <td>[22, 31, 47, 52, 55, 59]</td>\n",
       "      <td>23</td>\n",
       "    </tr>\n",
       "    <tr>\n",
       "      <th>1</th>\n",
       "      <td>2015-12-26</td>\n",
       "      <td>[17, 21, 31, 38, 44, 58]</td>\n",
       "      <td>20</td>\n",
       "    </tr>\n",
       "    <tr>\n",
       "      <th>2</th>\n",
       "      <td>2015-12-23</td>\n",
       "      <td>[1, 2, 4, 19, 28, 41]</td>\n",
       "      <td>32</td>\n",
       "    </tr>\n",
       "    <tr>\n",
       "      <th>3</th>\n",
       "      <td>2015-12-19</td>\n",
       "      <td>[13, 14, 27, 46, 48, 50]</td>\n",
       "      <td>42</td>\n",
       "    </tr>\n",
       "    <tr>\n",
       "      <th>4</th>\n",
       "      <td>2015-12-16</td>\n",
       "      <td>[10, 12, 35, 46, 48, 57]</td>\n",
       "      <td>14</td>\n",
       "    </tr>\n",
       "  </tbody>\n",
       "</table>\n",
       "</div>"
      ],
      "text/plain": [
       "    draw_date                main_balls  bonus_ball\n",
       "0  2015-12-30  [22, 31, 47, 52, 55, 59]          23\n",
       "1  2015-12-26  [17, 21, 31, 38, 44, 58]          20\n",
       "2  2015-12-23     [1, 2, 4, 19, 28, 41]          32\n",
       "3  2015-12-19  [13, 14, 27, 46, 48, 50]          42\n",
       "4  2015-12-16  [10, 12, 35, 46, 48, 57]          14"
      ]
     },
     "execution_count": 2,
     "metadata": {},
     "output_type": "execute_result"
    }
   ],
   "source": [
    "# Import the draw results.\n",
    "results_df = pd.read_csv(\"lotto_results.csv\")\n",
    "results_df.head()"
   ]
  },
  {
   "cell_type": "code",
   "execution_count": 3,
   "metadata": {},
   "outputs": [
    {
     "data": {
      "text/html": [
       "<div>\n",
       "<style scoped>\n",
       "    .dataframe tbody tr th:only-of-type {\n",
       "        vertical-align: middle;\n",
       "    }\n",
       "\n",
       "    .dataframe tbody tr th {\n",
       "        vertical-align: top;\n",
       "    }\n",
       "\n",
       "    .dataframe thead th {\n",
       "        text-align: right;\n",
       "    }\n",
       "</style>\n",
       "<table border=\"1\" class=\"dataframe\">\n",
       "  <thead>\n",
       "    <tr style=\"text-align: right;\">\n",
       "      <th></th>\n",
       "      <th>main_balls</th>\n",
       "      <th>bonus_ball</th>\n",
       "    </tr>\n",
       "    <tr>\n",
       "      <th>draw_date</th>\n",
       "      <th></th>\n",
       "      <th></th>\n",
       "    </tr>\n",
       "  </thead>\n",
       "  <tbody>\n",
       "    <tr>\n",
       "      <th>2015-01-03</th>\n",
       "      <td>[10, 15, 17, 18, 19, 31]</td>\n",
       "      <td>24</td>\n",
       "    </tr>\n",
       "    <tr>\n",
       "      <th>2015-01-07</th>\n",
       "      <td>[4, 5, 10, 12, 20, 23]</td>\n",
       "      <td>24</td>\n",
       "    </tr>\n",
       "    <tr>\n",
       "      <th>2015-01-10</th>\n",
       "      <td>[13, 14, 16, 24, 41, 43]</td>\n",
       "      <td>39</td>\n",
       "    </tr>\n",
       "    <tr>\n",
       "      <th>2015-01-14</th>\n",
       "      <td>[17, 20, 28, 29, 33, 36]</td>\n",
       "      <td>23</td>\n",
       "    </tr>\n",
       "    <tr>\n",
       "      <th>2015-01-17</th>\n",
       "      <td>[29, 37, 42, 46, 47, 49]</td>\n",
       "      <td>4</td>\n",
       "    </tr>\n",
       "  </tbody>\n",
       "</table>\n",
       "</div>"
      ],
      "text/plain": [
       "                          main_balls  bonus_ball\n",
       "draw_date                                       \n",
       "2015-01-03  [10, 15, 17, 18, 19, 31]          24\n",
       "2015-01-07    [4, 5, 10, 12, 20, 23]          24\n",
       "2015-01-10  [13, 14, 16, 24, 41, 43]          39\n",
       "2015-01-14  [17, 20, 28, 29, 33, 36]          23\n",
       "2015-01-17  [29, 37, 42, 46, 47, 49]           4"
      ]
     },
     "execution_count": 3,
     "metadata": {},
     "output_type": "execute_result"
    }
   ],
   "source": [
    "# Sort the DataFrame into ascending date order and make the draw_date column the index.\n",
    "results_df.sort_values(by=[\"draw_date\"], inplace=True)\n",
    "results_df.set_index(\"draw_date\", inplace=True)\n",
    "results_df.head()"
   ]
  },
  {
   "cell_type": "markdown",
   "metadata": {},
   "source": [
    "In this analysis the draw dates of interest are those after the 8th October 2015, running to the present (end of January 2020 at time of writing) when the new Lotto format was used."
   ]
  },
  {
   "cell_type": "code",
   "execution_count": 4,
   "metadata": {},
   "outputs": [
    {
     "data": {
      "text/html": [
       "<div>\n",
       "<style scoped>\n",
       "    .dataframe tbody tr th:only-of-type {\n",
       "        vertical-align: middle;\n",
       "    }\n",
       "\n",
       "    .dataframe tbody tr th {\n",
       "        vertical-align: top;\n",
       "    }\n",
       "\n",
       "    .dataframe thead th {\n",
       "        text-align: right;\n",
       "    }\n",
       "</style>\n",
       "<table border=\"1\" class=\"dataframe\">\n",
       "  <thead>\n",
       "    <tr style=\"text-align: right;\">\n",
       "      <th></th>\n",
       "      <th>main_balls</th>\n",
       "      <th>bonus_ball</th>\n",
       "    </tr>\n",
       "    <tr>\n",
       "      <th>draw_date</th>\n",
       "      <th></th>\n",
       "      <th></th>\n",
       "    </tr>\n",
       "  </thead>\n",
       "  <tbody>\n",
       "    <tr>\n",
       "      <th>2015-10-10</th>\n",
       "      <td>[2, 3, 16, 32, 53, 54]</td>\n",
       "      <td>8</td>\n",
       "    </tr>\n",
       "    <tr>\n",
       "      <th>2015-10-14</th>\n",
       "      <td>[7, 13, 20, 27, 39, 52]</td>\n",
       "      <td>35</td>\n",
       "    </tr>\n",
       "    <tr>\n",
       "      <th>2015-10-17</th>\n",
       "      <td>[8, 30, 37, 40, 46, 50]</td>\n",
       "      <td>36</td>\n",
       "    </tr>\n",
       "    <tr>\n",
       "      <th>2015-10-21</th>\n",
       "      <td>[13, 14, 21, 25, 51, 53]</td>\n",
       "      <td>39</td>\n",
       "    </tr>\n",
       "    <tr>\n",
       "      <th>2015-10-24</th>\n",
       "      <td>[29, 31, 43, 55, 58, 59]</td>\n",
       "      <td>11</td>\n",
       "    </tr>\n",
       "    <tr>\n",
       "      <th>...</th>\n",
       "      <td>...</td>\n",
       "      <td>...</td>\n",
       "    </tr>\n",
       "    <tr>\n",
       "      <th>2020-01-15</th>\n",
       "      <td>[15, 25, 50, 52, 54, 55]</td>\n",
       "      <td>28</td>\n",
       "    </tr>\n",
       "    <tr>\n",
       "      <th>2020-01-18</th>\n",
       "      <td>[14, 29, 35, 41, 42, 55]</td>\n",
       "      <td>11</td>\n",
       "    </tr>\n",
       "    <tr>\n",
       "      <th>2020-01-22</th>\n",
       "      <td>[19, 23, 25, 29, 30, 36]</td>\n",
       "      <td>14</td>\n",
       "    </tr>\n",
       "    <tr>\n",
       "      <th>2020-01-25</th>\n",
       "      <td>[18, 30, 33, 39, 54, 55]</td>\n",
       "      <td>21</td>\n",
       "    </tr>\n",
       "    <tr>\n",
       "      <th>2020-01-29</th>\n",
       "      <td>[7, 23, 40, 42, 47, 59]</td>\n",
       "      <td>58</td>\n",
       "    </tr>\n",
       "  </tbody>\n",
       "</table>\n",
       "<p>450 rows × 2 columns</p>\n",
       "</div>"
      ],
      "text/plain": [
       "                          main_balls  bonus_ball\n",
       "draw_date                                       \n",
       "2015-10-10    [2, 3, 16, 32, 53, 54]           8\n",
       "2015-10-14   [7, 13, 20, 27, 39, 52]          35\n",
       "2015-10-17   [8, 30, 37, 40, 46, 50]          36\n",
       "2015-10-21  [13, 14, 21, 25, 51, 53]          39\n",
       "2015-10-24  [29, 31, 43, 55, 58, 59]          11\n",
       "...                              ...         ...\n",
       "2020-01-15  [15, 25, 50, 52, 54, 55]          28\n",
       "2020-01-18  [14, 29, 35, 41, 42, 55]          11\n",
       "2020-01-22  [19, 23, 25, 29, 30, 36]          14\n",
       "2020-01-25  [18, 30, 33, 39, 54, 55]          21\n",
       "2020-01-29   [7, 23, 40, 42, 47, 59]          58\n",
       "\n",
       "[450 rows x 2 columns]"
      ]
     },
     "execution_count": 4,
     "metadata": {},
     "output_type": "execute_result"
    }
   ],
   "source": [
    "# Select rows in DataFrame after 2015-10-08.\n",
    "results_df = results_df.loc[\"2015-10-08\" : \"2020-01-31\"]\n",
    "results_df"
   ]
  },
  {
   "cell_type": "markdown",
   "metadata": {},
   "source": [
    "Saving the DataFrame to a CSV file in __[uk_lotto_scraper.py](https://github.com/MatthewCarterIO/uk-lotto-DA/blob/master/uk_lotto_scraper.py)__ resulted in the column containing lists of the main balls for each draw to be stored as strings instead of lists of integers."
   ]
  },
  {
   "cell_type": "code",
   "execution_count": 5,
   "metadata": {},
   "outputs": [
    {
     "name": "stdout",
     "output_type": "stream",
     "text": [
      "<class 'str'>\n"
     ]
    }
   ],
   "source": [
    "print(type(results_df.loc[\"2015-10-10\", \"main_balls\"]))"
   ]
  },
  {
   "cell_type": "code",
   "execution_count": 6,
   "metadata": {},
   "outputs": [
    {
     "name": "stdout",
     "output_type": "stream",
     "text": [
      "<class 'list'>\n"
     ]
    }
   ],
   "source": [
    "from ast import literal_eval\n",
    "\n",
    "# Function converting string back into a list of integers.\n",
    "def string_to_int_list(string_list):\n",
    "    return literal_eval(string_list)\n",
    "\n",
    "# Apply function to each row of the main_balls column.\n",
    "results_df['main_balls'] = results_df['main_balls'].apply(string_to_int_list)\n",
    "print(type(results_df.loc[\"2015-10-10\", \"main_balls\"]))"
   ]
  },
  {
   "cell_type": "code",
   "execution_count": null,
   "metadata": {},
   "outputs": [],
   "source": []
  }
 ],
 "metadata": {
  "kernelspec": {
   "display_name": "Python 3",
   "language": "python",
   "name": "python3"
  },
  "language_info": {
   "codemirror_mode": {
    "name": "ipython",
    "version": 3
   },
   "file_extension": ".py",
   "mimetype": "text/x-python",
   "name": "python",
   "nbconvert_exporter": "python",
   "pygments_lexer": "ipython3",
   "version": "3.7.6"
  }
 },
 "nbformat": 4,
 "nbformat_minor": 2
}
