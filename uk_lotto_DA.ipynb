{
 "cells": [
  {
   "cell_type": "markdown",
   "metadata": {},
   "source": [
    "# UK Lotto Results Analysis"
   ]
  },
  {
   "cell_type": "markdown",
   "metadata": {},
   "source": [
    "Author: Matthew Carter"
   ]
  },
  {
   "cell_type": "markdown",
   "metadata": {},
   "source": [
    "## Introduction"
   ]
  },
  {
   "cell_type": "markdown",
   "metadata": {},
   "source": [
    "The UK Lotto has been run by The National Lottery since 1994 and there are currently draws twice a week. Players choose six balls, aiming to match them with the six main balls in the draw to win the jackpot. Including a bonus ball, seven balls in total are drawn. Smaller prizes are won from matching two or more main balls.\n",
    "\n",
    "In this analysis I look at the draws since the new Lotto format was introduced on the 8th October 2015, which increased the number of balls in the draw from 49 to 59."
   ]
  },
  {
   "cell_type": "markdown",
   "metadata": {},
   "source": [
    "## Importing the dataset"
   ]
  },
  {
   "cell_type": "markdown",
   "metadata": {},
   "source": [
    "Lotto results for this project have been collected using my __[uk_lotto_scraper.py](https://github.com/MatthewCarterIO/uk-lotto-DA/blob/master/uk_lotto_scraper.py)__ file from the __[lottery.co.uk](https://www.lottery.co.uk/lotto/results)__ website (for personal use in this analysis only)."
   ]
  },
  {
   "cell_type": "code",
   "execution_count": 1,
   "metadata": {},
   "outputs": [],
   "source": [
    "# Common Python packages that will be used throughout project.\n",
    "import pandas as pd\n",
    "import numpy as np\n",
    "import matplotlib.pyplot as plt\n",
    "import random\n",
    "from ast import literal_eval\n",
    "from datetime import datetime\n",
    "from collections import Counter\n",
    "from itertools import combinations"
   ]
  },
  {
   "cell_type": "code",
   "execution_count": 2,
   "metadata": {},
   "outputs": [
    {
     "data": {
      "text/html": [
       "<div>\n",
       "<style scoped>\n",
       "    .dataframe tbody tr th:only-of-type {\n",
       "        vertical-align: middle;\n",
       "    }\n",
       "\n",
       "    .dataframe tbody tr th {\n",
       "        vertical-align: top;\n",
       "    }\n",
       "\n",
       "    .dataframe thead th {\n",
       "        text-align: right;\n",
       "    }\n",
       "</style>\n",
       "<table border=\"1\" class=\"dataframe\">\n",
       "  <thead>\n",
       "    <tr style=\"text-align: right;\">\n",
       "      <th></th>\n",
       "      <th>draw_date</th>\n",
       "      <th>main_balls</th>\n",
       "      <th>bonus_ball</th>\n",
       "    </tr>\n",
       "  </thead>\n",
       "  <tbody>\n",
       "    <tr>\n",
       "      <th>0</th>\n",
       "      <td>2015-12-30</td>\n",
       "      <td>[22, 31, 47, 52, 55, 59]</td>\n",
       "      <td>23</td>\n",
       "    </tr>\n",
       "    <tr>\n",
       "      <th>1</th>\n",
       "      <td>2015-12-26</td>\n",
       "      <td>[17, 21, 31, 38, 44, 58]</td>\n",
       "      <td>20</td>\n",
       "    </tr>\n",
       "    <tr>\n",
       "      <th>2</th>\n",
       "      <td>2015-12-23</td>\n",
       "      <td>[1, 2, 4, 19, 28, 41]</td>\n",
       "      <td>32</td>\n",
       "    </tr>\n",
       "    <tr>\n",
       "      <th>3</th>\n",
       "      <td>2015-12-19</td>\n",
       "      <td>[13, 14, 27, 46, 48, 50]</td>\n",
       "      <td>42</td>\n",
       "    </tr>\n",
       "    <tr>\n",
       "      <th>4</th>\n",
       "      <td>2015-12-16</td>\n",
       "      <td>[10, 12, 35, 46, 48, 57]</td>\n",
       "      <td>14</td>\n",
       "    </tr>\n",
       "  </tbody>\n",
       "</table>\n",
       "</div>"
      ],
      "text/plain": [
       "   draw_date                main_balls  bonus_ball\n",
       "0 2015-12-30  [22, 31, 47, 52, 55, 59]          23\n",
       "1 2015-12-26  [17, 21, 31, 38, 44, 58]          20\n",
       "2 2015-12-23     [1, 2, 4, 19, 28, 41]          32\n",
       "3 2015-12-19  [13, 14, 27, 46, 48, 50]          42\n",
       "4 2015-12-16  [10, 12, 35, 46, 48, 57]          14"
      ]
     },
     "execution_count": 2,
     "metadata": {},
     "output_type": "execute_result"
    }
   ],
   "source": [
    "# Import the draw results and convert the draw_date column into datetime \n",
    "# objects (type not preserved in the CSV file).\n",
    "results_df = pd.read_csv(\"lotto_results.csv\", parse_dates=[\"draw_date\"])\n",
    "results_df.head()"
   ]
  },
  {
   "cell_type": "code",
   "execution_count": 3,
   "metadata": {},
   "outputs": [
    {
     "name": "stdout",
     "output_type": "stream",
     "text": [
      "<class 'pandas.core.frame.DataFrame'>\n",
      "RangeIndex: 546 entries, 0 to 545\n",
      "Data columns (total 3 columns):\n",
      " #   Column      Non-Null Count  Dtype         \n",
      "---  ------      --------------  -----         \n",
      " 0   draw_date   546 non-null    datetime64[ns]\n",
      " 1   main_balls  546 non-null    object        \n",
      " 2   bonus_ball  546 non-null    int64         \n",
      "dtypes: datetime64[ns](1), int64(1), object(1)\n",
      "memory usage: 12.9+ KB\n"
     ]
    }
   ],
   "source": [
    "# Confirm the data types of each column and ensure there are no missing values.\n",
    "results_df.info()"
   ]
  },
  {
   "cell_type": "markdown",
   "metadata": {},
   "source": [
    "The `draw_date` column has successfully been converted into datetime data types. The `bonus_ball` column has been imported as the integers desired, however saving the DataFrame to a CSV file in __[uk_lotto_scraper.py](https://github.com/MatthewCarterIO/uk-lotto-DA/blob/master/uk_lotto_scraper.py)__ resulted in the `main_balls` column, which contained lists of integers for each draw, being stored as strings."
   ]
  },
  {
   "cell_type": "code",
   "execution_count": 4,
   "metadata": {},
   "outputs": [
    {
     "data": {
      "text/plain": [
       "str"
      ]
     },
     "execution_count": 4,
     "metadata": {},
     "output_type": "execute_result"
    }
   ],
   "source": [
    "# Get data type of first row, main_balls column.\n",
    "type(results_df.loc[0, \"main_balls\"])"
   ]
  },
  {
   "cell_type": "code",
   "execution_count": 5,
   "metadata": {},
   "outputs": [
    {
     "data": {
      "text/plain": [
       "list"
      ]
     },
     "execution_count": 5,
     "metadata": {},
     "output_type": "execute_result"
    }
   ],
   "source": [
    "# Function to convert string back into a list of integers.\n",
    "def string_to_int_list(string_list):\n",
    "    # Use literal_eval from ast module to evaluate the string into a list data \n",
    "    # type.\n",
    "    return literal_eval(string_list)\n",
    "\n",
    "\n",
    "# Apply function to each row of the main_balls column.\n",
    "results_df[\"main_balls\"] = results_df[\"main_balls\"].apply(string_to_int_list)\n",
    "# Get data type of first row, main_balls column.\n",
    "type(results_df.loc[0, \"main_balls\"])"
   ]
  },
  {
   "cell_type": "markdown",
   "metadata": {},
   "source": [
    "In this analysis the draw dates of interest are those after the 8th October 2015 when the new Lotto format was introduced, running to the present (25th March 2020 at time of last data collection)."
   ]
  },
  {
   "cell_type": "code",
   "execution_count": 6,
   "metadata": {},
   "outputs": [
    {
     "data": {
      "text/html": [
       "<div>\n",
       "<style scoped>\n",
       "    .dataframe tbody tr th:only-of-type {\n",
       "        vertical-align: middle;\n",
       "    }\n",
       "\n",
       "    .dataframe tbody tr th {\n",
       "        vertical-align: top;\n",
       "    }\n",
       "\n",
       "    .dataframe thead th {\n",
       "        text-align: right;\n",
       "    }\n",
       "</style>\n",
       "<table border=\"1\" class=\"dataframe\">\n",
       "  <thead>\n",
       "    <tr style=\"text-align: right;\">\n",
       "      <th></th>\n",
       "      <th>main_balls</th>\n",
       "      <th>bonus_ball</th>\n",
       "    </tr>\n",
       "    <tr>\n",
       "      <th>draw_date</th>\n",
       "      <th></th>\n",
       "      <th></th>\n",
       "    </tr>\n",
       "  </thead>\n",
       "  <tbody>\n",
       "    <tr>\n",
       "      <th>2015-01-03</th>\n",
       "      <td>[10, 15, 17, 18, 19, 31]</td>\n",
       "      <td>24</td>\n",
       "    </tr>\n",
       "    <tr>\n",
       "      <th>2015-01-07</th>\n",
       "      <td>[4, 5, 10, 12, 20, 23]</td>\n",
       "      <td>24</td>\n",
       "    </tr>\n",
       "    <tr>\n",
       "      <th>2015-01-10</th>\n",
       "      <td>[13, 14, 16, 24, 41, 43]</td>\n",
       "      <td>39</td>\n",
       "    </tr>\n",
       "    <tr>\n",
       "      <th>2015-01-14</th>\n",
       "      <td>[17, 20, 28, 29, 33, 36]</td>\n",
       "      <td>23</td>\n",
       "    </tr>\n",
       "    <tr>\n",
       "      <th>2015-01-17</th>\n",
       "      <td>[29, 37, 42, 46, 47, 49]</td>\n",
       "      <td>4</td>\n",
       "    </tr>\n",
       "  </tbody>\n",
       "</table>\n",
       "</div>"
      ],
      "text/plain": [
       "                          main_balls  bonus_ball\n",
       "draw_date                                       \n",
       "2015-01-03  [10, 15, 17, 18, 19, 31]          24\n",
       "2015-01-07    [4, 5, 10, 12, 20, 23]          24\n",
       "2015-01-10  [13, 14, 16, 24, 41, 43]          39\n",
       "2015-01-14  [17, 20, 28, 29, 33, 36]          23\n",
       "2015-01-17  [29, 37, 42, 46, 47, 49]           4"
      ]
     },
     "execution_count": 6,
     "metadata": {},
     "output_type": "execute_result"
    }
   ],
   "source": [
    "# Sort the DataFrame into ascending date order and set the draw_date column as \n",
    "# the index.\n",
    "results_df.sort_values(by=[\"draw_date\"], inplace=True)\n",
    "results_df.set_index(\"draw_date\", inplace=True)\n",
    "results_df.head()"
   ]
  },
  {
   "cell_type": "code",
   "execution_count": 7,
   "metadata": {},
   "outputs": [
    {
     "data": {
      "text/html": [
       "<div>\n",
       "<style scoped>\n",
       "    .dataframe tbody tr th:only-of-type {\n",
       "        vertical-align: middle;\n",
       "    }\n",
       "\n",
       "    .dataframe tbody tr th {\n",
       "        vertical-align: top;\n",
       "    }\n",
       "\n",
       "    .dataframe thead th {\n",
       "        text-align: right;\n",
       "    }\n",
       "</style>\n",
       "<table border=\"1\" class=\"dataframe\">\n",
       "  <thead>\n",
       "    <tr style=\"text-align: right;\">\n",
       "      <th></th>\n",
       "      <th>main_balls</th>\n",
       "      <th>bonus_ball</th>\n",
       "    </tr>\n",
       "    <tr>\n",
       "      <th>draw_date</th>\n",
       "      <th></th>\n",
       "      <th></th>\n",
       "    </tr>\n",
       "  </thead>\n",
       "  <tbody>\n",
       "    <tr>\n",
       "      <th>2015-10-10</th>\n",
       "      <td>[2, 3, 16, 32, 53, 54]</td>\n",
       "      <td>8</td>\n",
       "    </tr>\n",
       "    <tr>\n",
       "      <th>2015-10-14</th>\n",
       "      <td>[7, 13, 20, 27, 39, 52]</td>\n",
       "      <td>35</td>\n",
       "    </tr>\n",
       "    <tr>\n",
       "      <th>2015-10-17</th>\n",
       "      <td>[8, 30, 37, 40, 46, 50]</td>\n",
       "      <td>36</td>\n",
       "    </tr>\n",
       "    <tr>\n",
       "      <th>2015-10-21</th>\n",
       "      <td>[13, 14, 21, 25, 51, 53]</td>\n",
       "      <td>39</td>\n",
       "    </tr>\n",
       "    <tr>\n",
       "      <th>2015-10-24</th>\n",
       "      <td>[29, 31, 43, 55, 58, 59]</td>\n",
       "      <td>11</td>\n",
       "    </tr>\n",
       "    <tr>\n",
       "      <th>...</th>\n",
       "      <td>...</td>\n",
       "      <td>...</td>\n",
       "    </tr>\n",
       "    <tr>\n",
       "      <th>2020-03-11</th>\n",
       "      <td>[10, 39, 45, 46, 52, 54]</td>\n",
       "      <td>12</td>\n",
       "    </tr>\n",
       "    <tr>\n",
       "      <th>2020-03-14</th>\n",
       "      <td>[7, 22, 30, 38, 42, 47]</td>\n",
       "      <td>14</td>\n",
       "    </tr>\n",
       "    <tr>\n",
       "      <th>2020-03-18</th>\n",
       "      <td>[3, 7, 11, 19, 27, 52]</td>\n",
       "      <td>5</td>\n",
       "    </tr>\n",
       "    <tr>\n",
       "      <th>2020-03-21</th>\n",
       "      <td>[12, 26, 29, 34, 56, 58]</td>\n",
       "      <td>41</td>\n",
       "    </tr>\n",
       "    <tr>\n",
       "      <th>2020-03-25</th>\n",
       "      <td>[11, 24, 25, 39, 53, 57]</td>\n",
       "      <td>9</td>\n",
       "    </tr>\n",
       "  </tbody>\n",
       "</table>\n",
       "<p>466 rows × 2 columns</p>\n",
       "</div>"
      ],
      "text/plain": [
       "                          main_balls  bonus_ball\n",
       "draw_date                                       \n",
       "2015-10-10    [2, 3, 16, 32, 53, 54]           8\n",
       "2015-10-14   [7, 13, 20, 27, 39, 52]          35\n",
       "2015-10-17   [8, 30, 37, 40, 46, 50]          36\n",
       "2015-10-21  [13, 14, 21, 25, 51, 53]          39\n",
       "2015-10-24  [29, 31, 43, 55, 58, 59]          11\n",
       "...                              ...         ...\n",
       "2020-03-11  [10, 39, 45, 46, 52, 54]          12\n",
       "2020-03-14   [7, 22, 30, 38, 42, 47]          14\n",
       "2020-03-18    [3, 7, 11, 19, 27, 52]           5\n",
       "2020-03-21  [12, 26, 29, 34, 56, 58]          41\n",
       "2020-03-25  [11, 24, 25, 39, 53, 57]           9\n",
       "\n",
       "[466 rows x 2 columns]"
      ]
     },
     "execution_count": 7,
     "metadata": {},
     "output_type": "execute_result"
    }
   ],
   "source": [
    "# Select rows in DataFrame between 8th October 2015 and 25th March 2020 by \n",
    "# taking a slice of the original DataFrame.\n",
    "results_df = results_df[\"2015-10-08\" : \"2020-03-25\"]\n",
    "results_df"
   ]
  },
  {
   "cell_type": "markdown",
   "metadata": {},
   "source": [
    "For analysis it will be useful to separate each of the six main balls into columns of their own."
   ]
  },
  {
   "cell_type": "code",
   "execution_count": 8,
   "metadata": {},
   "outputs": [
    {
     "data": {
      "text/html": [
       "<div>\n",
       "<style scoped>\n",
       "    .dataframe tbody tr th:only-of-type {\n",
       "        vertical-align: middle;\n",
       "    }\n",
       "\n",
       "    .dataframe tbody tr th {\n",
       "        vertical-align: top;\n",
       "    }\n",
       "\n",
       "    .dataframe thead th {\n",
       "        text-align: right;\n",
       "    }\n",
       "</style>\n",
       "<table border=\"1\" class=\"dataframe\">\n",
       "  <thead>\n",
       "    <tr style=\"text-align: right;\">\n",
       "      <th></th>\n",
       "      <th>main_balls</th>\n",
       "      <th>bonus_ball</th>\n",
       "      <th>ball_1</th>\n",
       "      <th>ball_2</th>\n",
       "      <th>ball_3</th>\n",
       "      <th>ball_4</th>\n",
       "      <th>ball_5</th>\n",
       "      <th>ball_6</th>\n",
       "    </tr>\n",
       "    <tr>\n",
       "      <th>draw_date</th>\n",
       "      <th></th>\n",
       "      <th></th>\n",
       "      <th></th>\n",
       "      <th></th>\n",
       "      <th></th>\n",
       "      <th></th>\n",
       "      <th></th>\n",
       "      <th></th>\n",
       "    </tr>\n",
       "  </thead>\n",
       "  <tbody>\n",
       "    <tr>\n",
       "      <th>2015-10-10</th>\n",
       "      <td>[2, 3, 16, 32, 53, 54]</td>\n",
       "      <td>8</td>\n",
       "      <td>2</td>\n",
       "      <td>3</td>\n",
       "      <td>16</td>\n",
       "      <td>32</td>\n",
       "      <td>53</td>\n",
       "      <td>54</td>\n",
       "    </tr>\n",
       "    <tr>\n",
       "      <th>2015-10-14</th>\n",
       "      <td>[7, 13, 20, 27, 39, 52]</td>\n",
       "      <td>35</td>\n",
       "      <td>7</td>\n",
       "      <td>13</td>\n",
       "      <td>20</td>\n",
       "      <td>27</td>\n",
       "      <td>39</td>\n",
       "      <td>52</td>\n",
       "    </tr>\n",
       "    <tr>\n",
       "      <th>2015-10-17</th>\n",
       "      <td>[8, 30, 37, 40, 46, 50]</td>\n",
       "      <td>36</td>\n",
       "      <td>8</td>\n",
       "      <td>30</td>\n",
       "      <td>37</td>\n",
       "      <td>40</td>\n",
       "      <td>46</td>\n",
       "      <td>50</td>\n",
       "    </tr>\n",
       "    <tr>\n",
       "      <th>2015-10-21</th>\n",
       "      <td>[13, 14, 21, 25, 51, 53]</td>\n",
       "      <td>39</td>\n",
       "      <td>13</td>\n",
       "      <td>14</td>\n",
       "      <td>21</td>\n",
       "      <td>25</td>\n",
       "      <td>51</td>\n",
       "      <td>53</td>\n",
       "    </tr>\n",
       "    <tr>\n",
       "      <th>2015-10-24</th>\n",
       "      <td>[29, 31, 43, 55, 58, 59]</td>\n",
       "      <td>11</td>\n",
       "      <td>29</td>\n",
       "      <td>31</td>\n",
       "      <td>43</td>\n",
       "      <td>55</td>\n",
       "      <td>58</td>\n",
       "      <td>59</td>\n",
       "    </tr>\n",
       "  </tbody>\n",
       "</table>\n",
       "</div>"
      ],
      "text/plain": [
       "                          main_balls  bonus_ball  ball_1  ball_2  ball_3  \\\n",
       "draw_date                                                                  \n",
       "2015-10-10    [2, 3, 16, 32, 53, 54]           8       2       3      16   \n",
       "2015-10-14   [7, 13, 20, 27, 39, 52]          35       7      13      20   \n",
       "2015-10-17   [8, 30, 37, 40, 46, 50]          36       8      30      37   \n",
       "2015-10-21  [13, 14, 21, 25, 51, 53]          39      13      14      21   \n",
       "2015-10-24  [29, 31, 43, 55, 58, 59]          11      29      31      43   \n",
       "\n",
       "            ball_4  ball_5  ball_6  \n",
       "draw_date                           \n",
       "2015-10-10      32      53      54  \n",
       "2015-10-14      27      39      52  \n",
       "2015-10-17      40      46      50  \n",
       "2015-10-21      25      51      53  \n",
       "2015-10-24      55      58      59  "
      ]
     },
     "execution_count": 8,
     "metadata": {},
     "output_type": "execute_result"
    }
   ],
   "source": [
    "# Create a new DataFrame containing just the main balls.\n",
    "main_balls_df = pd.DataFrame(results_df[\"main_balls\"].tolist(), \n",
    "                             index=results_df.index)\n",
    "# Rename the columns.\n",
    "main_balls_df.columns = [(\"ball_\" + str(x)) for x in range(1, 7)]\n",
    "# Combine this new DataFrame with the original results DataFrame.\n",
    "results_df = pd.concat([results_df, main_balls_df], axis=\"columns\")\n",
    "results_df.head()"
   ]
  },
  {
   "cell_type": "markdown",
   "metadata": {},
   "source": [
    "Logically the bonus ball should come after the main balls in the DataFrame."
   ]
  },
  {
   "cell_type": "code",
   "execution_count": 9,
   "metadata": {},
   "outputs": [
    {
     "data": {
      "text/html": [
       "<div>\n",
       "<style scoped>\n",
       "    .dataframe tbody tr th:only-of-type {\n",
       "        vertical-align: middle;\n",
       "    }\n",
       "\n",
       "    .dataframe tbody tr th {\n",
       "        vertical-align: top;\n",
       "    }\n",
       "\n",
       "    .dataframe thead th {\n",
       "        text-align: right;\n",
       "    }\n",
       "</style>\n",
       "<table border=\"1\" class=\"dataframe\">\n",
       "  <thead>\n",
       "    <tr style=\"text-align: right;\">\n",
       "      <th></th>\n",
       "      <th>main_balls</th>\n",
       "      <th>ball_1</th>\n",
       "      <th>ball_2</th>\n",
       "      <th>ball_3</th>\n",
       "      <th>ball_4</th>\n",
       "      <th>ball_5</th>\n",
       "      <th>ball_6</th>\n",
       "      <th>bonus_ball</th>\n",
       "    </tr>\n",
       "    <tr>\n",
       "      <th>draw_date</th>\n",
       "      <th></th>\n",
       "      <th></th>\n",
       "      <th></th>\n",
       "      <th></th>\n",
       "      <th></th>\n",
       "      <th></th>\n",
       "      <th></th>\n",
       "      <th></th>\n",
       "    </tr>\n",
       "  </thead>\n",
       "  <tbody>\n",
       "    <tr>\n",
       "      <th>2015-10-10</th>\n",
       "      <td>[2, 3, 16, 32, 53, 54]</td>\n",
       "      <td>2</td>\n",
       "      <td>3</td>\n",
       "      <td>16</td>\n",
       "      <td>32</td>\n",
       "      <td>53</td>\n",
       "      <td>54</td>\n",
       "      <td>8</td>\n",
       "    </tr>\n",
       "    <tr>\n",
       "      <th>2015-10-14</th>\n",
       "      <td>[7, 13, 20, 27, 39, 52]</td>\n",
       "      <td>7</td>\n",
       "      <td>13</td>\n",
       "      <td>20</td>\n",
       "      <td>27</td>\n",
       "      <td>39</td>\n",
       "      <td>52</td>\n",
       "      <td>35</td>\n",
       "    </tr>\n",
       "    <tr>\n",
       "      <th>2015-10-17</th>\n",
       "      <td>[8, 30, 37, 40, 46, 50]</td>\n",
       "      <td>8</td>\n",
       "      <td>30</td>\n",
       "      <td>37</td>\n",
       "      <td>40</td>\n",
       "      <td>46</td>\n",
       "      <td>50</td>\n",
       "      <td>36</td>\n",
       "    </tr>\n",
       "    <tr>\n",
       "      <th>2015-10-21</th>\n",
       "      <td>[13, 14, 21, 25, 51, 53]</td>\n",
       "      <td>13</td>\n",
       "      <td>14</td>\n",
       "      <td>21</td>\n",
       "      <td>25</td>\n",
       "      <td>51</td>\n",
       "      <td>53</td>\n",
       "      <td>39</td>\n",
       "    </tr>\n",
       "    <tr>\n",
       "      <th>2015-10-24</th>\n",
       "      <td>[29, 31, 43, 55, 58, 59]</td>\n",
       "      <td>29</td>\n",
       "      <td>31</td>\n",
       "      <td>43</td>\n",
       "      <td>55</td>\n",
       "      <td>58</td>\n",
       "      <td>59</td>\n",
       "      <td>11</td>\n",
       "    </tr>\n",
       "  </tbody>\n",
       "</table>\n",
       "</div>"
      ],
      "text/plain": [
       "                          main_balls  ball_1  ball_2  ball_3  ball_4  ball_5  \\\n",
       "draw_date                                                                      \n",
       "2015-10-10    [2, 3, 16, 32, 53, 54]       2       3      16      32      53   \n",
       "2015-10-14   [7, 13, 20, 27, 39, 52]       7      13      20      27      39   \n",
       "2015-10-17   [8, 30, 37, 40, 46, 50]       8      30      37      40      46   \n",
       "2015-10-21  [13, 14, 21, 25, 51, 53]      13      14      21      25      51   \n",
       "2015-10-24  [29, 31, 43, 55, 58, 59]      29      31      43      55      58   \n",
       "\n",
       "            ball_6  bonus_ball  \n",
       "draw_date                       \n",
       "2015-10-10      54           8  \n",
       "2015-10-14      52          35  \n",
       "2015-10-17      50          36  \n",
       "2015-10-21      53          39  \n",
       "2015-10-24      59          11  "
      ]
     },
     "execution_count": 9,
     "metadata": {},
     "output_type": "execute_result"
    }
   ],
   "source": [
    "# Save the bonus_ball column as a Series.\n",
    "bonus_ball_series = results_df[\"bonus_ball\"]\n",
    "# Remove the bonus_ball column from the DataFrame\n",
    "results_df = results_df.drop([\"bonus_ball\"], axis=\"columns\")\n",
    "# Add the bonus_ball column once again at the end of the DataFrame.\n",
    "results_df = pd.concat([results_df, bonus_ball_series], axis=\"columns\")\n",
    "results_df.head()"
   ]
  },
  {
   "cell_type": "markdown",
   "metadata": {},
   "source": [
    "The data is now filtered for the draws of interest and organised ready for analysis."
   ]
  },
  {
   "cell_type": "code",
   "execution_count": 10,
   "metadata": {},
   "outputs": [
    {
     "name": "stdout",
     "output_type": "stream",
     "text": [
      "<class 'pandas.core.frame.DataFrame'>\n",
      "DatetimeIndex: 466 entries, 2015-10-10 to 2020-03-25\n",
      "Data columns (total 8 columns):\n",
      " #   Column      Non-Null Count  Dtype \n",
      "---  ------      --------------  ----- \n",
      " 0   main_balls  466 non-null    object\n",
      " 1   ball_1      466 non-null    int64 \n",
      " 2   ball_2      466 non-null    int64 \n",
      " 3   ball_3      466 non-null    int64 \n",
      " 4   ball_4      466 non-null    int64 \n",
      " 5   ball_5      466 non-null    int64 \n",
      " 6   ball_6      466 non-null    int64 \n",
      " 7   bonus_ball  466 non-null    int64 \n",
      "dtypes: int64(7), object(1)\n",
      "memory usage: 32.8+ KB\n"
     ]
    }
   ],
   "source": [
    "results_df.info()"
   ]
  },
  {
   "cell_type": "markdown",
   "metadata": {},
   "source": [
    "## Analysis"
   ]
  },
  {
   "cell_type": "markdown",
   "metadata": {},
   "source": [
    "Lotto numbers are a categorical (nominal) data type. Their numbers are only identifiers which could easily be replaced with descriptors such as words, shapes or colours."
   ]
  },
  {
   "cell_type": "markdown",
   "metadata": {},
   "source": [
    "### The odds"
   ]
  },
  {
   "cell_type": "markdown",
   "metadata": {},
   "source": [
    "The odds of winning the Lotto by matching all six main balls is often published, the combination function can be used to calculate it."
   ]
  },
  {
   "cell_type": "markdown",
   "metadata": {},
   "source": [
    "$ C(n,r) = \\begin{pmatrix} n \\\\ r \\end{pmatrix} = \\frac{n!}{r!(n-r)!} $ \n",
    "\n",
    "Where:\n",
    "\n",
    "$ n $ - number of balls in Lotto draw\n",
    "\n",
    "$ r $ - number of balls chosen\n",
    "\n",
    "and a factorial is defined as:\n",
    "\n",
    "$n!=n$ x $(n-1)$ x $(n-2)$ x $(n-3)$ x $\\dots$ x $3$ x $2$ x $1$\n",
    "\n",
    "__[source](https://www.mathsisfun.com/combinatorics/combinations-permutations.html)__"
   ]
  },
  {
   "cell_type": "code",
   "execution_count": 11,
   "metadata": {},
   "outputs": [],
   "source": [
    "# Function to calculate the factorial of a number using recursion.\n",
    "def factorial_formula(n):\n",
    "    if n == 0 or n == 1:\n",
    "        return 1\n",
    "    else:\n",
    "        return n * factorial_formula(n - 1)"
   ]
  },
  {
   "cell_type": "code",
   "execution_count": 12,
   "metadata": {},
   "outputs": [],
   "source": [
    "# The combination function. It is applicable where there is no repetition of \n",
    "# numbers and when order is irrelevant.\n",
    "def combinations_formula(n, r):\n",
    "    # n: number of balls in Lotto draw\n",
    "    # r: number of balls chosen\n",
    "    numerator = factorial_formula(n)\n",
    "    denominator = factorial_formula(r) * factorial_formula(n - r)\n",
    "    return numerator / denominator"
   ]
  },
  {
   "cell_type": "code",
   "execution_count": 13,
   "metadata": {},
   "outputs": [
    {
     "data": {
      "text/plain": [
       "45057474.0"
      ]
     },
     "execution_count": 13,
     "metadata": {},
     "output_type": "execute_result"
    }
   ],
   "source": [
    "# Probability of matching 6 main balls.\n",
    "combinations_formula(59, 6)"
   ]
  },
  {
   "cell_type": "markdown",
   "metadata": {},
   "source": [
    "So the odds of winning the Lotto is 1 in just over 45 million. Fortunately prizes can be won for matching two or more balls and those odds can also be calculated."
   ]
  },
  {
   "cell_type": "markdown",
   "metadata": {},
   "source": [
    "Probability matching $x$ balls = $\\frac{\\begin{pmatrix} r \\\\ x \\end{pmatrix} \\begin{pmatrix} n-r \\\\ r-x \\end{pmatrix}}{\\begin{pmatrix} n \\\\ r \\end{pmatrix}}$\n",
    "\n",
    "Where:\n",
    "\n",
    "$ \\begin{pmatrix} r \\\\ x \\end{pmatrix} $ - Number of ways to select the winning numbers\n",
    "\n",
    "$ \\begin{pmatrix} n-r \\\\ r-x \\end{pmatrix} $ - Number of ways to select the losing numbers\n",
    "\n",
    "$ \\begin{pmatrix} n \\\\ r \\end{pmatrix} $ - Total number of possible cominations.\n",
    "\n",
    "__[source](https://en.wikipedia.org/wiki/Lottery_mathematics)__"
   ]
  },
  {
   "cell_type": "code",
   "execution_count": 14,
   "metadata": {},
   "outputs": [],
   "source": [
    "# Function to calculate the probability of matching x number balls.\n",
    "def x_matches_formula(n, r, x):\n",
    "    # n: number of balls in Lotto draw\n",
    "    # r: number of balls chosen\n",
    "    # x: number of balls matched\n",
    "    numerator = combinations_formula(r, x) * combinations_formula((n-r), (r-x))\n",
    "    denominator = combinations_formula(n, r)\n",
    "    return numerator / denominator"
   ]
  },
  {
   "cell_type": "code",
   "execution_count": 15,
   "metadata": {},
   "outputs": [
    {
     "name": "stdout",
     "output_type": "stream",
     "text": [
      "2 matches: 1 in 10.0\n",
      "3 matches: 1 in 96.0\n",
      "4 matches: 1 in 2180.0\n",
      "5 matches: 1 in 141690.0\n"
     ]
    }
   ],
   "source": [
    "# Get odds of winning by matching 2, 3, 4, and 5 balls.\n",
    "for x in range(2, 6):\n",
    "    # 1 / probability\n",
    "    odds = 1 / x_matches_formula(59, 6, x)\n",
    "    print(f\"{x} matches: 1 in {np.around(odds, decimals=0)}\")"
   ]
  },
  {
   "cell_type": "markdown",
   "metadata": {},
   "source": [
    "### Most appearances"
   ]
  },
  {
   "cell_type": "markdown",
   "metadata": {},
   "source": [
    "In the 466 draws that took place in this dataset, I'd expect each ball to have been drawn a similar number of times."
   ]
  },
  {
   "cell_type": "code",
   "execution_count": 16,
   "metadata": {},
   "outputs": [
    {
     "data": {
      "image/png": "[encoded data removed]",
      "text/plain": [
       "<Figure size 1152x576 with 1 Axes>"
      ]
     },
     "metadata": {
      "needs_background": "light"
     },
     "output_type": "display_data"
    }
   ],
   "source": [
    "# Display a bar plot showing the number of times each ball has been drawn.\n",
    "main_ball_count = results_df[[\"ball_1\", \"ball_2\",\n",
    "                              \"ball_3\", \"ball_4\",\n",
    "                              \"ball_5\", \"ball_6\"]].stack().value_counts()\n",
    "main_ball_count.plot(kind=\"bar\", figsize=(16, 8),\n",
    "                     title=\"Lotto Main Ball Appearance Count\", grid=True,\n",
    "                     yticks=range(0, 66, 2))\n",
    "plt.xlabel(\"Ball Number\")\n",
    "plt.ylabel(\"Count\")\n",
    "plt.show()"
   ]
  },
  {
   "cell_type": "markdown",
   "metadata": {},
   "source": [
    "The number of times each ball has appeared is shown in descending order from left to right. The most popular numbers were drawn 62 times and the least popular just 32 times."
   ]
  },
  {
   "cell_type": "code",
   "execution_count": 17,
   "metadata": {},
   "outputs": [
    {
     "data": {
      "text/plain": [
       "count    59.0\n",
       "mean     47.4\n",
       "std       6.8\n",
       "min      32.0\n",
       "25%      43.0\n",
       "50%      48.0\n",
       "75%      51.0\n",
       "max      62.0\n",
       "dtype: float64"
      ]
     },
     "execution_count": 17,
     "metadata": {},
     "output_type": "execute_result"
    }
   ],
   "source": [
    "# Get general stats on the main_ball_count data.\n",
    "np.around(main_ball_count.describe(), decimals=1)"
   ]
  },
  {
   "cell_type": "markdown",
   "metadata": {},
   "source": [
    "The mean appearance count of the main balls was 47.4 (and with a median of 48 outliers are not an issue). The interquartile range was a fairly narrow 8, with 50% of the balls appearing between 43 and 51 times. However the range between least and most appearances is substantial at 30. This can be visualised with a box plot."
   ]
  },
  {
   "cell_type": "code",
   "execution_count": 18,
   "metadata": {
    "scrolled": true
   },
   "outputs": [
    {
     "data": {
      "image/png": "[encoded data removed]",
      "text/plain": [
       "<Figure size 360x360 with 1 Axes>"
      ]
     },
     "metadata": {
      "needs_background": "light"
     },
     "output_type": "display_data"
    }
   ],
   "source": [
    "# Display a box plot for the count data.\n",
    "main_ball_count.plot(kind=\"box\", figsize=(5, 5), yticks=range(28, 66, 2),\n",
    "                     label=\"main_balls\")\n",
    "plt.title(\"Main Ball Appearance Count Boxplot\")\n",
    "plt.ylabel(\"Count\")\n",
    "plt.show()"
   ]
  },
  {
   "cell_type": "markdown",
   "metadata": {},
   "source": [
    "### Common pairs"
   ]
  },
  {
   "cell_type": "markdown",
   "metadata": {},
   "source": [
    "How often do the same pair of balls appear in Lotto draws?"
   ]
  },
  {
   "cell_type": "code",
   "execution_count": 19,
   "metadata": {},
   "outputs": [
    {
     "data": {
      "text/plain": [
       "[((2, 54), 11),\n",
       " ((34, 52), 11),\n",
       " ((14, 19), 11),\n",
       " ((26, 35), 11),\n",
       " ((7, 47), 11),\n",
       " ((10, 54), 10),\n",
       " ((42, 58), 10),\n",
       " ((19, 29), 10),\n",
       " ((27, 36), 10),\n",
       " ((7, 58), 10)]"
      ]
     },
     "execution_count": 19,
     "metadata": {},
     "output_type": "execute_result"
    }
   ],
   "source": [
    "# Create a counter to store the pairs and how often they occur.\n",
    "pairs_counter = Counter()\n",
    "# For each draw (row) in the main_balls column of the results_df, extract all \n",
    "# possible pair combinations and add them to the counter.\n",
    "for draw in results_df[\"main_balls\"]:\n",
    "    for combination in combinations(draw, 2):\n",
    "        pairs_counter[combination] += 1\n",
    "# Display the ten most common ball pairs from all draws in this dataset.\n",
    "pairs_counter.most_common(10)"
   ]
  },
  {
   "cell_type": "markdown",
   "metadata": {},
   "source": [
    "### Time elapsed"
   ]
  },
  {
   "cell_type": "markdown",
   "metadata": {},
   "source": [
    "Players might like to know how much time has passed since a ball has been drawn when picking their numbers."
   ]
  },
  {
   "cell_type": "code",
   "execution_count": 20,
   "metadata": {},
   "outputs": [],
   "source": [
    "# Function to get all the dates that a ball appeared in a draw.\n",
    "def get_ball_draw_dates(ball_no):\n",
    "    # Create boolean mask Series from the dataframe showing True for a row if the ball number has appeared in any of the main ball columns.\n",
    "    ball_appeared_mask = results_df[[\"ball_1\",\"ball_2\",\"ball_3\",\"ball_4\",\"ball_5\",\"ball_6\"]].isin([ball_no]).any(axis=\"columns\")\n",
    "    # For each True row in the mask, retreive its index value (i.e. the draw date) and store it in a list.\n",
    "    ball_drawn_dates = []\n",
    "    for index, bool_value in ball_appeared_mask.items():\n",
    "        if bool_value:\n",
    "            ball_drawn_dates.append(index)\n",
    "    return ball_drawn_dates"
   ]
  },
  {
   "cell_type": "code",
   "execution_count": 21,
   "metadata": {},
   "outputs": [],
   "source": [
    "# Function to get the time in days between ball last being drawn and the present (taken to be the last draw in dataset, 25th March 2020, thus hard coded into function).\n",
    "def get_days_last_appeared(ball_no):\n",
    "    # Get all dates that the ball was drawn and store them in a list.\n",
    "    drawn_dates = get_ball_draw_dates(ball_no)\n",
    "    # As it is already ordered the most recent date that the ball appeared is last in the list, so subract it from the \"present\" date.\n",
    "    return (datetime(2020, 3, 25) - drawn_dates[-1]).days"
   ]
  },
  {
   "cell_type": "code",
   "execution_count": 22,
   "metadata": {
    "scrolled": true
   },
   "outputs": [
    {
     "name": "stdout",
     "output_type": "stream",
     "text": [
      "Ball 37 appeared 175 days ago.\n",
      "Ball 17 appeared 126 days ago.\n",
      "Ball 9 appeared 112 days ago.\n",
      "Ball 6 appeared 109 days ago.\n",
      "Ball 16 appeared 105 days ago.\n",
      "Ball 1 appeared 88 days ago.\n",
      "Ball 13 appeared 81 days ago.\n",
      "Ball 15 appeared 70 days ago.\n",
      "Ball 31 appeared 49 days ago.\n",
      "Ball 8 appeared 46 days ago.\n"
     ]
    }
   ],
   "source": [
    "# For all 59 balls get the number of days since each was last drawn and store them in a dictionary.\n",
    "last_appeared = {}\n",
    "for ball in range(1, 60):\n",
    "    last_appeared[ball] = get_days_last_appeared(ball)\n",
    "    \n",
    "# Create a list that is sorted in descending order using the values of the dictionary.\n",
    "last_appeared_sorted = sorted(last_appeared.items(), key=lambda x: x[1], reverse=True)\n",
    "# Get the top ten elements from the list.\n",
    "for appeared in last_appeared_sorted[:10]:\n",
    "    print(f\"Ball {appeared[0]} appeared {appeared[1]} days ago.\")"
   ]
  },
  {
   "cell_type": "markdown",
   "metadata": {},
   "source": [
    "Five balls haven't appeared in a Lotto draw for over 100 days, with 37 being a long way in front having not appeared for 175 days. How does this compare to the time periods we might expect in general?"
   ]
  },
  {
   "cell_type": "code",
   "execution_count": 23,
   "metadata": {},
   "outputs": [],
   "source": [
    "# Function to get the number of days between the same ball being drawn.\n",
    "def get_days_between(ball_draw_dates_list):\n",
    "    all_days_between = []\n",
    "    for i in range(0, len(ball_draw_dates_list) - 1):\n",
    "        days_between = (ball_draw_dates_list[i+1] - ball_draw_dates_list[i]).days\n",
    "        all_days_between.append(days_between)\n",
    "    return all_days_between"
   ]
  },
  {
   "cell_type": "markdown",
   "metadata": {},
   "source": [
    "In order to see whether the mean or median is best to represent the time between the same ball appearing, it is necessary to identify whether or not the data returned by the `get_days_between` function is normally distributed. In normal distributions, the plotted data forms a \"bell curve\" shape. It is symmetrical about the peak, denser near the centre and less so the further out you go. The mean and median values are equal, centrally located in the data. When the data is not normally distributed, outliers can have an effect on the mean pulling its value towards theirs, in which case the median provides a better representation. \n",
    "\n",
    "A quick visual method for doing this is by plotting a histogram from the data to see if fits the typical bell curve shape."
   ]
  },
  {
   "cell_type": "code",
   "execution_count": 24,
   "metadata": {},
   "outputs": [
    {
     "data": {
      "image/png": "[encoded data removed]",
      "text/plain": [
       "<Figure size 1152x288 with 4 Axes>"
      ]
     },
     "metadata": {
      "needs_background": "light"
     },
     "output_type": "display_data"
    }
   ],
   "source": [
    "# Plot a histogram for a sample of four random balls.\n",
    "fig, ax = plt.subplots(1, 4, figsize=(16, 4))\n",
    "ax[0].hist(get_days_between(get_ball_draw_dates(10)), color='r', label='Ball 10')\n",
    "ax[1].hist(get_days_between(get_ball_draw_dates(23)), color='g', label='Ball 23')\n",
    "ax[2].hist(get_days_between(get_ball_draw_dates(38)), color='b', label='Ball 38')\n",
    "ax[3].hist(get_days_between(get_ball_draw_dates(47)), color='y', label='Ball 47')\n",
    "fig.suptitle(\"Days Between Appearances for Selected Balls\")\n",
    "for i in range(4):\n",
    "    ax[i].set(xlabel=\"No. of Days\", ylabel=\"Count\")\n",
    "    ax[i].legend()\n",
    "plt.show()"
   ]
  },
  {
   "cell_type": "markdown",
   "metadata": {},
   "source": [
    "The data in these histograms does not appear to be normally distributed, but are positively skewed (skewed to the right). The mean values are likely to be higher due to the outliers, therefore the best measure of central tendancy that describes this data will be the median."
   ]
  },
  {
   "cell_type": "code",
   "execution_count": 25,
   "metadata": {
    "scrolled": true
   },
   "outputs": [
    {
     "data": {
      "text/plain": [
       "{1: (37.6, 35.0),\n",
       " 2: (33.0, 19.5),\n",
       " 3: (38.6, 28.0),\n",
       " 4: (34.1, 18.0),\n",
       " 5: (32.2, 24.0),\n",
       " 6: (38.0, 28.0),\n",
       " 7: (35.2, 21.0),\n",
       " 8: (27.6, 18.0),\n",
       " 9: (38.9, 33.5),\n",
       " 10: (34.2, 23.0),\n",
       " 11: (29.7, 22.5),\n",
       " 12: (38.4, 25.0),\n",
       " 13: (37.6, 28.0),\n",
       " 14: (33.2, 24.0),\n",
       " 15: (37.6, 26.5),\n",
       " 16: (33.8, 18.0),\n",
       " 17: (33.4, 24.0),\n",
       " 18: (37.3, 26.5),\n",
       " 19: (30.9, 22.5),\n",
       " 20: (32.6, 25.0),\n",
       " 21: (45.3, 25.0),\n",
       " 22: (33.8, 26.0),\n",
       " 23: (33.2, 18.0),\n",
       " 24: (46.4, 29.5),\n",
       " 25: (33.0, 24.0),\n",
       " 26: (33.5, 22.5),\n",
       " 27: (33.7, 28.0),\n",
       " 28: (44.6, 35.0),\n",
       " 29: (31.6, 21.0),\n",
       " 30: (35.0, 32.0),\n",
       " 31: (31.9, 21.0),\n",
       " 32: (34.1, 21.0),\n",
       " 33: (47.1, 35.0),\n",
       " 34: (31.9, 21.0),\n",
       " 35: (29.7, 21.0),\n",
       " 36: (30.6, 21.0),\n",
       " 37: (30.8, 24.0),\n",
       " 38: (32.7, 24.5),\n",
       " 39: (33.8, 26.5),\n",
       " 40: (30.2, 25.0),\n",
       " 41: (28.6, 21.0),\n",
       " 42: (28.0, 21.0),\n",
       " 43: (34.1, 24.5),\n",
       " 44: (36.5, 35.0),\n",
       " 45: (26.7, 21.0),\n",
       " 46: (31.5, 21.0),\n",
       " 47: (31.8, 23.0),\n",
       " 48: (44.9, 30.0),\n",
       " 49: (37.7, 24.5),\n",
       " 50: (44.4, 26.5),\n",
       " 51: (35.0, 28.0),\n",
       " 52: (27.9, 21.0),\n",
       " 53: (39.7, 32.0),\n",
       " 54: (26.5, 21.0),\n",
       " 55: (28.4, 17.0),\n",
       " 56: (32.0, 24.0),\n",
       " 57: (40.8, 28.0),\n",
       " 58: (26.4, 17.0),\n",
       " 59: (32.7, 21.0)}"
      ]
     },
     "execution_count": 25,
     "metadata": {},
     "output_type": "execute_result"
    }
   ],
   "source": [
    "# For all 59 balls get the mean and median number of days between the same ball being drawn and store them in a dictionary.\n",
    "stats_days_between = {}\n",
    "for ball in range(1, 60):\n",
    "    # Store ball number with mean days between appearances in a dictionary.\n",
    "    days_between = get_days_between(get_ball_draw_dates(ball))\n",
    "    stats_days_between[ball] = (np.around(np.mean(days_between), decimals=1),\n",
    "                                np.around(np.median(days_between), decimals=1))\n",
    "stats_days_between"
   ]
  },
  {
   "cell_type": "markdown",
   "metadata": {},
   "source": [
    "The `stats_days_between` dictionary does indeed show that the mean values are higher than the median for every ball, confirming what the histograms above showed. "
   ]
  },
  {
   "cell_type": "code",
   "execution_count": 26,
   "metadata": {
    "scrolled": false
   },
   "outputs": [
    {
     "data": {
      "text/plain": [
       "24.5"
      ]
     },
     "execution_count": 26,
     "metadata": {},
     "output_type": "execute_result"
    }
   ],
   "source": [
    "# Get the median values from the stats_days_between dictionary.\n",
    "median_days_between = []\n",
    "for k, v in stats_days_between.items():\n",
    "    median_days_between.append(v[1])\n",
    "\n",
    "# Find the average of these median values. \n",
    "np.around(np.mean(median_days_between), decimals=1)"
   ]
  },
  {
   "cell_type": "markdown",
   "metadata": {},
   "source": [
    "Therefore 25 days is the approximate time a player can expect between the same ball being drawn.\n",
    "\n",
    "Now to find the maximum time that has elapsed between draws where the same ball appeared."
   ]
  },
  {
   "cell_type": "code",
   "execution_count": 27,
   "metadata": {},
   "outputs": [],
   "source": [
    "# Function to get the minimum and maximum number of days between the same ball being drawn.\n",
    "def get_min_max_days_between(ball_draw_dates_list):\n",
    "    # Get list of the number of days between each ball appearance.\n",
    "    days_between = get_days_between(ball_draw_dates_list)\n",
    "    # Return the max and min values in the list.\n",
    "    return (min(days_between), max(days_between))"
   ]
  },
  {
   "cell_type": "code",
   "execution_count": 28,
   "metadata": {},
   "outputs": [
    {
     "data": {
      "text/plain": [
       "{1: (3, 136),\n",
       " 2: (3, 200),\n",
       " 3: (3, 147),\n",
       " 4: (3, 140),\n",
       " 5: (3, 175),\n",
       " 6: (3, 144),\n",
       " 7: (3, 164),\n",
       " 8: (3, 122),\n",
       " 9: (4, 186),\n",
       " 10: (3, 130),\n",
       " 11: (3, 109),\n",
       " 12: (3, 126),\n",
       " 13: (3, 137),\n",
       " 14: (3, 136),\n",
       " 15: (3, 154),\n",
       " 16: (3, 140),\n",
       " 17: (3, 182),\n",
       " 18: (3, 122),\n",
       " 19: (3, 137),\n",
       " 20: (3, 126),\n",
       " 21: (3, 392),\n",
       " 22: (4, 140),\n",
       " 23: (3, 224),\n",
       " 24: (3, 228),\n",
       " 25: (3, 122),\n",
       " 26: (3, 147),\n",
       " 27: (3, 161),\n",
       " 28: (3, 161),\n",
       " 29: (3, 168),\n",
       " 30: (3, 105),\n",
       " 31: (3, 122),\n",
       " 32: (3, 102),\n",
       " 33: (10, 238),\n",
       " 34: (3, 154),\n",
       " 35: (3, 154),\n",
       " 36: (3, 105),\n",
       " 37: (3, 161),\n",
       " 38: (3, 94),\n",
       " 39: (3, 98),\n",
       " 40: (3, 130),\n",
       " 41: (3, 119),\n",
       " 42: (3, 101),\n",
       " 43: (3, 133),\n",
       " 44: (3, 105),\n",
       " 45: (3, 108),\n",
       " 46: (3, 126),\n",
       " 47: (3, 112),\n",
       " 48: (3, 175),\n",
       " 49: (3, 115),\n",
       " 50: (3, 165),\n",
       " 51: (4, 119),\n",
       " 52: (3, 112),\n",
       " 53: (3, 154),\n",
       " 54: (3, 168),\n",
       " 55: (3, 112),\n",
       " 56: (3, 147),\n",
       " 57: (4, 224),\n",
       " 58: (3, 115),\n",
       " 59: (3, 217)}"
      ]
     },
     "execution_count": 28,
     "metadata": {},
     "output_type": "execute_result"
    }
   ],
   "source": [
    "# For all 59 balls get the minimum and maximum number of days elapsed between it being drawn and store them in a dictionary. \n",
    "min_max_days_elapsed = {}\n",
    "for ball in range(1, 60):\n",
    "    # Store ball number with min and max time elapsed between appearances in a dictionary.\n",
    "    min_max_days_elapsed[ball] = get_min_max_days_between(get_ball_draw_dates(ball))\n",
    "min_max_days_elapsed"
   ]
  },
  {
   "cell_type": "markdown",
   "metadata": {},
   "source": [
    "The overall minimum and maximum days elapsed between ball appearances can be found from this dictionary."
   ]
  },
  {
   "cell_type": "code",
   "execution_count": 29,
   "metadata": {},
   "outputs": [
    {
     "name": "stdout",
     "output_type": "stream",
     "text": [
      "Overall minimum days elapsed: 3\n"
     ]
    }
   ],
   "source": [
    "# Create a list containing just the minimum number of days between each ball appearing from the dictionary.\n",
    "min_days_elapsed = [x[0] for x in min_max_days_elapsed.values()]\n",
    "# Find the minimum value.\n",
    "print(f\"Overall minimum days elapsed: {min(min_days_elapsed)}\")"
   ]
  },
  {
   "cell_type": "code",
   "execution_count": 30,
   "metadata": {},
   "outputs": [
    {
     "name": "stdout",
     "output_type": "stream",
     "text": [
      "Overall maximum days elapsed: 392\n"
     ]
    }
   ],
   "source": [
    "# Create a list containing just the maximum number of days between each ball appearing from the dictionary.\n",
    "max_days_elapsed = [x[1] for x in min_max_days_elapsed.values()]\n",
    "# Find the maximum value.\n",
    "print(f\"Overall maximum days elapsed: {max(max_days_elapsed)}\")"
   ]
  },
  {
   "cell_type": "markdown",
   "metadata": {},
   "source": [
    "In general the least time that a ball has taken to appear again tends to be either three or four days, which is the time between draws. The longest time between appearances is expectedly more varied and Numpy can be used to confirm this."
   ]
  },
  {
   "cell_type": "code",
   "execution_count": 31,
   "metadata": {
    "scrolled": true
   },
   "outputs": [
    {
     "name": "stdout",
     "output_type": "stream",
     "text": [
      "Unique minimum elapsed days: 3\n",
      "Unique maximum elapsed days: 33\n"
     ]
    }
   ],
   "source": [
    "print(f\"Unique minimum elapsed days: {len(np.unique(min_days_elapsed))}\")\n",
    "print(f\"Unique maximum elapsed days: {len(np.unique(max_days_elapsed))}\")"
   ]
  },
  {
   "cell_type": "markdown",
   "metadata": {},
   "source": [
    "Therefore visualising the maximum time between each ball appearing will be more useful than doing it for the minimum elapsed times."
   ]
  },
  {
   "cell_type": "code",
   "execution_count": 32,
   "metadata": {
    "scrolled": false
   },
   "outputs": [
    {
     "data": {
      "image/png": "[encoded data removed]",
      "text/plain": [
       "<Figure size 864x576 with 1 Axes>"
      ]
     },
     "metadata": {
      "needs_background": "light"
     },
     "output_type": "display_data"
    }
   ],
   "source": [
    "# Plot bar chart of maximum time elapsed between appearances for each ball.\n",
    "fig = plt.figure(figsize=(12,8))\n",
    "ax = fig.add_axes([0,0,1,1])\n",
    "ax.bar(min_max_days_elapsed.keys(), max_days_elapsed, color='b')\n",
    "# Average time elapsed between a ball appearing calculated earlier.\n",
    "ax.axhline(y=np.around(np.mean(median_days_between), decimals=1), color=\"r\", label=\"Average Days Median\", linestyle=\"--\")\n",
    "ax.set_title(\"Maximum Time Between Ball Appearances\")\n",
    "ax.set_xlabel(\"Ball Number\")\n",
    "ax.set_ylabel(\"No. of Days\")\n",
    "ax.set_xticks(range(1,60))\n",
    "ax.set_yticks(range(0,420,20))\n",
    "ax.legend()\n",
    "plt.show()"
   ]
  },
  {
   "cell_type": "markdown",
   "metadata": {},
   "source": [
    "The red dotted line shows the approximate time expected between the same ball being drawn as calculated earlier (25 days). It serves to highlight how extreme the maximum elapsed times for each ball are."
   ]
  },
  {
   "cell_type": "markdown",
   "metadata": {},
   "source": [
    "### Top six"
   ]
  },
  {
   "cell_type": "markdown",
   "metadata": {},
   "source": [
    "If the top six drawn numbers from all 466 draws in this dataset had been played each time, how many times would a prize have been won?"
   ]
  },
  {
   "cell_type": "code",
   "execution_count": 33,
   "metadata": {},
   "outputs": [],
   "source": [
    "# Function to compare two ordered lists of unique numbers and return the number of matches.\n",
    "def ticket_checker(draw_list, ticket_list):\n",
    "    # Check if lists are of equal length.\n",
    "    if len(draw_list) != len(ticket_list):\n",
    "        # Lists unequal length, exit function.\n",
    "        print(\"Lists unequal length.\")\n",
    "        return\n",
    "    # Check each list contains only unique values.\n",
    "    if (len(draw_list) != len(set(draw_list))) or (len(ticket_list) != len(set(ticket_list))):\n",
    "        # At least one of the lists contains duplicate numbers, exit function.\n",
    "        print(\"Lists contain duplicate numbers.\")\n",
    "        return\n",
    "    # Ensure both lists are in ascending order. \n",
    "    draw_list.sort()\n",
    "    ticket_list.sort()\n",
    "    # Check for matches.\n",
    "    no_of_matches = 0\n",
    "    index_draw = 0 \n",
    "    index_ticket = 0\n",
    "    while (index_ticket <= (len(ticket_list)-1)) and (index_draw <= (len(draw_list)-1)):\n",
    "            if ticket_list[index_ticket] == draw_list[index_draw]:\n",
    "                # Numbers match, move onto next ball on ticket and in draw.\n",
    "                no_of_matches += 1\n",
    "                index_ticket += 1\n",
    "                index_draw += 1\n",
    "            elif ticket_list[index_ticket] > draw_list[index_draw]:\n",
    "                # Ticket ball is higher than the drawn ball it is being compared to. Move onto next ball from draw.\n",
    "                index_draw += 1\n",
    "            else:\n",
    "                # Ticket ball is lower than the drawn ball it is being compared to. Move onto next ball on ticket.\n",
    "                index_ticket += 1\n",
    "    return no_of_matches"
   ]
  },
  {
   "cell_type": "code",
   "execution_count": 34,
   "metadata": {
    "scrolled": false
   },
   "outputs": [
    {
     "data": {
      "text/plain": [
       "0    200\n",
       "1    187\n",
       "2     69\n",
       "3      9\n",
       "4      1\n",
       "Name: main_balls, dtype: int64"
      ]
     },
     "execution_count": 34,
     "metadata": {},
     "output_type": "execute_result"
    }
   ],
   "source": [
    "# Top six numbers from 466 draws in this dataset. \n",
    "top_six_numbers = [8, 42, 52, 54, 55, 58]\n",
    "wins_series = results_df[\"main_balls\"].apply(lambda x: ticket_checker(x, top_six_numbers))\n",
    "wins_series.value_counts()"
   ]
  },
  {
   "cell_type": "code",
   "execution_count": 35,
   "metadata": {},
   "outputs": [
    {
     "data": {
      "text/plain": [
       "draw_date\n",
       "2016-01-27    3\n",
       "2017-03-25    3\n",
       "2017-10-28    4\n",
       "2017-12-30    3\n",
       "2018-07-04    3\n",
       "2018-09-15    3\n",
       "2019-06-15    3\n",
       "2020-01-15    3\n",
       "2020-02-08    3\n",
       "2020-02-29    3\n",
       "Name: main_balls, dtype: int64"
      ]
     },
     "execution_count": 35,
     "metadata": {},
     "output_type": "execute_result"
    }
   ],
   "source": [
    "# Highlight the draws where the ticket matched three or four balls.\n",
    "matches = (wins_series == 3) | (wins_series == 4)\n",
    "wins_series[matches]"
   ]
  },
  {
   "cell_type": "markdown",
   "metadata": {},
   "source": [
    "Prizes are given for matching two or more balls, so for the six most popular numbers, 79 tickets would have been winners. With each ticket costing £2, the outlay would have been £932. Two balls give you a free lucky dip ticket which for the moment I am assuming is a loss, so the only concrete return on the investment would have been £270 for the tickets matching three balls (each win £30) and £140 for the draw matching four balls. This gives a current total return of £410."
   ]
  },
  {
   "cell_type": "markdown",
   "metadata": {},
   "source": [
    "### Lucky dip"
   ]
  },
  {
   "cell_type": "markdown",
   "metadata": {},
   "source": [
    "Above I made the assumption that a lucky dip ticket would always give zero return which is clearly not the reality. After all, despite not being picked by a human they are still just six random numbers. So to provide a more accurate total return, how much might a lucky dip ticket make across the same 466 draws?"
   ]
  },
  {
   "cell_type": "code",
   "execution_count": 36,
   "metadata": {},
   "outputs": [],
   "source": [
    "# Function to create lucky dip (random) lottery tickets.\n",
    "def create_lucky_dip_tickets(no_of_tickets, ball_no_list):\n",
    "    ticket_wallet = []\n",
    "    for i in range(no_of_tickets):\n",
    "        # Set the seed for reproducability purposes of this project.\n",
    "        random.seed(i)\n",
    "        # Create a random six number ticket from all ball numbers in list, sorted in ascending order.\n",
    "        ticket = sorted(random.sample(ball_no_list, 6))\n",
    "        ticket_wallet.append(ticket)\n",
    "    # Return list of tickets.\n",
    "    return ticket_wallet"
   ]
  },
  {
   "cell_type": "code",
   "execution_count": 37,
   "metadata": {
    "scrolled": true
   },
   "outputs": [
    {
     "data": {
      "text/plain": [
       "[[3, 17, 25, 27, 49, 55],\n",
       " [5, 9, 37, 49, 52, 55],\n",
       " [4, 6, 24, 55, 56, 59],\n",
       " [9, 16, 24, 35, 38, 39],\n",
       " [7, 16, 20, 26, 31, 47],\n",
       " [17, 23, 40, 45, 48, 51],\n",
       " [6, 32, 37, 49, 51, 53],\n",
       " [4, 5, 10, 21, 26, 42],\n",
       " [9, 13, 15, 24, 25, 46],\n",
       " [9, 12, 18, 24, 30, 40],\n",
       " [1, 3, 28, 31, 37, 59],\n",
       " [29, 30, 36, 50, 55, 56],\n",
       " [18, 23, 31, 34, 43, 57],\n",
       " [12, 17, 19, 44, 52, 57],\n",
       " [7, 34, 40, 42, 45, 49],\n",
       " [1, 3, 11, 14, 34, 48],\n",
       " [15, 19, 24, 27, 31, 58],\n",
       " [19, 20, 24, 27, 34, 52],\n",
       " [8, 12, 16, 22, 29, 43],\n",
       " [3, 8, 33, 34, 44, 51],\n",
       " [10, 44, 47, 50, 51, 58],\n",
       " [11, 19, 27, 41, 45, 58],\n",
       " [2, 9, 16, 29, 40, 59],\n",
       " [2, 6, 19, 38, 50, 54],\n",
       " [12, 14, 25, 38, 46, 54],\n",
       " [1, 14, 25, 50, 54, 57],\n",
       " [13, 14, 28, 39, 43, 48],\n",
       " [13, 18, 19, 31, 42, 45],\n",
       " [8, 9, 35, 39, 46, 48],\n",
       " [5, 23, 36, 39, 55, 56],\n",
       " [2, 19, 35, 40, 52, 56],\n",
       " [1, 8, 10, 26, 31, 49],\n",
       " [5, 10, 14, 16, 20, 45],\n",
       " [11, 15, 37, 41, 53, 54],\n",
       " [2, 15, 23, 34, 38, 54],\n",
       " [9, 22, 36, 48, 49, 58],\n",
       " [2, 4, 19, 22, 51, 52],\n",
       " [6, 39, 40, 43, 44, 54],\n",
       " [7, 27, 28, 41, 47, 49],\n",
       " [2, 13, 14, 15, 17, 25],\n",
       " [3, 16, 30, 34, 38, 57],\n",
       " [11, 15, 22, 25, 37, 59],\n",
       " [2, 8, 16, 18, 41, 48],\n",
       " [3, 10, 19, 30, 45, 49],\n",
       " [8, 12, 27, 34, 35, 45],\n",
       " [6, 17, 18, 20, 27, 32],\n",
       " [3, 5, 26, 38, 55, 57],\n",
       " [5, 23, 28, 30, 36, 37],\n",
       " [9, 21, 35, 36, 46, 59],\n",
       " [5, 8, 21, 23, 27, 49],\n",
       " [16, 18, 24, 32, 41, 55],\n",
       " [11, 16, 33, 36, 54, 59],\n",
       " [4, 18, 31, 33, 47, 57],\n",
       " [14, 30, 33, 40, 55, 57],\n",
       " [9, 20, 29, 31, 36, 59],\n",
       " [6, 10, 13, 20, 48, 54],\n",
       " [1, 31, 34, 36, 42, 55],\n",
       " [2, 3, 15, 24, 38, 39],\n",
       " [13, 14, 38, 42, 48, 58],\n",
       " [2, 6, 9, 15, 30, 42],\n",
       " [10, 15, 17, 19, 20, 37],\n",
       " [12, 14, 21, 32, 36, 52],\n",
       " [5, 12, 16, 30, 37, 53],\n",
       " [17, 19, 29, 31, 43, 59],\n",
       " [8, 26, 31, 35, 40, 41],\n",
       " [15, 19, 27, 33, 55, 58],\n",
       " [5, 16, 20, 28, 29, 51],\n",
       " [5, 8, 27, 30, 50, 56],\n",
       " [30, 33, 45, 48, 53, 59],\n",
       " [3, 5, 7, 11, 44, 52],\n",
       " [8, 19, 29, 30, 45, 59],\n",
       " [1, 17, 21, 33, 40, 52],\n",
       " [5, 12, 23, 39, 48, 51],\n",
       " [8, 12, 18, 31, 33, 37],\n",
       " [8, 21, 33, 40, 56, 59],\n",
       " [3, 28, 29, 30, 38, 47],\n",
       " [4, 13, 20, 24, 25, 30],\n",
       " [13, 16, 17, 21, 52, 56],\n",
       " [7, 13, 20, 43, 47, 53],\n",
       " [10, 11, 16, 23, 29, 39],\n",
       " [18, 24, 26, 27, 35, 46],\n",
       " [22, 30, 33, 35, 36, 54],\n",
       " [10, 19, 32, 33, 50, 53],\n",
       " [6, 9, 30, 32, 55, 58],\n",
       " [1, 3, 19, 32, 47, 50],\n",
       " [7, 13, 21, 40, 45, 53],\n",
       " [2, 21, 36, 50, 51, 54],\n",
       " [10, 13, 35, 48, 53, 54],\n",
       " [1, 12, 13, 22, 26, 41],\n",
       " [6, 9, 17, 39, 46, 50],\n",
       " [6, 14, 31, 37, 43, 46],\n",
       " [6, 11, 12, 38, 44, 56],\n",
       " [27, 34, 36, 37, 51, 56],\n",
       " [23, 32, 37, 47, 55, 59],\n",
       " [8, 12, 18, 20, 35, 53],\n",
       " [33, 35, 48, 49, 51, 58],\n",
       " [7, 14, 21, 24, 26, 44],\n",
       " [13, 24, 28, 52, 53, 54],\n",
       " [3, 23, 27, 37, 54, 59],\n",
       " [12, 13, 15, 25, 26, 39]]"
      ]
     },
     "execution_count": 37,
     "metadata": {},
     "output_type": "execute_result"
    }
   ],
   "source": [
    "# Create a list of balls 1-59.\n",
    "ball_numbers = range(1,60)\n",
    "# Create 100 lucky dip tickets.\n",
    "my_lucky_dip_tickets = create_lucky_dip_tickets(100, ball_numbers)\n",
    "my_lucky_dip_tickets"
   ]
  },
  {
   "cell_type": "code",
   "execution_count": 38,
   "metadata": {},
   "outputs": [],
   "source": [
    "# Function to check each lucky dip ticket in a list against all the draws in the results_df DataFrame.\n",
    "def check_lucky_dip_tickets(list_of_tickets):\n",
    "    # Create a dictionary to hold the results and a counter to name the keys.\n",
    "    lucky_dip_results = {}\n",
    "    ticket_no = 1\n",
    "    for ticket in list_of_tickets:\n",
    "        # Use the ticket_checker() function to check the current ticket against all draws in DataFrame.\n",
    "        lucky_dip_series = results_df[\"main_balls\"].apply(lambda x: ticket_checker(x, ticket))\n",
    "        # Add the results to the dictionary.\n",
    "        lucky_dip_results[(\"ticket_\" + str(ticket_no))] = [ticket, lucky_dip_series.value_counts()]\n",
    "        ticket_no += 1\n",
    "    return lucky_dip_results"
   ]
  },
  {
   "cell_type": "code",
   "execution_count": 39,
   "metadata": {
    "scrolled": true
   },
   "outputs": [
    {
     "data": {
      "text/plain": [
       "{'ticket_1': [[3, 17, 25, 27, 49, 55],\n",
       "  0    237\n",
       "  1    178\n",
       "  2     44\n",
       "  3      7\n",
       "  Name: main_balls, dtype: int64],\n",
       " 'ticket_2': [[5, 9, 37, 49, 52, 55],\n",
       "  0    226\n",
       "  1    192\n",
       "  2     43\n",
       "  3      5\n",
       "  Name: main_balls, dtype: int64],\n",
       " 'ticket_3': [[4, 6, 24, 55, 56, 59],\n",
       "  0    245\n",
       "  1    172\n",
       "  2     44\n",
       "  3      5\n",
       "  Name: main_balls, dtype: int64],\n",
       " 'ticket_4': [[9, 16, 24, 35, 38, 39],\n",
       "  0    249\n",
       "  1    170\n",
       "  2     40\n",
       "  3      7\n",
       "  Name: main_balls, dtype: int64],\n",
       " 'ticket_5': [[7, 16, 20, 26, 31, 47],\n",
       "  0    239\n",
       "  1    169\n",
       "  2     50\n",
       "  3      8\n",
       "  Name: main_balls, dtype: int64],\n",
       " 'ticket_6': [[17, 23, 40, 45, 48, 51],\n",
       "  0    231\n",
       "  1    190\n",
       "  2     44\n",
       "  3      1\n",
       "  Name: main_balls, dtype: int64],\n",
       " 'ticket_7': [[6, 32, 37, 49, 51, 53],\n",
       "  0    249\n",
       "  1    177\n",
       "  2     32\n",
       "  3      8\n",
       "  Name: main_balls, dtype: int64],\n",
       " 'ticket_8': [[4, 5, 10, 21, 26, 42],\n",
       "  0    237\n",
       "  1    183\n",
       "  2     38\n",
       "  3      8\n",
       "  Name: main_balls, dtype: int64],\n",
       " 'ticket_9': [[9, 13, 15, 24, 25, 46],\n",
       "  0    257\n",
       "  1    165\n",
       "  2     39\n",
       "  3      4\n",
       "  4      1\n",
       "  Name: main_balls, dtype: int64],\n",
       " 'ticket_10': [[9, 12, 18, 24, 30, 40],\n",
       "  0    261\n",
       "  1    154\n",
       "  2     47\n",
       "  3      4\n",
       "  Name: main_balls, dtype: int64],\n",
       " 'ticket_11': [[1, 3, 28, 31, 37, 59],\n",
       "  0    263\n",
       "  1    150\n",
       "  2     45\n",
       "  3      6\n",
       "  4      2\n",
       "  Name: main_balls, dtype: int64],\n",
       " 'ticket_12': [[29, 30, 36, 50, 55, 56],\n",
       "  0    235\n",
       "  1    174\n",
       "  2     49\n",
       "  3      8\n",
       "  Name: main_balls, dtype: int64],\n",
       " 'ticket_13': [[18, 23, 31, 34, 43, 57],\n",
       "  0    241\n",
       "  1    175\n",
       "  2     46\n",
       "  3      4\n",
       "  Name: main_balls, dtype: int64],\n",
       " 'ticket_14': [[12, 17, 19, 44, 52, 57],\n",
       "  0    238\n",
       "  1    181\n",
       "  2     42\n",
       "  3      5\n",
       "  Name: main_balls, dtype: int64],\n",
       " 'ticket_15': [[7, 34, 40, 42, 45, 49],\n",
       "  0    228\n",
       "  1    177\n",
       "  2     54\n",
       "  3      7\n",
       "  Name: main_balls, dtype: int64],\n",
       " 'ticket_16': [[1, 3, 11, 14, 34, 48],\n",
       "  0    246\n",
       "  1    176\n",
       "  2     36\n",
       "  3      7\n",
       "  4      1\n",
       "  Name: main_balls, dtype: int64],\n",
       " 'ticket_17': [[15, 19, 24, 27, 31, 58],\n",
       "  0    237\n",
       "  1    177\n",
       "  2     45\n",
       "  3      7\n",
       "  Name: main_balls, dtype: int64],\n",
       " 'ticket_18': [[19, 20, 24, 27, 34, 52],\n",
       "  0    241\n",
       "  1    169\n",
       "  2     45\n",
       "  3      8\n",
       "  4      3\n",
       "  Name: main_balls, dtype: int64],\n",
       " 'ticket_19': [[8, 12, 16, 22, 29, 43],\n",
       "  0    235\n",
       "  1    176\n",
       "  2     49\n",
       "  3      6\n",
       "  Name: main_balls, dtype: int64],\n",
       " 'ticket_20': [[3, 8, 33, 34, 44, 51],\n",
       "  0    250\n",
       "  1    165\n",
       "  2     45\n",
       "  3      6\n",
       "  Name: main_balls, dtype: int64],\n",
       " 'ticket_21': [[10, 44, 47, 50, 51, 58],\n",
       "  0    238\n",
       "  1    174\n",
       "  2     50\n",
       "  3      4\n",
       "  Name: main_balls, dtype: int64],\n",
       " 'ticket_22': [[11, 19, 27, 41, 45, 58],\n",
       "  0    212\n",
       "  1    193\n",
       "  2     51\n",
       "  3      9\n",
       "  4      1\n",
       "  Name: main_balls, dtype: int64],\n",
       " 'ticket_23': [[2, 9, 16, 29, 40, 59],\n",
       "  0    237\n",
       "  1    173\n",
       "  2     52\n",
       "  3      4\n",
       "  Name: main_balls, dtype: int64],\n",
       " 'ticket_24': [[2, 6, 19, 38, 50, 54],\n",
       "  0    245\n",
       "  1    161\n",
       "  2     55\n",
       "  3      5\n",
       "  Name: main_balls, dtype: int64],\n",
       " 'ticket_25': [[12, 14, 25, 38, 46, 54],\n",
       "  0    212\n",
       "  1    210\n",
       "  2     38\n",
       "  3      6\n",
       "  Name: main_balls, dtype: int64],\n",
       " 'ticket_26': [[1, 14, 25, 50, 54, 57],\n",
       "  0    241\n",
       "  1    177\n",
       "  2     43\n",
       "  3      5\n",
       "  Name: main_balls, dtype: int64],\n",
       " 'ticket_27': [[13, 14, 28, 39, 43, 48],\n",
       "  0    256\n",
       "  1    164\n",
       "  2     44\n",
       "  3      2\n",
       "  Name: main_balls, dtype: int64],\n",
       " 'ticket_28': [[13, 18, 19, 31, 42, 45],\n",
       "  0    226\n",
       "  1    189\n",
       "  2     45\n",
       "  3      6\n",
       "  Name: main_balls, dtype: int64],\n",
       " 'ticket_29': [[8, 9, 35, 39, 46, 48],\n",
       "  0    245\n",
       "  1    161\n",
       "  2     55\n",
       "  3      5\n",
       "  Name: main_balls, dtype: int64],\n",
       " 'ticket_30': [[5, 23, 36, 39, 55, 56],\n",
       "  0    224\n",
       "  1    185\n",
       "  2     52\n",
       "  3      5\n",
       "  Name: main_balls, dtype: int64],\n",
       " 'ticket_31': [[2, 19, 35, 40, 52, 56],\n",
       "  0    219\n",
       "  1    188\n",
       "  2     51\n",
       "  3      6\n",
       "  4      2\n",
       "  Name: main_balls, dtype: int64],\n",
       " 'ticket_32': [[1, 8, 10, 26, 31, 49],\n",
       "  0    244\n",
       "  1    170\n",
       "  2     39\n",
       "  3     13\n",
       "  Name: main_balls, dtype: int64],\n",
       " 'ticket_33': [[5, 10, 14, 16, 20, 45],\n",
       "  0    235\n",
       "  1    177\n",
       "  2     48\n",
       "  3      5\n",
       "  4      1\n",
       "  Name: main_balls, dtype: int64],\n",
       " 'ticket_34': [[11, 15, 37, 41, 53, 54],\n",
       "  0    229\n",
       "  1    176\n",
       "  2     55\n",
       "  3      6\n",
       "  Name: main_balls, dtype: int64],\n",
       " 'ticket_35': [[2, 15, 23, 34, 38, 54],\n",
       "  0    229\n",
       "  1    182\n",
       "  2     47\n",
       "  3      8\n",
       "  Name: main_balls, dtype: int64],\n",
       " 'ticket_36': [[9, 22, 36, 48, 49, 58],\n",
       "  0    239\n",
       "  1    179\n",
       "  2     45\n",
       "  3      2\n",
       "  4      1\n",
       "  Name: main_balls, dtype: int64],\n",
       " 'ticket_37': [[2, 4, 19, 22, 51, 52],\n",
       "  0    228\n",
       "  1    184\n",
       "  2     48\n",
       "  3      6\n",
       "  Name: main_balls, dtype: int64],\n",
       " 'ticket_38': [[6, 39, 40, 43, 44, 54],\n",
       "  0    227\n",
       "  1    187\n",
       "  2     50\n",
       "  3      2\n",
       "  Name: main_balls, dtype: int64],\n",
       " 'ticket_39': [[7, 27, 28, 41, 47, 49],\n",
       "  0    242\n",
       "  1    171\n",
       "  2     48\n",
       "  3      5\n",
       "  Name: main_balls, dtype: int64],\n",
       " 'ticket_40': [[2, 13, 14, 15, 17, 25],\n",
       "  0    248\n",
       "  1    165\n",
       "  2     48\n",
       "  3      5\n",
       "  Name: main_balls, dtype: int64],\n",
       " 'ticket_41': [[3, 16, 30, 34, 38, 57],\n",
       "  0    245\n",
       "  1    171\n",
       "  2     45\n",
       "  3      5\n",
       "  Name: main_balls, dtype: int64],\n",
       " 'ticket_42': [[11, 15, 22, 25, 37, 59],\n",
       "  0    243\n",
       "  1    165\n",
       "  2     49\n",
       "  3      9\n",
       "  Name: main_balls, dtype: int64],\n",
       " 'ticket_43': [[2, 8, 16, 18, 41, 48],\n",
       "  0    236\n",
       "  1    177\n",
       "  2     49\n",
       "  3      4\n",
       "  Name: main_balls, dtype: int64],\n",
       " 'ticket_44': [[3, 10, 19, 30, 45, 49],\n",
       "  0    247\n",
       "  1    164\n",
       "  2     45\n",
       "  3     10\n",
       "  Name: main_balls, dtype: int64],\n",
       " 'ticket_45': [[8, 12, 27, 34, 35, 45],\n",
       "  0    221\n",
       "  1    191\n",
       "  2     47\n",
       "  3      7\n",
       "  Name: main_balls, dtype: int64],\n",
       " 'ticket_46': [[6, 17, 18, 20, 27, 32],\n",
       "  0    253\n",
       "  1    159\n",
       "  2     48\n",
       "  3      6\n",
       "  Name: main_balls, dtype: int64],\n",
       " 'ticket_47': [[3, 5, 26, 38, 55, 57],\n",
       "  0    235\n",
       "  1    179\n",
       "  2     50\n",
       "  3      2\n",
       "  Name: main_balls, dtype: int64],\n",
       " 'ticket_48': [[5, 23, 28, 30, 36, 37],\n",
       "  0    245\n",
       "  1    171\n",
       "  2     43\n",
       "  3      6\n",
       "  4      1\n",
       "  Name: main_balls, dtype: int64],\n",
       " 'ticket_49': [[9, 21, 35, 36, 46, 59],\n",
       "  0    246\n",
       "  1    163\n",
       "  2     53\n",
       "  3      3\n",
       "  4      1\n",
       "  Name: main_balls, dtype: int64],\n",
       " 'ticket_50': [[5, 8, 21, 23, 27, 49],\n",
       "  0    236\n",
       "  1    186\n",
       "  2     37\n",
       "  3      7\n",
       "  Name: main_balls, dtype: int64],\n",
       " 'ticket_51': [[16, 18, 24, 32, 41, 55],\n",
       "  0    235\n",
       "  1    183\n",
       "  2     42\n",
       "  3      6\n",
       "  Name: main_balls, dtype: int64],\n",
       " 'ticket_52': [[11, 16, 33, 36, 54, 59],\n",
       "  0    231\n",
       "  1    180\n",
       "  2     49\n",
       "  3      5\n",
       "  4      1\n",
       "  Name: main_balls, dtype: int64],\n",
       " 'ticket_53': [[4, 18, 31, 33, 47, 57],\n",
       "  0    241\n",
       "  1    190\n",
       "  2     33\n",
       "  3      2\n",
       "  Name: main_balls, dtype: int64],\n",
       " 'ticket_54': [[14, 30, 33, 40, 55, 57],\n",
       "  0    242\n",
       "  1    175\n",
       "  2     43\n",
       "  3      6\n",
       "  Name: main_balls, dtype: int64],\n",
       " 'ticket_55': [[9, 20, 29, 31, 36, 59],\n",
       "  0    221\n",
       "  1    198\n",
       "  2     46\n",
       "  3      1\n",
       "  Name: main_balls, dtype: int64],\n",
       " 'ticket_56': [[6, 10, 13, 20, 48, 54],\n",
       "  0    244\n",
       "  1    172\n",
       "  2     48\n",
       "  3      2\n",
       "  Name: main_balls, dtype: int64],\n",
       " 'ticket_57': [[1, 31, 34, 36, 42, 55],\n",
       "  0    218\n",
       "  1    190\n",
       "  2     55\n",
       "  3      3\n",
       "  Name: main_balls, dtype: int64],\n",
       " 'ticket_58': [[2, 3, 15, 24, 38, 39],\n",
       "  0    249\n",
       "  1    175\n",
       "  2     36\n",
       "  3      5\n",
       "  4      1\n",
       "  Name: main_balls, dtype: int64],\n",
       " 'ticket_59': [[13, 14, 38, 42, 48, 58],\n",
       "  0    235\n",
       "  1    174\n",
       "  2     51\n",
       "  3      5\n",
       "  4      1\n",
       "  Name: main_balls, dtype: int64],\n",
       " 'ticket_60': [[2, 6, 9, 15, 30, 42],\n",
       "  0    239\n",
       "  1    186\n",
       "  2     37\n",
       "  3      4\n",
       "  Name: main_balls, dtype: int64],\n",
       " 'ticket_61': [[10, 15, 17, 19, 20, 37],\n",
       "  0    241\n",
       "  1    176\n",
       "  2     41\n",
       "  3      8\n",
       "  Name: main_balls, dtype: int64],\n",
       " 'ticket_62': [[12, 14, 21, 32, 36, 52],\n",
       "  0    221\n",
       "  1    207\n",
       "  2     34\n",
       "  3      4\n",
       "  Name: main_balls, dtype: int64],\n",
       " 'ticket_63': [[5, 12, 16, 30, 37, 53],\n",
       "  0    240\n",
       "  1    186\n",
       "  2     34\n",
       "  3      6\n",
       "  Name: main_balls, dtype: int64],\n",
       " 'ticket_64': [[17, 19, 29, 31, 43, 59],\n",
       "  0    228\n",
       "  1    185\n",
       "  2     51\n",
       "  4      1\n",
       "  3      1\n",
       "  Name: main_balls, dtype: int64],\n",
       " 'ticket_65': [[8, 26, 31, 35, 40, 41],\n",
       "  0    238\n",
       "  1    152\n",
       "  2     62\n",
       "  3     12\n",
       "  4      2\n",
       "  Name: main_balls, dtype: int64],\n",
       " 'ticket_66': [[15, 19, 27, 33, 55, 58],\n",
       "  0    232\n",
       "  1    180\n",
       "  2     51\n",
       "  3      2\n",
       "  4      1\n",
       "  Name: main_balls, dtype: int64],\n",
       " 'ticket_67': [[5, 16, 20, 28, 29, 51],\n",
       "  0    246\n",
       "  1    168\n",
       "  2     47\n",
       "  3      5\n",
       "  Name: main_balls, dtype: int64],\n",
       " 'ticket_68': [[5, 8, 27, 30, 50, 56],\n",
       "  0    237\n",
       "  1    175\n",
       "  2     49\n",
       "  3      5\n",
       "  Name: main_balls, dtype: int64],\n",
       " 'ticket_69': [[30, 33, 45, 48, 53, 59],\n",
       "  0    253\n",
       "  1    173\n",
       "  2     35\n",
       "  3      5\n",
       "  Name: main_balls, dtype: int64],\n",
       " 'ticket_70': [[3, 5, 7, 11, 44, 52],\n",
       "  0    231\n",
       "  1    187\n",
       "  2     39\n",
       "  3      7\n",
       "  4      2\n",
       "  Name: main_balls, dtype: int64],\n",
       " 'ticket_71': [[8, 19, 29, 30, 45, 59],\n",
       "  0    229\n",
       "  1    172\n",
       "  2     57\n",
       "  3      8\n",
       "  Name: main_balls, dtype: int64],\n",
       " 'ticket_72': [[1, 17, 21, 33, 40, 52],\n",
       "  0    238\n",
       "  1    193\n",
       "  2     32\n",
       "  3      3\n",
       "  Name: main_balls, dtype: int64],\n",
       " 'ticket_73': [[5, 12, 23, 39, 48, 51],\n",
       "  0    252\n",
       "  1    167\n",
       "  2     41\n",
       "  3      6\n",
       "  Name: main_balls, dtype: int64],\n",
       " 'ticket_74': [[8, 12, 18, 31, 33, 37],\n",
       "  0    249\n",
       "  1    164\n",
       "  2     50\n",
       "  3      3\n",
       "  Name: main_balls, dtype: int64],\n",
       " 'ticket_75': [[8, 21, 33, 40, 56, 59],\n",
       "  0    244\n",
       "  1    170\n",
       "  2     47\n",
       "  3      5\n",
       "  Name: main_balls, dtype: int64],\n",
       " 'ticket_76': [[3, 28, 29, 30, 38, 47],\n",
       "  0    238\n",
       "  1    184\n",
       "  2     38\n",
       "  3      6\n",
       "  Name: main_balls, dtype: int64],\n",
       " 'ticket_77': [[4, 13, 20, 24, 25, 30],\n",
       "  0    254\n",
       "  1    156\n",
       "  2     54\n",
       "  3      2\n",
       "  Name: main_balls, dtype: int64],\n",
       " 'ticket_78': [[13, 16, 17, 21, 52, 56],\n",
       "  0    245\n",
       "  1    168\n",
       "  2     49\n",
       "  3      4\n",
       "  Name: main_balls, dtype: int64],\n",
       " 'ticket_79': [[7, 13, 20, 43, 47, 53],\n",
       "  0    243\n",
       "  1    176\n",
       "  2     39\n",
       "  3      7\n",
       "  4      1\n",
       "  Name: main_balls, dtype: int64],\n",
       " 'ticket_80': [[10, 11, 16, 23, 29, 39],\n",
       "  0    231\n",
       "  1    176\n",
       "  2     56\n",
       "  3      3\n",
       "  Name: main_balls, dtype: int64],\n",
       " 'ticket_81': [[18, 24, 26, 27, 35, 46],\n",
       "  0    243\n",
       "  1    173\n",
       "  2     42\n",
       "  3      8\n",
       "  Name: main_balls, dtype: int64],\n",
       " 'ticket_82': [[22, 30, 33, 35, 36, 54],\n",
       "  0    234\n",
       "  1    175\n",
       "  2     52\n",
       "  3      5\n",
       "  Name: main_balls, dtype: int64],\n",
       " 'ticket_83': [[10, 19, 32, 33, 50, 53],\n",
       "  0    250\n",
       "  1    178\n",
       "  2     35\n",
       "  3      3\n",
       "  Name: main_balls, dtype: int64],\n",
       " 'ticket_84': [[6, 9, 30, 32, 55, 58],\n",
       "  0    237\n",
       "  1    173\n",
       "  2     50\n",
       "  3      6\n",
       "  Name: main_balls, dtype: int64],\n",
       " 'ticket_85': [[1, 3, 19, 32, 47, 50],\n",
       "  0    240\n",
       "  1    185\n",
       "  2     38\n",
       "  3      3\n",
       "  Name: main_balls, dtype: int64],\n",
       " 'ticket_86': [[7, 13, 21, 40, 45, 53],\n",
       "  0    242\n",
       "  1    181\n",
       "  2     36\n",
       "  3      7\n",
       "  Name: main_balls, dtype: int64],\n",
       " 'ticket_87': [[2, 21, 36, 50, 51, 54],\n",
       "  0    249\n",
       "  1    159\n",
       "  2     50\n",
       "  3      8\n",
       "  Name: main_balls, dtype: int64],\n",
       " 'ticket_88': [[10, 13, 35, 48, 53, 54],\n",
       "  0    243\n",
       "  1    172\n",
       "  2     44\n",
       "  3      7\n",
       "  Name: main_balls, dtype: int64],\n",
       " 'ticket_89': [[1, 12, 13, 22, 26, 41],\n",
       "  0    247\n",
       "  1    169\n",
       "  2     43\n",
       "  3      7\n",
       "  Name: main_balls, dtype: int64],\n",
       " 'ticket_90': [[6, 9, 17, 39, 46, 50],\n",
       "  0    253\n",
       "  1    172\n",
       "  2     35\n",
       "  3      6\n",
       "  Name: main_balls, dtype: int64],\n",
       " 'ticket_91': [[6, 14, 31, 37, 43, 46],\n",
       "  0    234\n",
       "  1    185\n",
       "  2     42\n",
       "  3      5\n",
       "  Name: main_balls, dtype: int64],\n",
       " 'ticket_92': [[6, 11, 12, 38, 44, 56],\n",
       "  0    241\n",
       "  1    178\n",
       "  2     42\n",
       "  3      5\n",
       "  Name: main_balls, dtype: int64],\n",
       " 'ticket_93': [[27, 34, 36, 37, 51, 56],\n",
       "  0    227\n",
       "  1    187\n",
       "  2     46\n",
       "  3      6\n",
       "  Name: main_balls, dtype: int64],\n",
       " 'ticket_94': [[23, 32, 37, 47, 55, 59],\n",
       "  0    237\n",
       "  1    165\n",
       "  2     56\n",
       "  3      8\n",
       "  Name: main_balls, dtype: int64],\n",
       " 'ticket_95': [[8, 12, 18, 20, 35, 53],\n",
       "  0    229\n",
       "  1    192\n",
       "  2     39\n",
       "  3      6\n",
       "  Name: main_balls, dtype: int64],\n",
       " 'ticket_96': [[33, 35, 48, 49, 51, 58],\n",
       "  0    241\n",
       "  1    180\n",
       "  2     44\n",
       "  3      1\n",
       "  Name: main_balls, dtype: int64],\n",
       " 'ticket_97': [[7, 14, 21, 24, 26, 44],\n",
       "  0    264\n",
       "  1    149\n",
       "  2     49\n",
       "  3      4\n",
       "  Name: main_balls, dtype: int64],\n",
       " 'ticket_98': [[13, 24, 28, 52, 53, 54],\n",
       "  0    241\n",
       "  1    176\n",
       "  2     47\n",
       "  3      2\n",
       "  Name: main_balls, dtype: int64],\n",
       " 'ticket_99': [[3, 23, 27, 37, 54, 59],\n",
       "  0    232\n",
       "  1    179\n",
       "  2     45\n",
       "  3     10\n",
       "  Name: main_balls, dtype: int64],\n",
       " 'ticket_100': [[12, 13, 15, 25, 26, 39],\n",
       "  0    251\n",
       "  1    163\n",
       "  2     46\n",
       "  3      6\n",
       "  Name: main_balls, dtype: int64]}"
      ]
     },
     "execution_count": 39,
     "metadata": {},
     "output_type": "execute_result"
    }
   ],
   "source": [
    "# Check how the lucky dip tickets would have fared in the 466 draws.\n",
    "hundred_results_dict = check_lucky_dip_tickets(my_lucky_dip_tickets)\n",
    "hundred_results_dict"
   ]
  },
  {
   "cell_type": "markdown",
   "metadata": {},
   "source": [
    "Although some lucky dip tickets matched four balls, to be conservative I will just focus on the number of times any winning tickets matched three balls and use an average value to adjust the total return calculated earlier. "
   ]
  },
  {
   "cell_type": "code",
   "execution_count": 40,
   "metadata": {},
   "outputs": [
    {
     "name": "stdout",
     "output_type": "stream",
     "text": [
      "Average three balls matched: 5.43\n"
     ]
    }
   ],
   "source": [
    "# For each ticket, access the value count in the dictionary corresponding to three matches.\n",
    "three_matches_count = []\n",
    "for ticket in hundred_results_dict:\n",
    "    # Check if the ticket has any three-ball matches using the lucky_dip_series.value_counts() value in the dictionary (hundred_results_dict[ticket][1]).\n",
    "    if 3 in hundred_results_dict[ticket][1].index:\n",
    "        three_matches_count.append(hundred_results_dict[ticket][1][3])\n",
    "    else:\n",
    "        three_matches_count.append(0)\n",
    "\n",
    "# Calculate the average by summing the list and dividing by the number of elements.\n",
    "print(f\"Average three balls matched: {sum(three_matches_count) / len(three_matches_count)}\")"
   ]
  },
  {
   "cell_type": "markdown",
   "metadata": {},
   "source": [
    "Based on one hundred lucky dip tickets, three balls might be matched 5.43 times in 466 draws giving a win ratio of approximately 1:86. Given this ratio and the fact that the top six numbers played earlier only provided 69 free lucky dip tickets, the previous assumption that they would give no monetary return is fair in this basic analysis."
   ]
  },
  {
   "cell_type": "markdown",
   "metadata": {},
   "source": [
    "## Summary"
   ]
  },
  {
   "cell_type": "code",
   "execution_count": null,
   "metadata": {},
   "outputs": [],
   "source": []
  }
 ],
 "metadata": {
  "kernelspec": {
   "display_name": "Python 3",
   "language": "python",
   "name": "python3"
  },
  "language_info": {
   "codemirror_mode": {
    "name": "ipython",
    "version": 3
   },
   "file_extension": ".py",
   "mimetype": "text/x-python",
   "name": "python",
   "nbconvert_exporter": "python",
   "pygments_lexer": "ipython3",
   "version": "3.7.7"
  }
 },
 "nbformat": 4,
 "nbformat_minor": 2
}
